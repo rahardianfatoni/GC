{
  "nbformat": 4,
  "nbformat_minor": 0,
  "metadata": {
    "colab": {
      "provenance": []
    },
    "kernelspec": {
      "name": "python3",
      "display_name": "Python 3"
    },
    "language_info": {
      "name": "python"
    }
  },
  "cells": [
    {
      "cell_type": "markdown",
      "source": [
        "# Introduction"
      ],
      "metadata": {
        "id": "avYwgz73NopE"
      }
    },
    {
      "cell_type": "markdown",
      "source": [
        "Name : Rahardiansyah Fatoni\n",
        "\n",
        "Batch : RMT-027\n",
        "\n",
        "Graded Course 4 - Objective : EDA, Feature Engineering, and defining, training, and evaluation of machine learning model of features to price of ride share services. Finally, we will draw a conclusion based on the results and model inference."
      ],
      "metadata": {
        "id": "v8PjiARPNsYZ"
      }
    },
    {
      "cell_type": "markdown",
      "source": [
        "# 1. Import Library"
      ],
      "metadata": {
        "id": "tZYrXWATHcDU"
      }
    },
    {
      "cell_type": "code",
      "execution_count": 2,
      "metadata": {
        "id": "TpuJV5X3iSaf"
      },
      "outputs": [],
      "source": [
        "import pandas as pd\n",
        "import numpy as np\n",
        "import matplotlib.pyplot as plt\n",
        "import seaborn as sns\n",
        "from scipy import stats\n",
        "from sklearn.preprocessing import OneHotEncoder, PolynomialFeatures,StandardScaler\n",
        "from sklearn.model_selection import train_test_split\n",
        "from sklearn.linear_model import LinearRegression, Lasso, Ridge\n",
        "from sklearn.metrics import mean_absolute_error, mean_squared_error,r2_score,classification_report, f1_score"
      ]
    },
    {
      "cell_type": "markdown",
      "source": [
        "# 2. Data Loading"
      ],
      "metadata": {
        "id": "DTyTMuIfHpuY"
      }
    },
    {
      "cell_type": "markdown",
      "source": [
        "https://www.kaggle.com/datasets/brllrb/uber-and-lyft-dataset-boston-ma?resource=download"
      ],
      "metadata": {
        "id": "GCCTUUMTgEOC"
      }
    },
    {
      "cell_type": "code",
      "source": [
        "df = pd.read_csv('/content/drive/MyDrive/Datasets/rideshare_kaggle.csv', on_bad_lines ='skip')"
      ],
      "metadata": {
        "id": "g6MYDLNQkx1e"
      },
      "execution_count": 3,
      "outputs": []
    },
    {
      "cell_type": "code",
      "source": [
        "# df.head() to see the summary of the df\n",
        "df.head().T #.T is used to show the entire column"
      ],
      "metadata": {
        "colab": {
          "base_uri": "https://localhost:8080/",
          "height": 1000
        },
        "id": "FeFkQUdMmHyV",
        "outputId": "dcb2131a-c813-4297-b398-d0f4c5864b9a"
      },
      "execution_count": 4,
      "outputs": [
        {
          "output_type": "execute_result",
          "data": {
            "text/plain": [
              "                                                                0  \\\n",
              "id                           424553bb-7174-41ea-aeb4-fe06d4f4b9d7   \n",
              "timestamp                                           1544952607.89   \n",
              "hour                                                            9   \n",
              "day                                                            16   \n",
              "month                                                          12   \n",
              "datetime                                      2018-12-16 09:30:07   \n",
              "timezone                                         America/New_York   \n",
              "source                                           Haymarket Square   \n",
              "destination                                         North Station   \n",
              "cab_type                                                     Lyft   \n",
              "product_id                                              lyft_line   \n",
              "name                                                       Shared   \n",
              "price                                                         5.0   \n",
              "distance                                                     0.44   \n",
              "surge_multiplier                                              1.0   \n",
              "latitude                                                  42.2148   \n",
              "longitude                                                 -71.033   \n",
              "temperature                                                 42.34   \n",
              "apparentTemperature                                         37.12   \n",
              "short_summary                                      Mostly Cloudy    \n",
              "long_summary                            Rain throughout the day.    \n",
              "precipIntensity                                               0.0   \n",
              "precipProbability                                             0.0   \n",
              "humidity                                                     0.68   \n",
              "windSpeed                                                    8.66   \n",
              "windGust                                                     9.17   \n",
              "windGustTime                                           1545015600   \n",
              "visibility                                                   10.0   \n",
              "temperatureHigh                                             43.68   \n",
              "temperatureHighTime                                    1544968800   \n",
              "temperatureLow                                              34.19   \n",
              "temperatureLowTime                                     1545048000   \n",
              "apparentTemperatureHigh                                     37.95   \n",
              "apparentTemperatureHighTime                            1544968800   \n",
              "apparentTemperatureLow                                      27.39   \n",
              "apparentTemperatureLowTime                             1545044400   \n",
              "icon                                         partly-cloudy-night    \n",
              "dewPoint                                                     32.7   \n",
              "pressure                                                  1021.98   \n",
              "windBearing                                                    57   \n",
              "cloudCover                                                   0.72   \n",
              "uvIndex                                                         0   \n",
              "visibility.1                                                 10.0   \n",
              "ozone                                                       303.8   \n",
              "sunriseTime                                            1544962084   \n",
              "sunsetTime                                             1544994864   \n",
              "moonPhase                                                     0.3   \n",
              "precipIntensityMax                                         0.1276   \n",
              "uvIndexTime                                            1544979600   \n",
              "temperatureMin                                              39.89   \n",
              "temperatureMinTime                                     1545012000   \n",
              "temperatureMax                                              43.68   \n",
              "temperatureMaxTime                                     1544968800   \n",
              "apparentTemperatureMin                                      33.73   \n",
              "apparentTemperatureMinTime                             1545012000   \n",
              "apparentTemperatureMax                                      38.07   \n",
              "apparentTemperatureMaxTime                             1544958000   \n",
              "\n",
              "                                                                             1  \\\n",
              "id                                        4bd23055-6827-41c6-b23b-3c491f24e74d   \n",
              "timestamp                                                       1543284023.677   \n",
              "hour                                                                         2   \n",
              "day                                                                         27   \n",
              "month                                                                       11   \n",
              "datetime                                                   2018-11-27 02:00:23   \n",
              "timezone                                                      America/New_York   \n",
              "source                                                        Haymarket Square   \n",
              "destination                                                      North Station   \n",
              "cab_type                                                                  Lyft   \n",
              "product_id                                                        lyft_premier   \n",
              "name                                                                       Lux   \n",
              "price                                                                     11.0   \n",
              "distance                                                                  0.44   \n",
              "surge_multiplier                                                           1.0   \n",
              "latitude                                                               42.2148   \n",
              "longitude                                                              -71.033   \n",
              "temperature                                                              43.58   \n",
              "apparentTemperature                                                      37.35   \n",
              "short_summary                                                            Rain    \n",
              "long_summary                  Rain until morning, starting again in the eve...   \n",
              "precipIntensity                                                         0.1299   \n",
              "precipProbability                                                          1.0   \n",
              "humidity                                                                  0.94   \n",
              "windSpeed                                                                11.98   \n",
              "windGust                                                                 11.98   \n",
              "windGustTime                                                        1543291200   \n",
              "visibility                                                               4.786   \n",
              "temperatureHigh                                                           47.3   \n",
              "temperatureHighTime                                                 1543251600   \n",
              "temperatureLow                                                            42.1   \n",
              "temperatureLowTime                                                  1543298400   \n",
              "apparentTemperatureHigh                                                  43.92   \n",
              "apparentTemperatureHighTime                                         1543251600   \n",
              "apparentTemperatureLow                                                    36.2   \n",
              "apparentTemperatureLowTime                                          1543291200   \n",
              "icon                                                                     rain    \n",
              "dewPoint                                                                 41.83   \n",
              "pressure                                                               1003.97   \n",
              "windBearing                                                                 90   \n",
              "cloudCover                                                                 1.0   \n",
              "uvIndex                                                                      0   \n",
              "visibility.1                                                             4.786   \n",
              "ozone                                                                    291.1   \n",
              "sunriseTime                                                         1543232969   \n",
              "sunsetTime                                                          1543266992   \n",
              "moonPhase                                                                 0.64   \n",
              "precipIntensityMax                                                        0.13   \n",
              "uvIndexTime                                                         1543251600   \n",
              "temperatureMin                                                           40.49   \n",
              "temperatureMinTime                                                  1543233600   \n",
              "temperatureMax                                                            47.3   \n",
              "temperatureMaxTime                                                  1543251600   \n",
              "apparentTemperatureMin                                                    36.2   \n",
              "apparentTemperatureMinTime                                          1543291200   \n",
              "apparentTemperatureMax                                                   43.92   \n",
              "apparentTemperatureMaxTime                                          1543251600   \n",
              "\n",
              "                                                                2  \\\n",
              "id                           981a3613-77af-4620-a42a-0c0866077d1e   \n",
              "timestamp                                          1543366822.198   \n",
              "hour                                                            1   \n",
              "day                                                            28   \n",
              "month                                                          11   \n",
              "datetime                                      2018-11-28 01:00:22   \n",
              "timezone                                         America/New_York   \n",
              "source                                           Haymarket Square   \n",
              "destination                                         North Station   \n",
              "cab_type                                                     Lyft   \n",
              "product_id                                                   lyft   \n",
              "name                                                         Lyft   \n",
              "price                                                         7.0   \n",
              "distance                                                     0.44   \n",
              "surge_multiplier                                              1.0   \n",
              "latitude                                                  42.2148   \n",
              "longitude                                                 -71.033   \n",
              "temperature                                                 38.33   \n",
              "apparentTemperature                                         32.93   \n",
              "short_summary                                              Clear    \n",
              "long_summary                          Light rain in the morning.    \n",
              "precipIntensity                                               0.0   \n",
              "precipProbability                                             0.0   \n",
              "humidity                                                     0.75   \n",
              "windSpeed                                                    7.33   \n",
              "windGust                                                     7.33   \n",
              "windGustTime                                           1543334400   \n",
              "visibility                                                   10.0   \n",
              "temperatureHigh                                             47.55   \n",
              "temperatureHighTime                                    1543320000   \n",
              "temperatureLow                                               33.1   \n",
              "temperatureLowTime                                     1543402800   \n",
              "apparentTemperatureHigh                                     44.12   \n",
              "apparentTemperatureHighTime                            1543320000   \n",
              "apparentTemperatureLow                                      29.11   \n",
              "apparentTemperatureLowTime                             1543392000   \n",
              "icon                                                 clear-night    \n",
              "dewPoint                                                     31.1   \n",
              "pressure                                                   992.28   \n",
              "windBearing                                                   240   \n",
              "cloudCover                                                   0.03   \n",
              "uvIndex                                                         0   \n",
              "visibility.1                                                 10.0   \n",
              "ozone                                                       315.7   \n",
              "sunriseTime                                            1543319437   \n",
              "sunsetTime                                             1543353364   \n",
              "moonPhase                                                    0.68   \n",
              "precipIntensityMax                                         0.1064   \n",
              "uvIndexTime                                            1543338000   \n",
              "temperatureMin                                              35.36   \n",
              "temperatureMinTime                                     1543377600   \n",
              "temperatureMax                                              47.55   \n",
              "temperatureMaxTime                                     1543320000   \n",
              "apparentTemperatureMin                                      31.04   \n",
              "apparentTemperatureMinTime                             1543377600   \n",
              "apparentTemperatureMax                                      44.12   \n",
              "apparentTemperatureMaxTime                             1543320000   \n",
              "\n",
              "                                                                3  \\\n",
              "id                           c2d88af2-d278-4bfd-a8d0-29ca77cc5512   \n",
              "timestamp                                          1543553582.749   \n",
              "hour                                                            4   \n",
              "day                                                            30   \n",
              "month                                                          11   \n",
              "datetime                                      2018-11-30 04:53:02   \n",
              "timezone                                         America/New_York   \n",
              "source                                           Haymarket Square   \n",
              "destination                                         North Station   \n",
              "cab_type                                                     Lyft   \n",
              "product_id                                            lyft_luxsuv   \n",
              "name                                                 Lux Black XL   \n",
              "price                                                        26.0   \n",
              "distance                                                     0.44   \n",
              "surge_multiplier                                              1.0   \n",
              "latitude                                                  42.2148   \n",
              "longitude                                                 -71.033   \n",
              "temperature                                                 34.38   \n",
              "apparentTemperature                                         29.63   \n",
              "short_summary                                              Clear    \n",
              "long_summary                   Partly cloudy throughout the day.    \n",
              "precipIntensity                                               0.0   \n",
              "precipProbability                                             0.0   \n",
              "humidity                                                     0.73   \n",
              "windSpeed                                                    5.28   \n",
              "windGust                                                     5.28   \n",
              "windGustTime                                           1543514400   \n",
              "visibility                                                   10.0   \n",
              "temperatureHigh                                             45.03   \n",
              "temperatureHighTime                                    1543510800   \n",
              "temperatureLow                                               28.9   \n",
              "temperatureLowTime                                     1543579200   \n",
              "apparentTemperatureHigh                                     38.53   \n",
              "apparentTemperatureHighTime                            1543510800   \n",
              "apparentTemperatureLow                                       26.2   \n",
              "apparentTemperatureLowTime                             1543575600   \n",
              "icon                                                 clear-night    \n",
              "dewPoint                                                    26.64   \n",
              "pressure                                                  1013.73   \n",
              "windBearing                                                   310   \n",
              "cloudCover                                                    0.0   \n",
              "uvIndex                                                         0   \n",
              "visibility.1                                                 10.0   \n",
              "ozone                                                       291.1   \n",
              "sunriseTime                                            1543492370   \n",
              "sunsetTime                                             1543526114   \n",
              "moonPhase                                                    0.75   \n",
              "precipIntensityMax                                            0.0   \n",
              "uvIndexTime                                            1543507200   \n",
              "temperatureMin                                              34.67   \n",
              "temperatureMinTime                                     1543550400   \n",
              "temperatureMax                                              45.03   \n",
              "temperatureMaxTime                                     1543510800   \n",
              "apparentTemperatureMin                                       30.3   \n",
              "apparentTemperatureMinTime                             1543550400   \n",
              "apparentTemperatureMax                                      38.53   \n",
              "apparentTemperatureMaxTime                             1543510800   \n",
              "\n",
              "                                                                4  \n",
              "id                           e0126e1f-8ca9-4f2e-82b3-50505a09db9a  \n",
              "timestamp                                          1543463360.223  \n",
              "hour                                                            3  \n",
              "day                                                            29  \n",
              "month                                                          11  \n",
              "datetime                                      2018-11-29 03:49:20  \n",
              "timezone                                         America/New_York  \n",
              "source                                           Haymarket Square  \n",
              "destination                                         North Station  \n",
              "cab_type                                                     Lyft  \n",
              "product_id                                              lyft_plus  \n",
              "name                                                      Lyft XL  \n",
              "price                                                         9.0  \n",
              "distance                                                     0.44  \n",
              "surge_multiplier                                              1.0  \n",
              "latitude                                                  42.2148  \n",
              "longitude                                                 -71.033  \n",
              "temperature                                                 37.44  \n",
              "apparentTemperature                                         30.88  \n",
              "short_summary                                      Partly Cloudy   \n",
              "long_summary                   Mostly cloudy throughout the day.   \n",
              "precipIntensity                                               0.0  \n",
              "precipProbability                                             0.0  \n",
              "humidity                                                      0.7  \n",
              "windSpeed                                                    9.14  \n",
              "windGust                                                     9.14  \n",
              "windGustTime                                           1543446000  \n",
              "visibility                                                   10.0  \n",
              "temperatureHigh                                             42.18  \n",
              "temperatureHighTime                                    1543420800  \n",
              "temperatureLow                                              36.71  \n",
              "temperatureLowTime                                     1543478400  \n",
              "apparentTemperatureHigh                                     35.75  \n",
              "apparentTemperatureHighTime                            1543420800  \n",
              "apparentTemperatureLow                                      30.29  \n",
              "apparentTemperatureLowTime                             1543460400  \n",
              "icon                                         partly-cloudy-night   \n",
              "dewPoint                                                    28.61  \n",
              "pressure                                                   998.36  \n",
              "windBearing                                                   303  \n",
              "cloudCover                                                   0.44  \n",
              "uvIndex                                                         0  \n",
              "visibility.1                                                 10.0  \n",
              "ozone                                                       347.7  \n",
              "sunriseTime                                            1543405904  \n",
              "sunsetTime                                             1543439738  \n",
              "moonPhase                                                    0.72  \n",
              "precipIntensityMax                                         0.0001  \n",
              "uvIndexTime                                            1543420800  \n",
              "temperatureMin                                               33.1  \n",
              "temperatureMinTime                                     1543402800  \n",
              "temperatureMax                                              42.18  \n",
              "temperatureMaxTime                                     1543420800  \n",
              "apparentTemperatureMin                                      29.11  \n",
              "apparentTemperatureMinTime                             1543392000  \n",
              "apparentTemperatureMax                                      35.75  \n",
              "apparentTemperatureMaxTime                             1543420800  "
            ],
            "text/html": [
              "\n",
              "  <div id=\"df-56ea15cb-f0ba-465a-b874-9c01a13c09ed\" class=\"colab-df-container\">\n",
              "    <div>\n",
              "<style scoped>\n",
              "    .dataframe tbody tr th:only-of-type {\n",
              "        vertical-align: middle;\n",
              "    }\n",
              "\n",
              "    .dataframe tbody tr th {\n",
              "        vertical-align: top;\n",
              "    }\n",
              "\n",
              "    .dataframe thead th {\n",
              "        text-align: right;\n",
              "    }\n",
              "</style>\n",
              "<table border=\"1\" class=\"dataframe\">\n",
              "  <thead>\n",
              "    <tr style=\"text-align: right;\">\n",
              "      <th></th>\n",
              "      <th>0</th>\n",
              "      <th>1</th>\n",
              "      <th>2</th>\n",
              "      <th>3</th>\n",
              "      <th>4</th>\n",
              "    </tr>\n",
              "  </thead>\n",
              "  <tbody>\n",
              "    <tr>\n",
              "      <th>id</th>\n",
              "      <td>424553bb-7174-41ea-aeb4-fe06d4f4b9d7</td>\n",
              "      <td>4bd23055-6827-41c6-b23b-3c491f24e74d</td>\n",
              "      <td>981a3613-77af-4620-a42a-0c0866077d1e</td>\n",
              "      <td>c2d88af2-d278-4bfd-a8d0-29ca77cc5512</td>\n",
              "      <td>e0126e1f-8ca9-4f2e-82b3-50505a09db9a</td>\n",
              "    </tr>\n",
              "    <tr>\n",
              "      <th>timestamp</th>\n",
              "      <td>1544952607.89</td>\n",
              "      <td>1543284023.677</td>\n",
              "      <td>1543366822.198</td>\n",
              "      <td>1543553582.749</td>\n",
              "      <td>1543463360.223</td>\n",
              "    </tr>\n",
              "    <tr>\n",
              "      <th>hour</th>\n",
              "      <td>9</td>\n",
              "      <td>2</td>\n",
              "      <td>1</td>\n",
              "      <td>4</td>\n",
              "      <td>3</td>\n",
              "    </tr>\n",
              "    <tr>\n",
              "      <th>day</th>\n",
              "      <td>16</td>\n",
              "      <td>27</td>\n",
              "      <td>28</td>\n",
              "      <td>30</td>\n",
              "      <td>29</td>\n",
              "    </tr>\n",
              "    <tr>\n",
              "      <th>month</th>\n",
              "      <td>12</td>\n",
              "      <td>11</td>\n",
              "      <td>11</td>\n",
              "      <td>11</td>\n",
              "      <td>11</td>\n",
              "    </tr>\n",
              "    <tr>\n",
              "      <th>datetime</th>\n",
              "      <td>2018-12-16 09:30:07</td>\n",
              "      <td>2018-11-27 02:00:23</td>\n",
              "      <td>2018-11-28 01:00:22</td>\n",
              "      <td>2018-11-30 04:53:02</td>\n",
              "      <td>2018-11-29 03:49:20</td>\n",
              "    </tr>\n",
              "    <tr>\n",
              "      <th>timezone</th>\n",
              "      <td>America/New_York</td>\n",
              "      <td>America/New_York</td>\n",
              "      <td>America/New_York</td>\n",
              "      <td>America/New_York</td>\n",
              "      <td>America/New_York</td>\n",
              "    </tr>\n",
              "    <tr>\n",
              "      <th>source</th>\n",
              "      <td>Haymarket Square</td>\n",
              "      <td>Haymarket Square</td>\n",
              "      <td>Haymarket Square</td>\n",
              "      <td>Haymarket Square</td>\n",
              "      <td>Haymarket Square</td>\n",
              "    </tr>\n",
              "    <tr>\n",
              "      <th>destination</th>\n",
              "      <td>North Station</td>\n",
              "      <td>North Station</td>\n",
              "      <td>North Station</td>\n",
              "      <td>North Station</td>\n",
              "      <td>North Station</td>\n",
              "    </tr>\n",
              "    <tr>\n",
              "      <th>cab_type</th>\n",
              "      <td>Lyft</td>\n",
              "      <td>Lyft</td>\n",
              "      <td>Lyft</td>\n",
              "      <td>Lyft</td>\n",
              "      <td>Lyft</td>\n",
              "    </tr>\n",
              "    <tr>\n",
              "      <th>product_id</th>\n",
              "      <td>lyft_line</td>\n",
              "      <td>lyft_premier</td>\n",
              "      <td>lyft</td>\n",
              "      <td>lyft_luxsuv</td>\n",
              "      <td>lyft_plus</td>\n",
              "    </tr>\n",
              "    <tr>\n",
              "      <th>name</th>\n",
              "      <td>Shared</td>\n",
              "      <td>Lux</td>\n",
              "      <td>Lyft</td>\n",
              "      <td>Lux Black XL</td>\n",
              "      <td>Lyft XL</td>\n",
              "    </tr>\n",
              "    <tr>\n",
              "      <th>price</th>\n",
              "      <td>5.0</td>\n",
              "      <td>11.0</td>\n",
              "      <td>7.0</td>\n",
              "      <td>26.0</td>\n",
              "      <td>9.0</td>\n",
              "    </tr>\n",
              "    <tr>\n",
              "      <th>distance</th>\n",
              "      <td>0.44</td>\n",
              "      <td>0.44</td>\n",
              "      <td>0.44</td>\n",
              "      <td>0.44</td>\n",
              "      <td>0.44</td>\n",
              "    </tr>\n",
              "    <tr>\n",
              "      <th>surge_multiplier</th>\n",
              "      <td>1.0</td>\n",
              "      <td>1.0</td>\n",
              "      <td>1.0</td>\n",
              "      <td>1.0</td>\n",
              "      <td>1.0</td>\n",
              "    </tr>\n",
              "    <tr>\n",
              "      <th>latitude</th>\n",
              "      <td>42.2148</td>\n",
              "      <td>42.2148</td>\n",
              "      <td>42.2148</td>\n",
              "      <td>42.2148</td>\n",
              "      <td>42.2148</td>\n",
              "    </tr>\n",
              "    <tr>\n",
              "      <th>longitude</th>\n",
              "      <td>-71.033</td>\n",
              "      <td>-71.033</td>\n",
              "      <td>-71.033</td>\n",
              "      <td>-71.033</td>\n",
              "      <td>-71.033</td>\n",
              "    </tr>\n",
              "    <tr>\n",
              "      <th>temperature</th>\n",
              "      <td>42.34</td>\n",
              "      <td>43.58</td>\n",
              "      <td>38.33</td>\n",
              "      <td>34.38</td>\n",
              "      <td>37.44</td>\n",
              "    </tr>\n",
              "    <tr>\n",
              "      <th>apparentTemperature</th>\n",
              "      <td>37.12</td>\n",
              "      <td>37.35</td>\n",
              "      <td>32.93</td>\n",
              "      <td>29.63</td>\n",
              "      <td>30.88</td>\n",
              "    </tr>\n",
              "    <tr>\n",
              "      <th>short_summary</th>\n",
              "      <td>Mostly Cloudy</td>\n",
              "      <td>Rain</td>\n",
              "      <td>Clear</td>\n",
              "      <td>Clear</td>\n",
              "      <td>Partly Cloudy</td>\n",
              "    </tr>\n",
              "    <tr>\n",
              "      <th>long_summary</th>\n",
              "      <td>Rain throughout the day.</td>\n",
              "      <td>Rain until morning, starting again in the eve...</td>\n",
              "      <td>Light rain in the morning.</td>\n",
              "      <td>Partly cloudy throughout the day.</td>\n",
              "      <td>Mostly cloudy throughout the day.</td>\n",
              "    </tr>\n",
              "    <tr>\n",
              "      <th>precipIntensity</th>\n",
              "      <td>0.0</td>\n",
              "      <td>0.1299</td>\n",
              "      <td>0.0</td>\n",
              "      <td>0.0</td>\n",
              "      <td>0.0</td>\n",
              "    </tr>\n",
              "    <tr>\n",
              "      <th>precipProbability</th>\n",
              "      <td>0.0</td>\n",
              "      <td>1.0</td>\n",
              "      <td>0.0</td>\n",
              "      <td>0.0</td>\n",
              "      <td>0.0</td>\n",
              "    </tr>\n",
              "    <tr>\n",
              "      <th>humidity</th>\n",
              "      <td>0.68</td>\n",
              "      <td>0.94</td>\n",
              "      <td>0.75</td>\n",
              "      <td>0.73</td>\n",
              "      <td>0.7</td>\n",
              "    </tr>\n",
              "    <tr>\n",
              "      <th>windSpeed</th>\n",
              "      <td>8.66</td>\n",
              "      <td>11.98</td>\n",
              "      <td>7.33</td>\n",
              "      <td>5.28</td>\n",
              "      <td>9.14</td>\n",
              "    </tr>\n",
              "    <tr>\n",
              "      <th>windGust</th>\n",
              "      <td>9.17</td>\n",
              "      <td>11.98</td>\n",
              "      <td>7.33</td>\n",
              "      <td>5.28</td>\n",
              "      <td>9.14</td>\n",
              "    </tr>\n",
              "    <tr>\n",
              "      <th>windGustTime</th>\n",
              "      <td>1545015600</td>\n",
              "      <td>1543291200</td>\n",
              "      <td>1543334400</td>\n",
              "      <td>1543514400</td>\n",
              "      <td>1543446000</td>\n",
              "    </tr>\n",
              "    <tr>\n",
              "      <th>visibility</th>\n",
              "      <td>10.0</td>\n",
              "      <td>4.786</td>\n",
              "      <td>10.0</td>\n",
              "      <td>10.0</td>\n",
              "      <td>10.0</td>\n",
              "    </tr>\n",
              "    <tr>\n",
              "      <th>temperatureHigh</th>\n",
              "      <td>43.68</td>\n",
              "      <td>47.3</td>\n",
              "      <td>47.55</td>\n",
              "      <td>45.03</td>\n",
              "      <td>42.18</td>\n",
              "    </tr>\n",
              "    <tr>\n",
              "      <th>temperatureHighTime</th>\n",
              "      <td>1544968800</td>\n",
              "      <td>1543251600</td>\n",
              "      <td>1543320000</td>\n",
              "      <td>1543510800</td>\n",
              "      <td>1543420800</td>\n",
              "    </tr>\n",
              "    <tr>\n",
              "      <th>temperatureLow</th>\n",
              "      <td>34.19</td>\n",
              "      <td>42.1</td>\n",
              "      <td>33.1</td>\n",
              "      <td>28.9</td>\n",
              "      <td>36.71</td>\n",
              "    </tr>\n",
              "    <tr>\n",
              "      <th>temperatureLowTime</th>\n",
              "      <td>1545048000</td>\n",
              "      <td>1543298400</td>\n",
              "      <td>1543402800</td>\n",
              "      <td>1543579200</td>\n",
              "      <td>1543478400</td>\n",
              "    </tr>\n",
              "    <tr>\n",
              "      <th>apparentTemperatureHigh</th>\n",
              "      <td>37.95</td>\n",
              "      <td>43.92</td>\n",
              "      <td>44.12</td>\n",
              "      <td>38.53</td>\n",
              "      <td>35.75</td>\n",
              "    </tr>\n",
              "    <tr>\n",
              "      <th>apparentTemperatureHighTime</th>\n",
              "      <td>1544968800</td>\n",
              "      <td>1543251600</td>\n",
              "      <td>1543320000</td>\n",
              "      <td>1543510800</td>\n",
              "      <td>1543420800</td>\n",
              "    </tr>\n",
              "    <tr>\n",
              "      <th>apparentTemperatureLow</th>\n",
              "      <td>27.39</td>\n",
              "      <td>36.2</td>\n",
              "      <td>29.11</td>\n",
              "      <td>26.2</td>\n",
              "      <td>30.29</td>\n",
              "    </tr>\n",
              "    <tr>\n",
              "      <th>apparentTemperatureLowTime</th>\n",
              "      <td>1545044400</td>\n",
              "      <td>1543291200</td>\n",
              "      <td>1543392000</td>\n",
              "      <td>1543575600</td>\n",
              "      <td>1543460400</td>\n",
              "    </tr>\n",
              "    <tr>\n",
              "      <th>icon</th>\n",
              "      <td>partly-cloudy-night</td>\n",
              "      <td>rain</td>\n",
              "      <td>clear-night</td>\n",
              "      <td>clear-night</td>\n",
              "      <td>partly-cloudy-night</td>\n",
              "    </tr>\n",
              "    <tr>\n",
              "      <th>dewPoint</th>\n",
              "      <td>32.7</td>\n",
              "      <td>41.83</td>\n",
              "      <td>31.1</td>\n",
              "      <td>26.64</td>\n",
              "      <td>28.61</td>\n",
              "    </tr>\n",
              "    <tr>\n",
              "      <th>pressure</th>\n",
              "      <td>1021.98</td>\n",
              "      <td>1003.97</td>\n",
              "      <td>992.28</td>\n",
              "      <td>1013.73</td>\n",
              "      <td>998.36</td>\n",
              "    </tr>\n",
              "    <tr>\n",
              "      <th>windBearing</th>\n",
              "      <td>57</td>\n",
              "      <td>90</td>\n",
              "      <td>240</td>\n",
              "      <td>310</td>\n",
              "      <td>303</td>\n",
              "    </tr>\n",
              "    <tr>\n",
              "      <th>cloudCover</th>\n",
              "      <td>0.72</td>\n",
              "      <td>1.0</td>\n",
              "      <td>0.03</td>\n",
              "      <td>0.0</td>\n",
              "      <td>0.44</td>\n",
              "    </tr>\n",
              "    <tr>\n",
              "      <th>uvIndex</th>\n",
              "      <td>0</td>\n",
              "      <td>0</td>\n",
              "      <td>0</td>\n",
              "      <td>0</td>\n",
              "      <td>0</td>\n",
              "    </tr>\n",
              "    <tr>\n",
              "      <th>visibility.1</th>\n",
              "      <td>10.0</td>\n",
              "      <td>4.786</td>\n",
              "      <td>10.0</td>\n",
              "      <td>10.0</td>\n",
              "      <td>10.0</td>\n",
              "    </tr>\n",
              "    <tr>\n",
              "      <th>ozone</th>\n",
              "      <td>303.8</td>\n",
              "      <td>291.1</td>\n",
              "      <td>315.7</td>\n",
              "      <td>291.1</td>\n",
              "      <td>347.7</td>\n",
              "    </tr>\n",
              "    <tr>\n",
              "      <th>sunriseTime</th>\n",
              "      <td>1544962084</td>\n",
              "      <td>1543232969</td>\n",
              "      <td>1543319437</td>\n",
              "      <td>1543492370</td>\n",
              "      <td>1543405904</td>\n",
              "    </tr>\n",
              "    <tr>\n",
              "      <th>sunsetTime</th>\n",
              "      <td>1544994864</td>\n",
              "      <td>1543266992</td>\n",
              "      <td>1543353364</td>\n",
              "      <td>1543526114</td>\n",
              "      <td>1543439738</td>\n",
              "    </tr>\n",
              "    <tr>\n",
              "      <th>moonPhase</th>\n",
              "      <td>0.3</td>\n",
              "      <td>0.64</td>\n",
              "      <td>0.68</td>\n",
              "      <td>0.75</td>\n",
              "      <td>0.72</td>\n",
              "    </tr>\n",
              "    <tr>\n",
              "      <th>precipIntensityMax</th>\n",
              "      <td>0.1276</td>\n",
              "      <td>0.13</td>\n",
              "      <td>0.1064</td>\n",
              "      <td>0.0</td>\n",
              "      <td>0.0001</td>\n",
              "    </tr>\n",
              "    <tr>\n",
              "      <th>uvIndexTime</th>\n",
              "      <td>1544979600</td>\n",
              "      <td>1543251600</td>\n",
              "      <td>1543338000</td>\n",
              "      <td>1543507200</td>\n",
              "      <td>1543420800</td>\n",
              "    </tr>\n",
              "    <tr>\n",
              "      <th>temperatureMin</th>\n",
              "      <td>39.89</td>\n",
              "      <td>40.49</td>\n",
              "      <td>35.36</td>\n",
              "      <td>34.67</td>\n",
              "      <td>33.1</td>\n",
              "    </tr>\n",
              "    <tr>\n",
              "      <th>temperatureMinTime</th>\n",
              "      <td>1545012000</td>\n",
              "      <td>1543233600</td>\n",
              "      <td>1543377600</td>\n",
              "      <td>1543550400</td>\n",
              "      <td>1543402800</td>\n",
              "    </tr>\n",
              "    <tr>\n",
              "      <th>temperatureMax</th>\n",
              "      <td>43.68</td>\n",
              "      <td>47.3</td>\n",
              "      <td>47.55</td>\n",
              "      <td>45.03</td>\n",
              "      <td>42.18</td>\n",
              "    </tr>\n",
              "    <tr>\n",
              "      <th>temperatureMaxTime</th>\n",
              "      <td>1544968800</td>\n",
              "      <td>1543251600</td>\n",
              "      <td>1543320000</td>\n",
              "      <td>1543510800</td>\n",
              "      <td>1543420800</td>\n",
              "    </tr>\n",
              "    <tr>\n",
              "      <th>apparentTemperatureMin</th>\n",
              "      <td>33.73</td>\n",
              "      <td>36.2</td>\n",
              "      <td>31.04</td>\n",
              "      <td>30.3</td>\n",
              "      <td>29.11</td>\n",
              "    </tr>\n",
              "    <tr>\n",
              "      <th>apparentTemperatureMinTime</th>\n",
              "      <td>1545012000</td>\n",
              "      <td>1543291200</td>\n",
              "      <td>1543377600</td>\n",
              "      <td>1543550400</td>\n",
              "      <td>1543392000</td>\n",
              "    </tr>\n",
              "    <tr>\n",
              "      <th>apparentTemperatureMax</th>\n",
              "      <td>38.07</td>\n",
              "      <td>43.92</td>\n",
              "      <td>44.12</td>\n",
              "      <td>38.53</td>\n",
              "      <td>35.75</td>\n",
              "    </tr>\n",
              "    <tr>\n",
              "      <th>apparentTemperatureMaxTime</th>\n",
              "      <td>1544958000</td>\n",
              "      <td>1543251600</td>\n",
              "      <td>1543320000</td>\n",
              "      <td>1543510800</td>\n",
              "      <td>1543420800</td>\n",
              "    </tr>\n",
              "  </tbody>\n",
              "</table>\n",
              "</div>\n",
              "    <div class=\"colab-df-buttons\">\n",
              "\n",
              "  <div class=\"colab-df-container\">\n",
              "    <button class=\"colab-df-convert\" onclick=\"convertToInteractive('df-56ea15cb-f0ba-465a-b874-9c01a13c09ed')\"\n",
              "            title=\"Convert this dataframe to an interactive table.\"\n",
              "            style=\"display:none;\">\n",
              "\n",
              "  <svg xmlns=\"http://www.w3.org/2000/svg\" height=\"24px\" viewBox=\"0 -960 960 960\">\n",
              "    <path d=\"M120-120v-720h720v720H120Zm60-500h600v-160H180v160Zm220 220h160v-160H400v160Zm0 220h160v-160H400v160ZM180-400h160v-160H180v160Zm440 0h160v-160H620v160ZM180-180h160v-160H180v160Zm440 0h160v-160H620v160Z\"/>\n",
              "  </svg>\n",
              "    </button>\n",
              "\n",
              "  <style>\n",
              "    .colab-df-container {\n",
              "      display:flex;\n",
              "      gap: 12px;\n",
              "    }\n",
              "\n",
              "    .colab-df-convert {\n",
              "      background-color: #E8F0FE;\n",
              "      border: none;\n",
              "      border-radius: 50%;\n",
              "      cursor: pointer;\n",
              "      display: none;\n",
              "      fill: #1967D2;\n",
              "      height: 32px;\n",
              "      padding: 0 0 0 0;\n",
              "      width: 32px;\n",
              "    }\n",
              "\n",
              "    .colab-df-convert:hover {\n",
              "      background-color: #E2EBFA;\n",
              "      box-shadow: 0px 1px 2px rgba(60, 64, 67, 0.3), 0px 1px 3px 1px rgba(60, 64, 67, 0.15);\n",
              "      fill: #174EA6;\n",
              "    }\n",
              "\n",
              "    .colab-df-buttons div {\n",
              "      margin-bottom: 4px;\n",
              "    }\n",
              "\n",
              "    [theme=dark] .colab-df-convert {\n",
              "      background-color: #3B4455;\n",
              "      fill: #D2E3FC;\n",
              "    }\n",
              "\n",
              "    [theme=dark] .colab-df-convert:hover {\n",
              "      background-color: #434B5C;\n",
              "      box-shadow: 0px 1px 3px 1px rgba(0, 0, 0, 0.15);\n",
              "      filter: drop-shadow(0px 1px 2px rgba(0, 0, 0, 0.3));\n",
              "      fill: #FFFFFF;\n",
              "    }\n",
              "  </style>\n",
              "\n",
              "    <script>\n",
              "      const buttonEl =\n",
              "        document.querySelector('#df-56ea15cb-f0ba-465a-b874-9c01a13c09ed button.colab-df-convert');\n",
              "      buttonEl.style.display =\n",
              "        google.colab.kernel.accessAllowed ? 'block' : 'none';\n",
              "\n",
              "      async function convertToInteractive(key) {\n",
              "        const element = document.querySelector('#df-56ea15cb-f0ba-465a-b874-9c01a13c09ed');\n",
              "        const dataTable =\n",
              "          await google.colab.kernel.invokeFunction('convertToInteractive',\n",
              "                                                    [key], {});\n",
              "        if (!dataTable) return;\n",
              "\n",
              "        const docLinkHtml = 'Like what you see? Visit the ' +\n",
              "          '<a target=\"_blank\" href=https://colab.research.google.com/notebooks/data_table.ipynb>data table notebook</a>'\n",
              "          + ' to learn more about interactive tables.';\n",
              "        element.innerHTML = '';\n",
              "        dataTable['output_type'] = 'display_data';\n",
              "        await google.colab.output.renderOutput(dataTable, element);\n",
              "        const docLink = document.createElement('div');\n",
              "        docLink.innerHTML = docLinkHtml;\n",
              "        element.appendChild(docLink);\n",
              "      }\n",
              "    </script>\n",
              "  </div>\n",
              "\n",
              "\n",
              "<div id=\"df-4c8036d0-0da6-40ac-8db6-bd52f39d3ab1\">\n",
              "  <button class=\"colab-df-quickchart\" onclick=\"quickchart('df-4c8036d0-0da6-40ac-8db6-bd52f39d3ab1')\"\n",
              "            title=\"Suggest charts\"\n",
              "            style=\"display:none;\">\n",
              "\n",
              "<svg xmlns=\"http://www.w3.org/2000/svg\" height=\"24px\"viewBox=\"0 0 24 24\"\n",
              "     width=\"24px\">\n",
              "    <g>\n",
              "        <path d=\"M19 3H5c-1.1 0-2 .9-2 2v14c0 1.1.9 2 2 2h14c1.1 0 2-.9 2-2V5c0-1.1-.9-2-2-2zM9 17H7v-7h2v7zm4 0h-2V7h2v10zm4 0h-2v-4h2v4z\"/>\n",
              "    </g>\n",
              "</svg>\n",
              "  </button>\n",
              "\n",
              "<style>\n",
              "  .colab-df-quickchart {\n",
              "      --bg-color: #E8F0FE;\n",
              "      --fill-color: #1967D2;\n",
              "      --hover-bg-color: #E2EBFA;\n",
              "      --hover-fill-color: #174EA6;\n",
              "      --disabled-fill-color: #AAA;\n",
              "      --disabled-bg-color: #DDD;\n",
              "  }\n",
              "\n",
              "  [theme=dark] .colab-df-quickchart {\n",
              "      --bg-color: #3B4455;\n",
              "      --fill-color: #D2E3FC;\n",
              "      --hover-bg-color: #434B5C;\n",
              "      --hover-fill-color: #FFFFFF;\n",
              "      --disabled-bg-color: #3B4455;\n",
              "      --disabled-fill-color: #666;\n",
              "  }\n",
              "\n",
              "  .colab-df-quickchart {\n",
              "    background-color: var(--bg-color);\n",
              "    border: none;\n",
              "    border-radius: 50%;\n",
              "    cursor: pointer;\n",
              "    display: none;\n",
              "    fill: var(--fill-color);\n",
              "    height: 32px;\n",
              "    padding: 0;\n",
              "    width: 32px;\n",
              "  }\n",
              "\n",
              "  .colab-df-quickchart:hover {\n",
              "    background-color: var(--hover-bg-color);\n",
              "    box-shadow: 0 1px 2px rgba(60, 64, 67, 0.3), 0 1px 3px 1px rgba(60, 64, 67, 0.15);\n",
              "    fill: var(--button-hover-fill-color);\n",
              "  }\n",
              "\n",
              "  .colab-df-quickchart-complete:disabled,\n",
              "  .colab-df-quickchart-complete:disabled:hover {\n",
              "    background-color: var(--disabled-bg-color);\n",
              "    fill: var(--disabled-fill-color);\n",
              "    box-shadow: none;\n",
              "  }\n",
              "\n",
              "  .colab-df-spinner {\n",
              "    border: 2px solid var(--fill-color);\n",
              "    border-color: transparent;\n",
              "    border-bottom-color: var(--fill-color);\n",
              "    animation:\n",
              "      spin 1s steps(1) infinite;\n",
              "  }\n",
              "\n",
              "  @keyframes spin {\n",
              "    0% {\n",
              "      border-color: transparent;\n",
              "      border-bottom-color: var(--fill-color);\n",
              "      border-left-color: var(--fill-color);\n",
              "    }\n",
              "    20% {\n",
              "      border-color: transparent;\n",
              "      border-left-color: var(--fill-color);\n",
              "      border-top-color: var(--fill-color);\n",
              "    }\n",
              "    30% {\n",
              "      border-color: transparent;\n",
              "      border-left-color: var(--fill-color);\n",
              "      border-top-color: var(--fill-color);\n",
              "      border-right-color: var(--fill-color);\n",
              "    }\n",
              "    40% {\n",
              "      border-color: transparent;\n",
              "      border-right-color: var(--fill-color);\n",
              "      border-top-color: var(--fill-color);\n",
              "    }\n",
              "    60% {\n",
              "      border-color: transparent;\n",
              "      border-right-color: var(--fill-color);\n",
              "    }\n",
              "    80% {\n",
              "      border-color: transparent;\n",
              "      border-right-color: var(--fill-color);\n",
              "      border-bottom-color: var(--fill-color);\n",
              "    }\n",
              "    90% {\n",
              "      border-color: transparent;\n",
              "      border-bottom-color: var(--fill-color);\n",
              "    }\n",
              "  }\n",
              "</style>\n",
              "\n",
              "  <script>\n",
              "    async function quickchart(key) {\n",
              "      const quickchartButtonEl =\n",
              "        document.querySelector('#' + key + ' button');\n",
              "      quickchartButtonEl.disabled = true;  // To prevent multiple clicks.\n",
              "      quickchartButtonEl.classList.add('colab-df-spinner');\n",
              "      try {\n",
              "        const charts = await google.colab.kernel.invokeFunction(\n",
              "            'suggestCharts', [key], {});\n",
              "      } catch (error) {\n",
              "        console.error('Error during call to suggestCharts:', error);\n",
              "      }\n",
              "      quickchartButtonEl.classList.remove('colab-df-spinner');\n",
              "      quickchartButtonEl.classList.add('colab-df-quickchart-complete');\n",
              "    }\n",
              "    (() => {\n",
              "      let quickchartButtonEl =\n",
              "        document.querySelector('#df-4c8036d0-0da6-40ac-8db6-bd52f39d3ab1 button');\n",
              "      quickchartButtonEl.style.display =\n",
              "        google.colab.kernel.accessAllowed ? 'block' : 'none';\n",
              "    })();\n",
              "  </script>\n",
              "</div>\n",
              "    </div>\n",
              "  </div>\n"
            ]
          },
          "metadata": {},
          "execution_count": 4
        }
      ]
    },
    {
      "cell_type": "code",
      "source": [
        "df.info() #to see information about the df"
      ],
      "metadata": {
        "id": "FP9gG3gQmHar",
        "colab": {
          "base_uri": "https://localhost:8080/"
        },
        "outputId": "e86547a0-0cd9-4842-8503-c708364ff885"
      },
      "execution_count": 5,
      "outputs": [
        {
          "output_type": "stream",
          "name": "stdout",
          "text": [
            "<class 'pandas.core.frame.DataFrame'>\n",
            "RangeIndex: 693071 entries, 0 to 693070\n",
            "Data columns (total 57 columns):\n",
            " #   Column                       Non-Null Count   Dtype  \n",
            "---  ------                       --------------   -----  \n",
            " 0   id                           693071 non-null  object \n",
            " 1   timestamp                    693071 non-null  float64\n",
            " 2   hour                         693071 non-null  int64  \n",
            " 3   day                          693071 non-null  int64  \n",
            " 4   month                        693071 non-null  int64  \n",
            " 5   datetime                     693071 non-null  object \n",
            " 6   timezone                     693071 non-null  object \n",
            " 7   source                       693071 non-null  object \n",
            " 8   destination                  693071 non-null  object \n",
            " 9   cab_type                     693071 non-null  object \n",
            " 10  product_id                   693071 non-null  object \n",
            " 11  name                         693071 non-null  object \n",
            " 12  price                        637976 non-null  float64\n",
            " 13  distance                     693071 non-null  float64\n",
            " 14  surge_multiplier             693071 non-null  float64\n",
            " 15  latitude                     693071 non-null  float64\n",
            " 16  longitude                    693071 non-null  float64\n",
            " 17  temperature                  693071 non-null  float64\n",
            " 18  apparentTemperature          693071 non-null  float64\n",
            " 19  short_summary                693071 non-null  object \n",
            " 20  long_summary                 693071 non-null  object \n",
            " 21  precipIntensity              693071 non-null  float64\n",
            " 22  precipProbability            693071 non-null  float64\n",
            " 23  humidity                     693071 non-null  float64\n",
            " 24  windSpeed                    693071 non-null  float64\n",
            " 25  windGust                     693071 non-null  float64\n",
            " 26  windGustTime                 693071 non-null  int64  \n",
            " 27  visibility                   693071 non-null  float64\n",
            " 28  temperatureHigh              693071 non-null  float64\n",
            " 29  temperatureHighTime          693071 non-null  int64  \n",
            " 30  temperatureLow               693071 non-null  float64\n",
            " 31  temperatureLowTime           693071 non-null  int64  \n",
            " 32  apparentTemperatureHigh      693071 non-null  float64\n",
            " 33  apparentTemperatureHighTime  693071 non-null  int64  \n",
            " 34  apparentTemperatureLow       693071 non-null  float64\n",
            " 35  apparentTemperatureLowTime   693071 non-null  int64  \n",
            " 36  icon                         693071 non-null  object \n",
            " 37  dewPoint                     693071 non-null  float64\n",
            " 38  pressure                     693071 non-null  float64\n",
            " 39  windBearing                  693071 non-null  int64  \n",
            " 40  cloudCover                   693071 non-null  float64\n",
            " 41  uvIndex                      693071 non-null  int64  \n",
            " 42  visibility.1                 693071 non-null  float64\n",
            " 43  ozone                        693071 non-null  float64\n",
            " 44  sunriseTime                  693071 non-null  int64  \n",
            " 45  sunsetTime                   693071 non-null  int64  \n",
            " 46  moonPhase                    693071 non-null  float64\n",
            " 47  precipIntensityMax           693071 non-null  float64\n",
            " 48  uvIndexTime                  693071 non-null  int64  \n",
            " 49  temperatureMin               693071 non-null  float64\n",
            " 50  temperatureMinTime           693071 non-null  int64  \n",
            " 51  temperatureMax               693071 non-null  float64\n",
            " 52  temperatureMaxTime           693071 non-null  int64  \n",
            " 53  apparentTemperatureMin       693071 non-null  float64\n",
            " 54  apparentTemperatureMinTime   693071 non-null  int64  \n",
            " 55  apparentTemperatureMax       693071 non-null  float64\n",
            " 56  apparentTemperatureMaxTime   693071 non-null  int64  \n",
            "dtypes: float64(29), int64(17), object(11)\n",
            "memory usage: 301.4+ MB\n"
          ]
        }
      ]
    },
    {
      "cell_type": "markdown",
      "source": [
        "There is 693071 entries in the dataset, and only `price` have a detectable NaN value."
      ],
      "metadata": {
        "id": "-0auFArGeSW6"
      }
    },
    {
      "cell_type": "code",
      "source": [
        "# REMOVING DUPLICATE\n",
        "df = df.drop_duplicates()"
      ],
      "metadata": {
        "id": "tc6VMYuKeyum"
      },
      "execution_count": 6,
      "outputs": []
    },
    {
      "cell_type": "code",
      "source": [
        "df.info()"
      ],
      "metadata": {
        "colab": {
          "base_uri": "https://localhost:8080/"
        },
        "id": "hKeiXQrVfJ15",
        "outputId": "e54da392-2983-4d19-9fbf-4bbab1aa0b54"
      },
      "execution_count": 7,
      "outputs": [
        {
          "output_type": "stream",
          "name": "stdout",
          "text": [
            "<class 'pandas.core.frame.DataFrame'>\n",
            "Int64Index: 693071 entries, 0 to 693070\n",
            "Data columns (total 57 columns):\n",
            " #   Column                       Non-Null Count   Dtype  \n",
            "---  ------                       --------------   -----  \n",
            " 0   id                           693071 non-null  object \n",
            " 1   timestamp                    693071 non-null  float64\n",
            " 2   hour                         693071 non-null  int64  \n",
            " 3   day                          693071 non-null  int64  \n",
            " 4   month                        693071 non-null  int64  \n",
            " 5   datetime                     693071 non-null  object \n",
            " 6   timezone                     693071 non-null  object \n",
            " 7   source                       693071 non-null  object \n",
            " 8   destination                  693071 non-null  object \n",
            " 9   cab_type                     693071 non-null  object \n",
            " 10  product_id                   693071 non-null  object \n",
            " 11  name                         693071 non-null  object \n",
            " 12  price                        637976 non-null  float64\n",
            " 13  distance                     693071 non-null  float64\n",
            " 14  surge_multiplier             693071 non-null  float64\n",
            " 15  latitude                     693071 non-null  float64\n",
            " 16  longitude                    693071 non-null  float64\n",
            " 17  temperature                  693071 non-null  float64\n",
            " 18  apparentTemperature          693071 non-null  float64\n",
            " 19  short_summary                693071 non-null  object \n",
            " 20  long_summary                 693071 non-null  object \n",
            " 21  precipIntensity              693071 non-null  float64\n",
            " 22  precipProbability            693071 non-null  float64\n",
            " 23  humidity                     693071 non-null  float64\n",
            " 24  windSpeed                    693071 non-null  float64\n",
            " 25  windGust                     693071 non-null  float64\n",
            " 26  windGustTime                 693071 non-null  int64  \n",
            " 27  visibility                   693071 non-null  float64\n",
            " 28  temperatureHigh              693071 non-null  float64\n",
            " 29  temperatureHighTime          693071 non-null  int64  \n",
            " 30  temperatureLow               693071 non-null  float64\n",
            " 31  temperatureLowTime           693071 non-null  int64  \n",
            " 32  apparentTemperatureHigh      693071 non-null  float64\n",
            " 33  apparentTemperatureHighTime  693071 non-null  int64  \n",
            " 34  apparentTemperatureLow       693071 non-null  float64\n",
            " 35  apparentTemperatureLowTime   693071 non-null  int64  \n",
            " 36  icon                         693071 non-null  object \n",
            " 37  dewPoint                     693071 non-null  float64\n",
            " 38  pressure                     693071 non-null  float64\n",
            " 39  windBearing                  693071 non-null  int64  \n",
            " 40  cloudCover                   693071 non-null  float64\n",
            " 41  uvIndex                      693071 non-null  int64  \n",
            " 42  visibility.1                 693071 non-null  float64\n",
            " 43  ozone                        693071 non-null  float64\n",
            " 44  sunriseTime                  693071 non-null  int64  \n",
            " 45  sunsetTime                   693071 non-null  int64  \n",
            " 46  moonPhase                    693071 non-null  float64\n",
            " 47  precipIntensityMax           693071 non-null  float64\n",
            " 48  uvIndexTime                  693071 non-null  int64  \n",
            " 49  temperatureMin               693071 non-null  float64\n",
            " 50  temperatureMinTime           693071 non-null  int64  \n",
            " 51  temperatureMax               693071 non-null  float64\n",
            " 52  temperatureMaxTime           693071 non-null  int64  \n",
            " 53  apparentTemperatureMin       693071 non-null  float64\n",
            " 54  apparentTemperatureMinTime   693071 non-null  int64  \n",
            " 55  apparentTemperatureMax       693071 non-null  float64\n",
            " 56  apparentTemperatureMaxTime   693071 non-null  int64  \n",
            "dtypes: float64(29), int64(17), object(11)\n",
            "memory usage: 306.7+ MB\n"
          ]
        }
      ]
    },
    {
      "cell_type": "markdown",
      "source": [
        "It seems after using .drop_duplicates() on the dataset, there is still 693071 entries, which means there are no duplicates to be removed."
      ],
      "metadata": {
        "id": "EStWZl4wfQLy"
      }
    },
    {
      "cell_type": "code",
      "source": [
        "# REMOVING THE NaN VALUE\n",
        "df = df.dropna()"
      ],
      "metadata": {
        "id": "pLulIueHg6Vh"
      },
      "execution_count": 8,
      "outputs": []
    },
    {
      "cell_type": "code",
      "source": [
        "df.info()"
      ],
      "metadata": {
        "colab": {
          "base_uri": "https://localhost:8080/"
        },
        "id": "-7wSm0WdhDWy",
        "outputId": "918b7c50-e7c2-426f-9787-b7f958e6cc6d"
      },
      "execution_count": 9,
      "outputs": [
        {
          "output_type": "stream",
          "name": "stdout",
          "text": [
            "<class 'pandas.core.frame.DataFrame'>\n",
            "Int64Index: 637976 entries, 0 to 693070\n",
            "Data columns (total 57 columns):\n",
            " #   Column                       Non-Null Count   Dtype  \n",
            "---  ------                       --------------   -----  \n",
            " 0   id                           637976 non-null  object \n",
            " 1   timestamp                    637976 non-null  float64\n",
            " 2   hour                         637976 non-null  int64  \n",
            " 3   day                          637976 non-null  int64  \n",
            " 4   month                        637976 non-null  int64  \n",
            " 5   datetime                     637976 non-null  object \n",
            " 6   timezone                     637976 non-null  object \n",
            " 7   source                       637976 non-null  object \n",
            " 8   destination                  637976 non-null  object \n",
            " 9   cab_type                     637976 non-null  object \n",
            " 10  product_id                   637976 non-null  object \n",
            " 11  name                         637976 non-null  object \n",
            " 12  price                        637976 non-null  float64\n",
            " 13  distance                     637976 non-null  float64\n",
            " 14  surge_multiplier             637976 non-null  float64\n",
            " 15  latitude                     637976 non-null  float64\n",
            " 16  longitude                    637976 non-null  float64\n",
            " 17  temperature                  637976 non-null  float64\n",
            " 18  apparentTemperature          637976 non-null  float64\n",
            " 19  short_summary                637976 non-null  object \n",
            " 20  long_summary                 637976 non-null  object \n",
            " 21  precipIntensity              637976 non-null  float64\n",
            " 22  precipProbability            637976 non-null  float64\n",
            " 23  humidity                     637976 non-null  float64\n",
            " 24  windSpeed                    637976 non-null  float64\n",
            " 25  windGust                     637976 non-null  float64\n",
            " 26  windGustTime                 637976 non-null  int64  \n",
            " 27  visibility                   637976 non-null  float64\n",
            " 28  temperatureHigh              637976 non-null  float64\n",
            " 29  temperatureHighTime          637976 non-null  int64  \n",
            " 30  temperatureLow               637976 non-null  float64\n",
            " 31  temperatureLowTime           637976 non-null  int64  \n",
            " 32  apparentTemperatureHigh      637976 non-null  float64\n",
            " 33  apparentTemperatureHighTime  637976 non-null  int64  \n",
            " 34  apparentTemperatureLow       637976 non-null  float64\n",
            " 35  apparentTemperatureLowTime   637976 non-null  int64  \n",
            " 36  icon                         637976 non-null  object \n",
            " 37  dewPoint                     637976 non-null  float64\n",
            " 38  pressure                     637976 non-null  float64\n",
            " 39  windBearing                  637976 non-null  int64  \n",
            " 40  cloudCover                   637976 non-null  float64\n",
            " 41  uvIndex                      637976 non-null  int64  \n",
            " 42  visibility.1                 637976 non-null  float64\n",
            " 43  ozone                        637976 non-null  float64\n",
            " 44  sunriseTime                  637976 non-null  int64  \n",
            " 45  sunsetTime                   637976 non-null  int64  \n",
            " 46  moonPhase                    637976 non-null  float64\n",
            " 47  precipIntensityMax           637976 non-null  float64\n",
            " 48  uvIndexTime                  637976 non-null  int64  \n",
            " 49  temperatureMin               637976 non-null  float64\n",
            " 50  temperatureMinTime           637976 non-null  int64  \n",
            " 51  temperatureMax               637976 non-null  float64\n",
            " 52  temperatureMaxTime           637976 non-null  int64  \n",
            " 53  apparentTemperatureMin       637976 non-null  float64\n",
            " 54  apparentTemperatureMinTime   637976 non-null  int64  \n",
            " 55  apparentTemperatureMax       637976 non-null  float64\n",
            " 56  apparentTemperatureMaxTime   637976 non-null  int64  \n",
            "dtypes: float64(29), int64(17), object(11)\n",
            "memory usage: 282.3+ MB\n"
          ]
        }
      ]
    },
    {
      "cell_type": "code",
      "source": [
        "df.describe() #To describe the df (mean, count, etc.)"
      ],
      "metadata": {
        "colab": {
          "base_uri": "https://localhost:8080/",
          "height": 175
        },
        "id": "-8SPwRY2cn1k",
        "outputId": "9d6ddeb3-4c4b-4619-c5e5-115df2047586"
      },
      "execution_count": 1,
      "outputs": [
        {
          "output_type": "error",
          "ename": "NameError",
          "evalue": "name 'df' is not defined",
          "traceback": [
            "\u001b[0;31m---------------------------------------------------------------------------\u001b[0m",
            "\u001b[0;31mNameError\u001b[0m                                 Traceback (most recent call last)",
            "\u001b[0;32m<ipython-input-1-23ea70979f69>\u001b[0m in \u001b[0;36m<cell line: 1>\u001b[0;34m()\u001b[0m\n\u001b[0;32m----> 1\u001b[0;31m \u001b[0mdf\u001b[0m\u001b[0;34m.\u001b[0m\u001b[0mdescribe\u001b[0m\u001b[0;34m(\u001b[0m\u001b[0;34m)\u001b[0m \u001b[0;31m#To describe the df (mean, count, etc.)\u001b[0m\u001b[0;34m\u001b[0m\u001b[0;34m\u001b[0m\u001b[0m\n\u001b[0m",
            "\u001b[0;31mNameError\u001b[0m: name 'df' is not defined"
          ]
        }
      ]
    },
    {
      "cell_type": "markdown",
      "source": [
        "Since there are 57 columns, with 46 numerical columns, we need to see how much unique values are within these columns."
      ],
      "metadata": {
        "id": "lEo-wp4ai_bK"
      }
    },
    {
      "cell_type": "code",
      "source": [
        "unique_counts = df.nunique()\n",
        "unique_counts"
      ],
      "metadata": {
        "colab": {
          "base_uri": "https://localhost:8080/"
        },
        "id": "bgf2HE-ljcAt",
        "outputId": "a371535e-c5b5-4c7e-82e1-a8620d98d342"
      },
      "execution_count": 10,
      "outputs": [
        {
          "output_type": "execute_result",
          "data": {
            "text/plain": [
              "id                             637976\n",
              "timestamp                       35796\n",
              "hour                               24\n",
              "day                                17\n",
              "month                               2\n",
              "datetime                        31350\n",
              "timezone                            1\n",
              "source                             12\n",
              "destination                        12\n",
              "cab_type                            2\n",
              "product_id                         12\n",
              "name                               12\n",
              "price                             147\n",
              "distance                          549\n",
              "surge_multiplier                    7\n",
              "latitude                           11\n",
              "longitude                          12\n",
              "temperature                       308\n",
              "apparentTemperature               319\n",
              "short_summary                       9\n",
              "long_summary                       11\n",
              "precipIntensity                    63\n",
              "precipProbability                  29\n",
              "humidity                           51\n",
              "windSpeed                         291\n",
              "windGust                          286\n",
              "windGustTime                       25\n",
              "visibility                        227\n",
              "temperatureHigh                   129\n",
              "temperatureHighTime                23\n",
              "temperatureLow                    133\n",
              "temperatureLowTime                 31\n",
              "apparentTemperatureHigh           124\n",
              "apparentTemperatureHighTime        27\n",
              "apparentTemperatureLow            136\n",
              "apparentTemperatureLowTime         32\n",
              "icon                                7\n",
              "dewPoint                          313\n",
              "pressure                          316\n",
              "windBearing                       195\n",
              "cloudCover                         83\n",
              "uvIndex                             3\n",
              "visibility.1                      227\n",
              "ozone                             274\n",
              "sunriseTime                       110\n",
              "sunsetTime                        114\n",
              "moonPhase                          18\n",
              "precipIntensityMax                 65\n",
              "uvIndexTime                        20\n",
              "temperatureMin                    131\n",
              "temperatureMinTime                 25\n",
              "temperatureMax                    128\n",
              "temperatureMaxTime                 23\n",
              "apparentTemperatureMin            137\n",
              "apparentTemperatureMinTime         29\n",
              "apparentTemperatureMax            125\n",
              "apparentTemperatureMaxTime         27\n",
              "dtype: int64"
            ]
          },
          "metadata": {},
          "execution_count": 10
        }
      ]
    },
    {
      "cell_type": "markdown",
      "source": [
        "From these, let's make a few assumptions before we go ahead and do an EDA:\n",
        "- `datetime` and `timestamp` will be removed, since it will be represented by `hour`, `day`, and `month`.\n",
        "- `timezone` has only 1 unique value, so it would be best removed.\n",
        "- `long_summary` will also be removed since after a quick observation it seems inconsistent with the `short_summary`.\n",
        "- `precipIntensity` will be used to represent the \"weather\" since it is in numerical format so as to not need to encode it.\n",
        "- `product_id` and `name` is directly dependent on each other, we shall only use the `name` column since it is easier to intepret.\n",
        "- `cab_type` have either \"Lyft\" or \"Uber\" as it's values, hence we shall encode it into 1 and 0 later.\n"
      ],
      "metadata": {
        "id": "kPV5NfJrjyMR"
      }
    },
    {
      "cell_type": "markdown",
      "source": [
        "In conclusion, we will use `hour`, `day`, `month`, `name`, `price`, `distance`, `source`, `destination`, `cab_type`, and `precipIntensity`."
      ],
      "metadata": {
        "id": "PcTsB2g0wfBX"
      }
    },
    {
      "cell_type": "markdown",
      "source": [
        "# 3. Exploratory Data Analysis (EDA)"
      ],
      "metadata": {
        "id": "gmxwyNucxqxf"
      }
    },
    {
      "cell_type": "code",
      "source": [
        "df = df[['day', 'hour', 'month', 'name', 'price', 'distance', 'source', 'destination', 'cab_type', 'precipIntensity']]\n",
        "df"
      ],
      "metadata": {
        "colab": {
          "base_uri": "https://localhost:8080/",
          "height": 424
        },
        "id": "YPcR24eLi-Fh",
        "outputId": "ecaad585-9175-4cae-ce3a-676d717258b9"
      },
      "execution_count": 11,
      "outputs": [
        {
          "output_type": "execute_result",
          "data": {
            "text/plain": [
              "        day  hour  month          name  price  distance            source  \\\n",
              "0        16     9     12        Shared    5.0      0.44  Haymarket Square   \n",
              "1        27     2     11           Lux   11.0      0.44  Haymarket Square   \n",
              "2        28     1     11          Lyft    7.0      0.44  Haymarket Square   \n",
              "3        30     4     11  Lux Black XL   26.0      0.44  Haymarket Square   \n",
              "4        29     3     11       Lyft XL    9.0      0.44  Haymarket Square   \n",
              "...     ...   ...    ...           ...    ...       ...               ...   \n",
              "693065    1    23     12           WAV    9.5      1.00          West End   \n",
              "693066    1    23     12        UberXL   13.0      1.00          West End   \n",
              "693067    1    23     12         UberX    9.5      1.00          West End   \n",
              "693069    1    23     12     Black SUV   27.0      1.00          West End   \n",
              "693070    1    23     12      UberPool   10.0      1.00          West End   \n",
              "\n",
              "          destination cab_type  precipIntensity  \n",
              "0       North Station     Lyft           0.0000  \n",
              "1       North Station     Lyft           0.1299  \n",
              "2       North Station     Lyft           0.0000  \n",
              "3       North Station     Lyft           0.0000  \n",
              "4       North Station     Lyft           0.0000  \n",
              "...               ...      ...              ...  \n",
              "693065      North End     Uber           0.0000  \n",
              "693066      North End     Uber           0.0000  \n",
              "693067      North End     Uber           0.0000  \n",
              "693069      North End     Uber           0.0000  \n",
              "693070      North End     Uber           0.0000  \n",
              "\n",
              "[637976 rows x 10 columns]"
            ],
            "text/html": [
              "\n",
              "  <div id=\"df-d45e2563-4410-4585-b9e0-54034797706d\" class=\"colab-df-container\">\n",
              "    <div>\n",
              "<style scoped>\n",
              "    .dataframe tbody tr th:only-of-type {\n",
              "        vertical-align: middle;\n",
              "    }\n",
              "\n",
              "    .dataframe tbody tr th {\n",
              "        vertical-align: top;\n",
              "    }\n",
              "\n",
              "    .dataframe thead th {\n",
              "        text-align: right;\n",
              "    }\n",
              "</style>\n",
              "<table border=\"1\" class=\"dataframe\">\n",
              "  <thead>\n",
              "    <tr style=\"text-align: right;\">\n",
              "      <th></th>\n",
              "      <th>day</th>\n",
              "      <th>hour</th>\n",
              "      <th>month</th>\n",
              "      <th>name</th>\n",
              "      <th>price</th>\n",
              "      <th>distance</th>\n",
              "      <th>source</th>\n",
              "      <th>destination</th>\n",
              "      <th>cab_type</th>\n",
              "      <th>precipIntensity</th>\n",
              "    </tr>\n",
              "  </thead>\n",
              "  <tbody>\n",
              "    <tr>\n",
              "      <th>0</th>\n",
              "      <td>16</td>\n",
              "      <td>9</td>\n",
              "      <td>12</td>\n",
              "      <td>Shared</td>\n",
              "      <td>5.0</td>\n",
              "      <td>0.44</td>\n",
              "      <td>Haymarket Square</td>\n",
              "      <td>North Station</td>\n",
              "      <td>Lyft</td>\n",
              "      <td>0.0000</td>\n",
              "    </tr>\n",
              "    <tr>\n",
              "      <th>1</th>\n",
              "      <td>27</td>\n",
              "      <td>2</td>\n",
              "      <td>11</td>\n",
              "      <td>Lux</td>\n",
              "      <td>11.0</td>\n",
              "      <td>0.44</td>\n",
              "      <td>Haymarket Square</td>\n",
              "      <td>North Station</td>\n",
              "      <td>Lyft</td>\n",
              "      <td>0.1299</td>\n",
              "    </tr>\n",
              "    <tr>\n",
              "      <th>2</th>\n",
              "      <td>28</td>\n",
              "      <td>1</td>\n",
              "      <td>11</td>\n",
              "      <td>Lyft</td>\n",
              "      <td>7.0</td>\n",
              "      <td>0.44</td>\n",
              "      <td>Haymarket Square</td>\n",
              "      <td>North Station</td>\n",
              "      <td>Lyft</td>\n",
              "      <td>0.0000</td>\n",
              "    </tr>\n",
              "    <tr>\n",
              "      <th>3</th>\n",
              "      <td>30</td>\n",
              "      <td>4</td>\n",
              "      <td>11</td>\n",
              "      <td>Lux Black XL</td>\n",
              "      <td>26.0</td>\n",
              "      <td>0.44</td>\n",
              "      <td>Haymarket Square</td>\n",
              "      <td>North Station</td>\n",
              "      <td>Lyft</td>\n",
              "      <td>0.0000</td>\n",
              "    </tr>\n",
              "    <tr>\n",
              "      <th>4</th>\n",
              "      <td>29</td>\n",
              "      <td>3</td>\n",
              "      <td>11</td>\n",
              "      <td>Lyft XL</td>\n",
              "      <td>9.0</td>\n",
              "      <td>0.44</td>\n",
              "      <td>Haymarket Square</td>\n",
              "      <td>North Station</td>\n",
              "      <td>Lyft</td>\n",
              "      <td>0.0000</td>\n",
              "    </tr>\n",
              "    <tr>\n",
              "      <th>...</th>\n",
              "      <td>...</td>\n",
              "      <td>...</td>\n",
              "      <td>...</td>\n",
              "      <td>...</td>\n",
              "      <td>...</td>\n",
              "      <td>...</td>\n",
              "      <td>...</td>\n",
              "      <td>...</td>\n",
              "      <td>...</td>\n",
              "      <td>...</td>\n",
              "    </tr>\n",
              "    <tr>\n",
              "      <th>693065</th>\n",
              "      <td>1</td>\n",
              "      <td>23</td>\n",
              "      <td>12</td>\n",
              "      <td>WAV</td>\n",
              "      <td>9.5</td>\n",
              "      <td>1.00</td>\n",
              "      <td>West End</td>\n",
              "      <td>North End</td>\n",
              "      <td>Uber</td>\n",
              "      <td>0.0000</td>\n",
              "    </tr>\n",
              "    <tr>\n",
              "      <th>693066</th>\n",
              "      <td>1</td>\n",
              "      <td>23</td>\n",
              "      <td>12</td>\n",
              "      <td>UberXL</td>\n",
              "      <td>13.0</td>\n",
              "      <td>1.00</td>\n",
              "      <td>West End</td>\n",
              "      <td>North End</td>\n",
              "      <td>Uber</td>\n",
              "      <td>0.0000</td>\n",
              "    </tr>\n",
              "    <tr>\n",
              "      <th>693067</th>\n",
              "      <td>1</td>\n",
              "      <td>23</td>\n",
              "      <td>12</td>\n",
              "      <td>UberX</td>\n",
              "      <td>9.5</td>\n",
              "      <td>1.00</td>\n",
              "      <td>West End</td>\n",
              "      <td>North End</td>\n",
              "      <td>Uber</td>\n",
              "      <td>0.0000</td>\n",
              "    </tr>\n",
              "    <tr>\n",
              "      <th>693069</th>\n",
              "      <td>1</td>\n",
              "      <td>23</td>\n",
              "      <td>12</td>\n",
              "      <td>Black SUV</td>\n",
              "      <td>27.0</td>\n",
              "      <td>1.00</td>\n",
              "      <td>West End</td>\n",
              "      <td>North End</td>\n",
              "      <td>Uber</td>\n",
              "      <td>0.0000</td>\n",
              "    </tr>\n",
              "    <tr>\n",
              "      <th>693070</th>\n",
              "      <td>1</td>\n",
              "      <td>23</td>\n",
              "      <td>12</td>\n",
              "      <td>UberPool</td>\n",
              "      <td>10.0</td>\n",
              "      <td>1.00</td>\n",
              "      <td>West End</td>\n",
              "      <td>North End</td>\n",
              "      <td>Uber</td>\n",
              "      <td>0.0000</td>\n",
              "    </tr>\n",
              "  </tbody>\n",
              "</table>\n",
              "<p>637976 rows × 10 columns</p>\n",
              "</div>\n",
              "    <div class=\"colab-df-buttons\">\n",
              "\n",
              "  <div class=\"colab-df-container\">\n",
              "    <button class=\"colab-df-convert\" onclick=\"convertToInteractive('df-d45e2563-4410-4585-b9e0-54034797706d')\"\n",
              "            title=\"Convert this dataframe to an interactive table.\"\n",
              "            style=\"display:none;\">\n",
              "\n",
              "  <svg xmlns=\"http://www.w3.org/2000/svg\" height=\"24px\" viewBox=\"0 -960 960 960\">\n",
              "    <path d=\"M120-120v-720h720v720H120Zm60-500h600v-160H180v160Zm220 220h160v-160H400v160Zm0 220h160v-160H400v160ZM180-400h160v-160H180v160Zm440 0h160v-160H620v160ZM180-180h160v-160H180v160Zm440 0h160v-160H620v160Z\"/>\n",
              "  </svg>\n",
              "    </button>\n",
              "\n",
              "  <style>\n",
              "    .colab-df-container {\n",
              "      display:flex;\n",
              "      gap: 12px;\n",
              "    }\n",
              "\n",
              "    .colab-df-convert {\n",
              "      background-color: #E8F0FE;\n",
              "      border: none;\n",
              "      border-radius: 50%;\n",
              "      cursor: pointer;\n",
              "      display: none;\n",
              "      fill: #1967D2;\n",
              "      height: 32px;\n",
              "      padding: 0 0 0 0;\n",
              "      width: 32px;\n",
              "    }\n",
              "\n",
              "    .colab-df-convert:hover {\n",
              "      background-color: #E2EBFA;\n",
              "      box-shadow: 0px 1px 2px rgba(60, 64, 67, 0.3), 0px 1px 3px 1px rgba(60, 64, 67, 0.15);\n",
              "      fill: #174EA6;\n",
              "    }\n",
              "\n",
              "    .colab-df-buttons div {\n",
              "      margin-bottom: 4px;\n",
              "    }\n",
              "\n",
              "    [theme=dark] .colab-df-convert {\n",
              "      background-color: #3B4455;\n",
              "      fill: #D2E3FC;\n",
              "    }\n",
              "\n",
              "    [theme=dark] .colab-df-convert:hover {\n",
              "      background-color: #434B5C;\n",
              "      box-shadow: 0px 1px 3px 1px rgba(0, 0, 0, 0.15);\n",
              "      filter: drop-shadow(0px 1px 2px rgba(0, 0, 0, 0.3));\n",
              "      fill: #FFFFFF;\n",
              "    }\n",
              "  </style>\n",
              "\n",
              "    <script>\n",
              "      const buttonEl =\n",
              "        document.querySelector('#df-d45e2563-4410-4585-b9e0-54034797706d button.colab-df-convert');\n",
              "      buttonEl.style.display =\n",
              "        google.colab.kernel.accessAllowed ? 'block' : 'none';\n",
              "\n",
              "      async function convertToInteractive(key) {\n",
              "        const element = document.querySelector('#df-d45e2563-4410-4585-b9e0-54034797706d');\n",
              "        const dataTable =\n",
              "          await google.colab.kernel.invokeFunction('convertToInteractive',\n",
              "                                                    [key], {});\n",
              "        if (!dataTable) return;\n",
              "\n",
              "        const docLinkHtml = 'Like what you see? Visit the ' +\n",
              "          '<a target=\"_blank\" href=https://colab.research.google.com/notebooks/data_table.ipynb>data table notebook</a>'\n",
              "          + ' to learn more about interactive tables.';\n",
              "        element.innerHTML = '';\n",
              "        dataTable['output_type'] = 'display_data';\n",
              "        await google.colab.output.renderOutput(dataTable, element);\n",
              "        const docLink = document.createElement('div');\n",
              "        docLink.innerHTML = docLinkHtml;\n",
              "        element.appendChild(docLink);\n",
              "      }\n",
              "    </script>\n",
              "  </div>\n",
              "\n",
              "\n",
              "<div id=\"df-baf37d5a-fa93-41c7-a1ed-be7e93cd4d11\">\n",
              "  <button class=\"colab-df-quickchart\" onclick=\"quickchart('df-baf37d5a-fa93-41c7-a1ed-be7e93cd4d11')\"\n",
              "            title=\"Suggest charts\"\n",
              "            style=\"display:none;\">\n",
              "\n",
              "<svg xmlns=\"http://www.w3.org/2000/svg\" height=\"24px\"viewBox=\"0 0 24 24\"\n",
              "     width=\"24px\">\n",
              "    <g>\n",
              "        <path d=\"M19 3H5c-1.1 0-2 .9-2 2v14c0 1.1.9 2 2 2h14c1.1 0 2-.9 2-2V5c0-1.1-.9-2-2-2zM9 17H7v-7h2v7zm4 0h-2V7h2v10zm4 0h-2v-4h2v4z\"/>\n",
              "    </g>\n",
              "</svg>\n",
              "  </button>\n",
              "\n",
              "<style>\n",
              "  .colab-df-quickchart {\n",
              "      --bg-color: #E8F0FE;\n",
              "      --fill-color: #1967D2;\n",
              "      --hover-bg-color: #E2EBFA;\n",
              "      --hover-fill-color: #174EA6;\n",
              "      --disabled-fill-color: #AAA;\n",
              "      --disabled-bg-color: #DDD;\n",
              "  }\n",
              "\n",
              "  [theme=dark] .colab-df-quickchart {\n",
              "      --bg-color: #3B4455;\n",
              "      --fill-color: #D2E3FC;\n",
              "      --hover-bg-color: #434B5C;\n",
              "      --hover-fill-color: #FFFFFF;\n",
              "      --disabled-bg-color: #3B4455;\n",
              "      --disabled-fill-color: #666;\n",
              "  }\n",
              "\n",
              "  .colab-df-quickchart {\n",
              "    background-color: var(--bg-color);\n",
              "    border: none;\n",
              "    border-radius: 50%;\n",
              "    cursor: pointer;\n",
              "    display: none;\n",
              "    fill: var(--fill-color);\n",
              "    height: 32px;\n",
              "    padding: 0;\n",
              "    width: 32px;\n",
              "  }\n",
              "\n",
              "  .colab-df-quickchart:hover {\n",
              "    background-color: var(--hover-bg-color);\n",
              "    box-shadow: 0 1px 2px rgba(60, 64, 67, 0.3), 0 1px 3px 1px rgba(60, 64, 67, 0.15);\n",
              "    fill: var(--button-hover-fill-color);\n",
              "  }\n",
              "\n",
              "  .colab-df-quickchart-complete:disabled,\n",
              "  .colab-df-quickchart-complete:disabled:hover {\n",
              "    background-color: var(--disabled-bg-color);\n",
              "    fill: var(--disabled-fill-color);\n",
              "    box-shadow: none;\n",
              "  }\n",
              "\n",
              "  .colab-df-spinner {\n",
              "    border: 2px solid var(--fill-color);\n",
              "    border-color: transparent;\n",
              "    border-bottom-color: var(--fill-color);\n",
              "    animation:\n",
              "      spin 1s steps(1) infinite;\n",
              "  }\n",
              "\n",
              "  @keyframes spin {\n",
              "    0% {\n",
              "      border-color: transparent;\n",
              "      border-bottom-color: var(--fill-color);\n",
              "      border-left-color: var(--fill-color);\n",
              "    }\n",
              "    20% {\n",
              "      border-color: transparent;\n",
              "      border-left-color: var(--fill-color);\n",
              "      border-top-color: var(--fill-color);\n",
              "    }\n",
              "    30% {\n",
              "      border-color: transparent;\n",
              "      border-left-color: var(--fill-color);\n",
              "      border-top-color: var(--fill-color);\n",
              "      border-right-color: var(--fill-color);\n",
              "    }\n",
              "    40% {\n",
              "      border-color: transparent;\n",
              "      border-right-color: var(--fill-color);\n",
              "      border-top-color: var(--fill-color);\n",
              "    }\n",
              "    60% {\n",
              "      border-color: transparent;\n",
              "      border-right-color: var(--fill-color);\n",
              "    }\n",
              "    80% {\n",
              "      border-color: transparent;\n",
              "      border-right-color: var(--fill-color);\n",
              "      border-bottom-color: var(--fill-color);\n",
              "    }\n",
              "    90% {\n",
              "      border-color: transparent;\n",
              "      border-bottom-color: var(--fill-color);\n",
              "    }\n",
              "  }\n",
              "</style>\n",
              "\n",
              "  <script>\n",
              "    async function quickchart(key) {\n",
              "      const quickchartButtonEl =\n",
              "        document.querySelector('#' + key + ' button');\n",
              "      quickchartButtonEl.disabled = true;  // To prevent multiple clicks.\n",
              "      quickchartButtonEl.classList.add('colab-df-spinner');\n",
              "      try {\n",
              "        const charts = await google.colab.kernel.invokeFunction(\n",
              "            'suggestCharts', [key], {});\n",
              "      } catch (error) {\n",
              "        console.error('Error during call to suggestCharts:', error);\n",
              "      }\n",
              "      quickchartButtonEl.classList.remove('colab-df-spinner');\n",
              "      quickchartButtonEl.classList.add('colab-df-quickchart-complete');\n",
              "    }\n",
              "    (() => {\n",
              "      let quickchartButtonEl =\n",
              "        document.querySelector('#df-baf37d5a-fa93-41c7-a1ed-be7e93cd4d11 button');\n",
              "      quickchartButtonEl.style.display =\n",
              "        google.colab.kernel.accessAllowed ? 'block' : 'none';\n",
              "    })();\n",
              "  </script>\n",
              "</div>\n",
              "    </div>\n",
              "  </div>\n"
            ]
          },
          "metadata": {},
          "execution_count": 11
        }
      ]
    },
    {
      "cell_type": "markdown",
      "source": [
        "### 1. Let's find out the average `price` of each product type (`name`)."
      ],
      "metadata": {
        "id": "XFJZADu12jfK"
      }
    },
    {
      "cell_type": "code",
      "source": [
        "name_price = df.groupby('name')['price'].agg(AVG_price='mean').sort_values(by='AVG_price').reset_index()"
      ],
      "metadata": {
        "id": "ZDoiZXNi0RJI"
      },
      "execution_count": 12,
      "outputs": []
    },
    {
      "cell_type": "code",
      "source": [
        "name_price"
      ],
      "metadata": {
        "colab": {
          "base_uri": "https://localhost:8080/",
          "height": 426
        },
        "id": "TBrG0vcO0bEn",
        "outputId": "dd9323c4-01f2-46b7-a18b-2a570bf8271b"
      },
      "execution_count": 13,
      "outputs": [
        {
          "output_type": "execute_result",
          "data": {
            "text/plain": [
              "            name  AVG_price\n",
              "0         Shared   6.029893\n",
              "1       UberPool   8.752500\n",
              "2           Lyft   9.610885\n",
              "3            WAV   9.765019\n",
              "4          UberX   9.765074\n",
              "5        Lyft XL  15.309363\n",
              "6         UberXL  15.678144\n",
              "7            Lux  17.771240\n",
              "8          Black  20.523786\n",
              "9      Lux Black  23.062468\n",
              "10     Black SUV  30.286763\n",
              "11  Lux Black XL  32.324086"
            ],
            "text/html": [
              "\n",
              "  <div id=\"df-5970b057-187b-45d8-b14f-5f5f7c7ee9d9\" class=\"colab-df-container\">\n",
              "    <div>\n",
              "<style scoped>\n",
              "    .dataframe tbody tr th:only-of-type {\n",
              "        vertical-align: middle;\n",
              "    }\n",
              "\n",
              "    .dataframe tbody tr th {\n",
              "        vertical-align: top;\n",
              "    }\n",
              "\n",
              "    .dataframe thead th {\n",
              "        text-align: right;\n",
              "    }\n",
              "</style>\n",
              "<table border=\"1\" class=\"dataframe\">\n",
              "  <thead>\n",
              "    <tr style=\"text-align: right;\">\n",
              "      <th></th>\n",
              "      <th>name</th>\n",
              "      <th>AVG_price</th>\n",
              "    </tr>\n",
              "  </thead>\n",
              "  <tbody>\n",
              "    <tr>\n",
              "      <th>0</th>\n",
              "      <td>Shared</td>\n",
              "      <td>6.029893</td>\n",
              "    </tr>\n",
              "    <tr>\n",
              "      <th>1</th>\n",
              "      <td>UberPool</td>\n",
              "      <td>8.752500</td>\n",
              "    </tr>\n",
              "    <tr>\n",
              "      <th>2</th>\n",
              "      <td>Lyft</td>\n",
              "      <td>9.610885</td>\n",
              "    </tr>\n",
              "    <tr>\n",
              "      <th>3</th>\n",
              "      <td>WAV</td>\n",
              "      <td>9.765019</td>\n",
              "    </tr>\n",
              "    <tr>\n",
              "      <th>4</th>\n",
              "      <td>UberX</td>\n",
              "      <td>9.765074</td>\n",
              "    </tr>\n",
              "    <tr>\n",
              "      <th>5</th>\n",
              "      <td>Lyft XL</td>\n",
              "      <td>15.309363</td>\n",
              "    </tr>\n",
              "    <tr>\n",
              "      <th>6</th>\n",
              "      <td>UberXL</td>\n",
              "      <td>15.678144</td>\n",
              "    </tr>\n",
              "    <tr>\n",
              "      <th>7</th>\n",
              "      <td>Lux</td>\n",
              "      <td>17.771240</td>\n",
              "    </tr>\n",
              "    <tr>\n",
              "      <th>8</th>\n",
              "      <td>Black</td>\n",
              "      <td>20.523786</td>\n",
              "    </tr>\n",
              "    <tr>\n",
              "      <th>9</th>\n",
              "      <td>Lux Black</td>\n",
              "      <td>23.062468</td>\n",
              "    </tr>\n",
              "    <tr>\n",
              "      <th>10</th>\n",
              "      <td>Black SUV</td>\n",
              "      <td>30.286763</td>\n",
              "    </tr>\n",
              "    <tr>\n",
              "      <th>11</th>\n",
              "      <td>Lux Black XL</td>\n",
              "      <td>32.324086</td>\n",
              "    </tr>\n",
              "  </tbody>\n",
              "</table>\n",
              "</div>\n",
              "    <div class=\"colab-df-buttons\">\n",
              "\n",
              "  <div class=\"colab-df-container\">\n",
              "    <button class=\"colab-df-convert\" onclick=\"convertToInteractive('df-5970b057-187b-45d8-b14f-5f5f7c7ee9d9')\"\n",
              "            title=\"Convert this dataframe to an interactive table.\"\n",
              "            style=\"display:none;\">\n",
              "\n",
              "  <svg xmlns=\"http://www.w3.org/2000/svg\" height=\"24px\" viewBox=\"0 -960 960 960\">\n",
              "    <path d=\"M120-120v-720h720v720H120Zm60-500h600v-160H180v160Zm220 220h160v-160H400v160Zm0 220h160v-160H400v160ZM180-400h160v-160H180v160Zm440 0h160v-160H620v160ZM180-180h160v-160H180v160Zm440 0h160v-160H620v160Z\"/>\n",
              "  </svg>\n",
              "    </button>\n",
              "\n",
              "  <style>\n",
              "    .colab-df-container {\n",
              "      display:flex;\n",
              "      gap: 12px;\n",
              "    }\n",
              "\n",
              "    .colab-df-convert {\n",
              "      background-color: #E8F0FE;\n",
              "      border: none;\n",
              "      border-radius: 50%;\n",
              "      cursor: pointer;\n",
              "      display: none;\n",
              "      fill: #1967D2;\n",
              "      height: 32px;\n",
              "      padding: 0 0 0 0;\n",
              "      width: 32px;\n",
              "    }\n",
              "\n",
              "    .colab-df-convert:hover {\n",
              "      background-color: #E2EBFA;\n",
              "      box-shadow: 0px 1px 2px rgba(60, 64, 67, 0.3), 0px 1px 3px 1px rgba(60, 64, 67, 0.15);\n",
              "      fill: #174EA6;\n",
              "    }\n",
              "\n",
              "    .colab-df-buttons div {\n",
              "      margin-bottom: 4px;\n",
              "    }\n",
              "\n",
              "    [theme=dark] .colab-df-convert {\n",
              "      background-color: #3B4455;\n",
              "      fill: #D2E3FC;\n",
              "    }\n",
              "\n",
              "    [theme=dark] .colab-df-convert:hover {\n",
              "      background-color: #434B5C;\n",
              "      box-shadow: 0px 1px 3px 1px rgba(0, 0, 0, 0.15);\n",
              "      filter: drop-shadow(0px 1px 2px rgba(0, 0, 0, 0.3));\n",
              "      fill: #FFFFFF;\n",
              "    }\n",
              "  </style>\n",
              "\n",
              "    <script>\n",
              "      const buttonEl =\n",
              "        document.querySelector('#df-5970b057-187b-45d8-b14f-5f5f7c7ee9d9 button.colab-df-convert');\n",
              "      buttonEl.style.display =\n",
              "        google.colab.kernel.accessAllowed ? 'block' : 'none';\n",
              "\n",
              "      async function convertToInteractive(key) {\n",
              "        const element = document.querySelector('#df-5970b057-187b-45d8-b14f-5f5f7c7ee9d9');\n",
              "        const dataTable =\n",
              "          await google.colab.kernel.invokeFunction('convertToInteractive',\n",
              "                                                    [key], {});\n",
              "        if (!dataTable) return;\n",
              "\n",
              "        const docLinkHtml = 'Like what you see? Visit the ' +\n",
              "          '<a target=\"_blank\" href=https://colab.research.google.com/notebooks/data_table.ipynb>data table notebook</a>'\n",
              "          + ' to learn more about interactive tables.';\n",
              "        element.innerHTML = '';\n",
              "        dataTable['output_type'] = 'display_data';\n",
              "        await google.colab.output.renderOutput(dataTable, element);\n",
              "        const docLink = document.createElement('div');\n",
              "        docLink.innerHTML = docLinkHtml;\n",
              "        element.appendChild(docLink);\n",
              "      }\n",
              "    </script>\n",
              "  </div>\n",
              "\n",
              "\n",
              "<div id=\"df-d8065262-cc64-44ff-ba51-a82f791a0e49\">\n",
              "  <button class=\"colab-df-quickchart\" onclick=\"quickchart('df-d8065262-cc64-44ff-ba51-a82f791a0e49')\"\n",
              "            title=\"Suggest charts\"\n",
              "            style=\"display:none;\">\n",
              "\n",
              "<svg xmlns=\"http://www.w3.org/2000/svg\" height=\"24px\"viewBox=\"0 0 24 24\"\n",
              "     width=\"24px\">\n",
              "    <g>\n",
              "        <path d=\"M19 3H5c-1.1 0-2 .9-2 2v14c0 1.1.9 2 2 2h14c1.1 0 2-.9 2-2V5c0-1.1-.9-2-2-2zM9 17H7v-7h2v7zm4 0h-2V7h2v10zm4 0h-2v-4h2v4z\"/>\n",
              "    </g>\n",
              "</svg>\n",
              "  </button>\n",
              "\n",
              "<style>\n",
              "  .colab-df-quickchart {\n",
              "      --bg-color: #E8F0FE;\n",
              "      --fill-color: #1967D2;\n",
              "      --hover-bg-color: #E2EBFA;\n",
              "      --hover-fill-color: #174EA6;\n",
              "      --disabled-fill-color: #AAA;\n",
              "      --disabled-bg-color: #DDD;\n",
              "  }\n",
              "\n",
              "  [theme=dark] .colab-df-quickchart {\n",
              "      --bg-color: #3B4455;\n",
              "      --fill-color: #D2E3FC;\n",
              "      --hover-bg-color: #434B5C;\n",
              "      --hover-fill-color: #FFFFFF;\n",
              "      --disabled-bg-color: #3B4455;\n",
              "      --disabled-fill-color: #666;\n",
              "  }\n",
              "\n",
              "  .colab-df-quickchart {\n",
              "    background-color: var(--bg-color);\n",
              "    border: none;\n",
              "    border-radius: 50%;\n",
              "    cursor: pointer;\n",
              "    display: none;\n",
              "    fill: var(--fill-color);\n",
              "    height: 32px;\n",
              "    padding: 0;\n",
              "    width: 32px;\n",
              "  }\n",
              "\n",
              "  .colab-df-quickchart:hover {\n",
              "    background-color: var(--hover-bg-color);\n",
              "    box-shadow: 0 1px 2px rgba(60, 64, 67, 0.3), 0 1px 3px 1px rgba(60, 64, 67, 0.15);\n",
              "    fill: var(--button-hover-fill-color);\n",
              "  }\n",
              "\n",
              "  .colab-df-quickchart-complete:disabled,\n",
              "  .colab-df-quickchart-complete:disabled:hover {\n",
              "    background-color: var(--disabled-bg-color);\n",
              "    fill: var(--disabled-fill-color);\n",
              "    box-shadow: none;\n",
              "  }\n",
              "\n",
              "  .colab-df-spinner {\n",
              "    border: 2px solid var(--fill-color);\n",
              "    border-color: transparent;\n",
              "    border-bottom-color: var(--fill-color);\n",
              "    animation:\n",
              "      spin 1s steps(1) infinite;\n",
              "  }\n",
              "\n",
              "  @keyframes spin {\n",
              "    0% {\n",
              "      border-color: transparent;\n",
              "      border-bottom-color: var(--fill-color);\n",
              "      border-left-color: var(--fill-color);\n",
              "    }\n",
              "    20% {\n",
              "      border-color: transparent;\n",
              "      border-left-color: var(--fill-color);\n",
              "      border-top-color: var(--fill-color);\n",
              "    }\n",
              "    30% {\n",
              "      border-color: transparent;\n",
              "      border-left-color: var(--fill-color);\n",
              "      border-top-color: var(--fill-color);\n",
              "      border-right-color: var(--fill-color);\n",
              "    }\n",
              "    40% {\n",
              "      border-color: transparent;\n",
              "      border-right-color: var(--fill-color);\n",
              "      border-top-color: var(--fill-color);\n",
              "    }\n",
              "    60% {\n",
              "      border-color: transparent;\n",
              "      border-right-color: var(--fill-color);\n",
              "    }\n",
              "    80% {\n",
              "      border-color: transparent;\n",
              "      border-right-color: var(--fill-color);\n",
              "      border-bottom-color: var(--fill-color);\n",
              "    }\n",
              "    90% {\n",
              "      border-color: transparent;\n",
              "      border-bottom-color: var(--fill-color);\n",
              "    }\n",
              "  }\n",
              "</style>\n",
              "\n",
              "  <script>\n",
              "    async function quickchart(key) {\n",
              "      const quickchartButtonEl =\n",
              "        document.querySelector('#' + key + ' button');\n",
              "      quickchartButtonEl.disabled = true;  // To prevent multiple clicks.\n",
              "      quickchartButtonEl.classList.add('colab-df-spinner');\n",
              "      try {\n",
              "        const charts = await google.colab.kernel.invokeFunction(\n",
              "            'suggestCharts', [key], {});\n",
              "      } catch (error) {\n",
              "        console.error('Error during call to suggestCharts:', error);\n",
              "      }\n",
              "      quickchartButtonEl.classList.remove('colab-df-spinner');\n",
              "      quickchartButtonEl.classList.add('colab-df-quickchart-complete');\n",
              "    }\n",
              "    (() => {\n",
              "      let quickchartButtonEl =\n",
              "        document.querySelector('#df-d8065262-cc64-44ff-ba51-a82f791a0e49 button');\n",
              "      quickchartButtonEl.style.display =\n",
              "        google.colab.kernel.accessAllowed ? 'block' : 'none';\n",
              "    })();\n",
              "  </script>\n",
              "</div>\n",
              "    </div>\n",
              "  </div>\n"
            ]
          },
          "metadata": {},
          "execution_count": 13
        }
      ]
    },
    {
      "source": [
        "# PLOTTING `AVG_price` WITH `name`\n",
        "plt.bar(name_price['name'], name_price['AVG_price'], color = \"#30A3DA\")\n",
        "plt.xlabel('Service Type')\n",
        "plt.xticks(rotation=90)\n",
        "plt.ylabel('Average Price')\n",
        "plt.title('Average price by Service type')\n",
        "plt.show()"
      ],
      "cell_type": "code",
      "metadata": {
        "colab": {
          "base_uri": "https://localhost:8080/",
          "height": 546
        },
        "id": "Tiyv6X-U01DP",
        "outputId": "d9db149f-cb37-41b4-9ccd-5b686b3b6a8b"
      },
      "execution_count": 14,
      "outputs": [
        {
          "output_type": "display_data",
          "data": {
            "text/plain": [
              "<Figure size 640x480 with 1 Axes>"
            ],
            "image/png": "[encoded data removed]"
          },
          "metadata": {}
        }
      ]
    },
    {
      "cell_type": "markdown",
      "source": [
        "$Insight:$\n",
        "\n",
        "- From here we can see based on the service type `Shared` has the lowest average price of 6.029893, and `Lux Black XL` has the highest average price of 32.324086.\n",
        "- The observed price differences may reflect the preferences of consumers. Some customers may prioritize cost savings and opt for the more affordable `Shared` service, while others may be willing to pay a premium for the luxury and exclusivity associated with `Lux` and `Black` services."
      ],
      "metadata": {
        "id": "60qRvy4B8_DI"
      }
    },
    {
      "cell_type": "markdown",
      "source": [
        "### 2. Continuing from the previous insight, we could also find how much the average `distance` grouped by the type of service (`name`)."
      ],
      "metadata": {
        "id": "yFA7kK1V-85Z"
      }
    },
    {
      "cell_type": "code",
      "source": [
        "name_distance = df.groupby('name')['distance'].agg(AVG_distance='mean').sort_values(by='AVG_distance').reset_index()"
      ],
      "metadata": {
        "id": "iSQI5VcN_hcn"
      },
      "execution_count": 15,
      "outputs": []
    },
    {
      "cell_type": "code",
      "source": [
        "name_distance"
      ],
      "metadata": {
        "colab": {
          "base_uri": "https://localhost:8080/",
          "height": 426
        },
        "id": "Wd0ZvyXZ_uRt",
        "outputId": "3d5f7a60-ef00-4c3a-b7c8-e79ca5b6a6e6"
      },
      "execution_count": 16,
      "outputs": [
        {
          "output_type": "execute_result",
          "data": {
            "text/plain": [
              "            name  AVG_distance\n",
              "0            Lux      2.186968\n",
              "1      Lux Black      2.186968\n",
              "2   Lux Black XL      2.186968\n",
              "3           Lyft      2.186968\n",
              "4        Lyft XL      2.186968\n",
              "5         Shared      2.187012\n",
              "6      Black SUV      2.191378\n",
              "7         UberXL      2.191378\n",
              "8            WAV      2.191378\n",
              "9          UberX      2.191390\n",
              "10      UberPool      2.191396\n",
              "11         Black      2.191399"
            ],
            "text/html": [
              "\n",
              "  <div id=\"df-3abf94d0-d3ed-4f36-8e93-b9849a5c1cc7\" class=\"colab-df-container\">\n",
              "    <div>\n",
              "<style scoped>\n",
              "    .dataframe tbody tr th:only-of-type {\n",
              "        vertical-align: middle;\n",
              "    }\n",
              "\n",
              "    .dataframe tbody tr th {\n",
              "        vertical-align: top;\n",
              "    }\n",
              "\n",
              "    .dataframe thead th {\n",
              "        text-align: right;\n",
              "    }\n",
              "</style>\n",
              "<table border=\"1\" class=\"dataframe\">\n",
              "  <thead>\n",
              "    <tr style=\"text-align: right;\">\n",
              "      <th></th>\n",
              "      <th>name</th>\n",
              "      <th>AVG_distance</th>\n",
              "    </tr>\n",
              "  </thead>\n",
              "  <tbody>\n",
              "    <tr>\n",
              "      <th>0</th>\n",
              "      <td>Lux</td>\n",
              "      <td>2.186968</td>\n",
              "    </tr>\n",
              "    <tr>\n",
              "      <th>1</th>\n",
              "      <td>Lux Black</td>\n",
              "      <td>2.186968</td>\n",
              "    </tr>\n",
              "    <tr>\n",
              "      <th>2</th>\n",
              "      <td>Lux Black XL</td>\n",
              "      <td>2.186968</td>\n",
              "    </tr>\n",
              "    <tr>\n",
              "      <th>3</th>\n",
              "      <td>Lyft</td>\n",
              "      <td>2.186968</td>\n",
              "    </tr>\n",
              "    <tr>\n",
              "      <th>4</th>\n",
              "      <td>Lyft XL</td>\n",
              "      <td>2.186968</td>\n",
              "    </tr>\n",
              "    <tr>\n",
              "      <th>5</th>\n",
              "      <td>Shared</td>\n",
              "      <td>2.187012</td>\n",
              "    </tr>\n",
              "    <tr>\n",
              "      <th>6</th>\n",
              "      <td>Black SUV</td>\n",
              "      <td>2.191378</td>\n",
              "    </tr>\n",
              "    <tr>\n",
              "      <th>7</th>\n",
              "      <td>UberXL</td>\n",
              "      <td>2.191378</td>\n",
              "    </tr>\n",
              "    <tr>\n",
              "      <th>8</th>\n",
              "      <td>WAV</td>\n",
              "      <td>2.191378</td>\n",
              "    </tr>\n",
              "    <tr>\n",
              "      <th>9</th>\n",
              "      <td>UberX</td>\n",
              "      <td>2.191390</td>\n",
              "    </tr>\n",
              "    <tr>\n",
              "      <th>10</th>\n",
              "      <td>UberPool</td>\n",
              "      <td>2.191396</td>\n",
              "    </tr>\n",
              "    <tr>\n",
              "      <th>11</th>\n",
              "      <td>Black</td>\n",
              "      <td>2.191399</td>\n",
              "    </tr>\n",
              "  </tbody>\n",
              "</table>\n",
              "</div>\n",
              "    <div class=\"colab-df-buttons\">\n",
              "\n",
              "  <div class=\"colab-df-container\">\n",
              "    <button class=\"colab-df-convert\" onclick=\"convertToInteractive('df-3abf94d0-d3ed-4f36-8e93-b9849a5c1cc7')\"\n",
              "            title=\"Convert this dataframe to an interactive table.\"\n",
              "            style=\"display:none;\">\n",
              "\n",
              "  <svg xmlns=\"http://www.w3.org/2000/svg\" height=\"24px\" viewBox=\"0 -960 960 960\">\n",
              "    <path d=\"M120-120v-720h720v720H120Zm60-500h600v-160H180v160Zm220 220h160v-160H400v160Zm0 220h160v-160H400v160ZM180-400h160v-160H180v160Zm440 0h160v-160H620v160ZM180-180h160v-160H180v160Zm440 0h160v-160H620v160Z\"/>\n",
              "  </svg>\n",
              "    </button>\n",
              "\n",
              "  <style>\n",
              "    .colab-df-container {\n",
              "      display:flex;\n",
              "      gap: 12px;\n",
              "    }\n",
              "\n",
              "    .colab-df-convert {\n",
              "      background-color: #E8F0FE;\n",
              "      border: none;\n",
              "      border-radius: 50%;\n",
              "      cursor: pointer;\n",
              "      display: none;\n",
              "      fill: #1967D2;\n",
              "      height: 32px;\n",
              "      padding: 0 0 0 0;\n",
              "      width: 32px;\n",
              "    }\n",
              "\n",
              "    .colab-df-convert:hover {\n",
              "      background-color: #E2EBFA;\n",
              "      box-shadow: 0px 1px 2px rgba(60, 64, 67, 0.3), 0px 1px 3px 1px rgba(60, 64, 67, 0.15);\n",
              "      fill: #174EA6;\n",
              "    }\n",
              "\n",
              "    .colab-df-buttons div {\n",
              "      margin-bottom: 4px;\n",
              "    }\n",
              "\n",
              "    [theme=dark] .colab-df-convert {\n",
              "      background-color: #3B4455;\n",
              "      fill: #D2E3FC;\n",
              "    }\n",
              "\n",
              "    [theme=dark] .colab-df-convert:hover {\n",
              "      background-color: #434B5C;\n",
              "      box-shadow: 0px 1px 3px 1px rgba(0, 0, 0, 0.15);\n",
              "      filter: drop-shadow(0px 1px 2px rgba(0, 0, 0, 0.3));\n",
              "      fill: #FFFFFF;\n",
              "    }\n",
              "  </style>\n",
              "\n",
              "    <script>\n",
              "      const buttonEl =\n",
              "        document.querySelector('#df-3abf94d0-d3ed-4f36-8e93-b9849a5c1cc7 button.colab-df-convert');\n",
              "      buttonEl.style.display =\n",
              "        google.colab.kernel.accessAllowed ? 'block' : 'none';\n",
              "\n",
              "      async function convertToInteractive(key) {\n",
              "        const element = document.querySelector('#df-3abf94d0-d3ed-4f36-8e93-b9849a5c1cc7');\n",
              "        const dataTable =\n",
              "          await google.colab.kernel.invokeFunction('convertToInteractive',\n",
              "                                                    [key], {});\n",
              "        if (!dataTable) return;\n",
              "\n",
              "        const docLinkHtml = 'Like what you see? Visit the ' +\n",
              "          '<a target=\"_blank\" href=https://colab.research.google.com/notebooks/data_table.ipynb>data table notebook</a>'\n",
              "          + ' to learn more about interactive tables.';\n",
              "        element.innerHTML = '';\n",
              "        dataTable['output_type'] = 'display_data';\n",
              "        await google.colab.output.renderOutput(dataTable, element);\n",
              "        const docLink = document.createElement('div');\n",
              "        docLink.innerHTML = docLinkHtml;\n",
              "        element.appendChild(docLink);\n",
              "      }\n",
              "    </script>\n",
              "  </div>\n",
              "\n",
              "\n",
              "<div id=\"df-402e40a8-9dc5-4820-b45d-03825e42a212\">\n",
              "  <button class=\"colab-df-quickchart\" onclick=\"quickchart('df-402e40a8-9dc5-4820-b45d-03825e42a212')\"\n",
              "            title=\"Suggest charts\"\n",
              "            style=\"display:none;\">\n",
              "\n",
              "<svg xmlns=\"http://www.w3.org/2000/svg\" height=\"24px\"viewBox=\"0 0 24 24\"\n",
              "     width=\"24px\">\n",
              "    <g>\n",
              "        <path d=\"M19 3H5c-1.1 0-2 .9-2 2v14c0 1.1.9 2 2 2h14c1.1 0 2-.9 2-2V5c0-1.1-.9-2-2-2zM9 17H7v-7h2v7zm4 0h-2V7h2v10zm4 0h-2v-4h2v4z\"/>\n",
              "    </g>\n",
              "</svg>\n",
              "  </button>\n",
              "\n",
              "<style>\n",
              "  .colab-df-quickchart {\n",
              "      --bg-color: #E8F0FE;\n",
              "      --fill-color: #1967D2;\n",
              "      --hover-bg-color: #E2EBFA;\n",
              "      --hover-fill-color: #174EA6;\n",
              "      --disabled-fill-color: #AAA;\n",
              "      --disabled-bg-color: #DDD;\n",
              "  }\n",
              "\n",
              "  [theme=dark] .colab-df-quickchart {\n",
              "      --bg-color: #3B4455;\n",
              "      --fill-color: #D2E3FC;\n",
              "      --hover-bg-color: #434B5C;\n",
              "      --hover-fill-color: #FFFFFF;\n",
              "      --disabled-bg-color: #3B4455;\n",
              "      --disabled-fill-color: #666;\n",
              "  }\n",
              "\n",
              "  .colab-df-quickchart {\n",
              "    background-color: var(--bg-color);\n",
              "    border: none;\n",
              "    border-radius: 50%;\n",
              "    cursor: pointer;\n",
              "    display: none;\n",
              "    fill: var(--fill-color);\n",
              "    height: 32px;\n",
              "    padding: 0;\n",
              "    width: 32px;\n",
              "  }\n",
              "\n",
              "  .colab-df-quickchart:hover {\n",
              "    background-color: var(--hover-bg-color);\n",
              "    box-shadow: 0 1px 2px rgba(60, 64, 67, 0.3), 0 1px 3px 1px rgba(60, 64, 67, 0.15);\n",
              "    fill: var(--button-hover-fill-color);\n",
              "  }\n",
              "\n",
              "  .colab-df-quickchart-complete:disabled,\n",
              "  .colab-df-quickchart-complete:disabled:hover {\n",
              "    background-color: var(--disabled-bg-color);\n",
              "    fill: var(--disabled-fill-color);\n",
              "    box-shadow: none;\n",
              "  }\n",
              "\n",
              "  .colab-df-spinner {\n",
              "    border: 2px solid var(--fill-color);\n",
              "    border-color: transparent;\n",
              "    border-bottom-color: var(--fill-color);\n",
              "    animation:\n",
              "      spin 1s steps(1) infinite;\n",
              "  }\n",
              "\n",
              "  @keyframes spin {\n",
              "    0% {\n",
              "      border-color: transparent;\n",
              "      border-bottom-color: var(--fill-color);\n",
              "      border-left-color: var(--fill-color);\n",
              "    }\n",
              "    20% {\n",
              "      border-color: transparent;\n",
              "      border-left-color: var(--fill-color);\n",
              "      border-top-color: var(--fill-color);\n",
              "    }\n",
              "    30% {\n",
              "      border-color: transparent;\n",
              "      border-left-color: var(--fill-color);\n",
              "      border-top-color: var(--fill-color);\n",
              "      border-right-color: var(--fill-color);\n",
              "    }\n",
              "    40% {\n",
              "      border-color: transparent;\n",
              "      border-right-color: var(--fill-color);\n",
              "      border-top-color: var(--fill-color);\n",
              "    }\n",
              "    60% {\n",
              "      border-color: transparent;\n",
              "      border-right-color: var(--fill-color);\n",
              "    }\n",
              "    80% {\n",
              "      border-color: transparent;\n",
              "      border-right-color: var(--fill-color);\n",
              "      border-bottom-color: var(--fill-color);\n",
              "    }\n",
              "    90% {\n",
              "      border-color: transparent;\n",
              "      border-bottom-color: var(--fill-color);\n",
              "    }\n",
              "  }\n",
              "</style>\n",
              "\n",
              "  <script>\n",
              "    async function quickchart(key) {\n",
              "      const quickchartButtonEl =\n",
              "        document.querySelector('#' + key + ' button');\n",
              "      quickchartButtonEl.disabled = true;  // To prevent multiple clicks.\n",
              "      quickchartButtonEl.classList.add('colab-df-spinner');\n",
              "      try {\n",
              "        const charts = await google.colab.kernel.invokeFunction(\n",
              "            'suggestCharts', [key], {});\n",
              "      } catch (error) {\n",
              "        console.error('Error during call to suggestCharts:', error);\n",
              "      }\n",
              "      quickchartButtonEl.classList.remove('colab-df-spinner');\n",
              "      quickchartButtonEl.classList.add('colab-df-quickchart-complete');\n",
              "    }\n",
              "    (() => {\n",
              "      let quickchartButtonEl =\n",
              "        document.querySelector('#df-402e40a8-9dc5-4820-b45d-03825e42a212 button');\n",
              "      quickchartButtonEl.style.display =\n",
              "        google.colab.kernel.accessAllowed ? 'block' : 'none';\n",
              "    })();\n",
              "  </script>\n",
              "</div>\n",
              "    </div>\n",
              "  </div>\n"
            ]
          },
          "metadata": {},
          "execution_count": 16
        }
      ]
    },
    {
      "cell_type": "code",
      "source": [
        "# PLOTTING `AVG_distance` WITH `name`\n",
        "plt.plot(name_distance['name'], name_distance['AVG_distance'], color = \"#30A3DA\")\n",
        "plt.xlabel('Service Type')\n",
        "plt.xticks(rotation=90)\n",
        "plt.ylabel('Average Distance')\n",
        "plt.title('Average distance by Service type')\n",
        "plt.show()"
      ],
      "metadata": {
        "colab": {
          "base_uri": "https://localhost:8080/",
          "height": 546
        },
        "id": "Gh07B682_16G",
        "outputId": "0374e2fd-43ff-4d1a-ead6-a1ba9bc87de6"
      },
      "execution_count": 17,
      "outputs": [
        {
          "output_type": "display_data",
          "data": {
            "text/plain": [
              "<Figure size 640x480 with 1 Axes>"
            ],
            "image/png": "[encoded data removed]"
          },
          "metadata": {}
        }
      ]
    },
    {
      "cell_type": "markdown",
      "source": [
        "$Insight:$\n",
        "\n",
        "- Unlike the previous comparison, it seems that average `distance` is much less affected by the service type (`name`). As different service type could have similar distance."
      ],
      "metadata": {
        "id": "aPU9SGwNASp1"
      }
    },
    {
      "cell_type": "markdown",
      "source": [
        "### 3. Let's dive a little deeper into the `distance` column, by examining it's mean, median, modus, standard deviation, and skew."
      ],
      "metadata": {
        "id": "cy5_wFHIBRwV"
      }
    },
    {
      "cell_type": "code",
      "source": [
        "# DESCRIPTIVE ANALYSIS OF `distance` COLUMN\n",
        "print(f\"Distance mean: {df['distance'].mean()}\")\n",
        "print(f\"Distance mode: {df['distance'].mode()[0]}\")\n",
        "print(f\"Distance median: {df['distance'].median()}\")\n",
        "print(f\"Distance std: {df['distance'].std()}\")\n",
        "print(f\"Distance skew: {df['distance'].skew()}\")"
      ],
      "metadata": {
        "colab": {
          "base_uri": "https://localhost:8080/"
        },
        "id": "XgUwTRT-BnMQ",
        "outputId": "9329e58a-811e-453d-8131-301830a8002a"
      },
      "execution_count": 18,
      "outputs": [
        {
          "output_type": "stream",
          "name": "stdout",
          "text": [
            "Distance mean: 2.189261100731062\n",
            "Distance mode: 2.66\n",
            "Distance median: 2.16\n",
            "Distance std: 1.135413018186186\n",
            "Distance skew: 0.8168484903389348\n"
          ]
        }
      ]
    },
    {
      "cell_type": "code",
      "source": [
        "# FINDING THE UPPER AND LOWER BOUNDARY OF 'distance' COLUMN\n",
        "q1 = df['distance'].quantile(0.25)\n",
        "q3 = df['distance'].quantile(0.75)\n",
        "iqr = q3 - q1\n",
        "\n",
        "# Tukey's Rule (SKEW >= |0.5|)\n",
        "up_bound = q3 + 1.5 * iqr\n",
        "low_bound = q1 - 1.5 * iqr\n",
        "\n",
        "print(f'Upper Boundary: {up_bound:.2f}')\n",
        "print(f'Lower Boundary: {low_bound:.2f}')"
      ],
      "metadata": {
        "colab": {
          "base_uri": "https://localhost:8080/"
        },
        "id": "ceDFN6moDNvP",
        "outputId": "44aedbff-ac71-4dd9-a9c0-5223f9638f19"
      },
      "execution_count": 19,
      "outputs": [
        {
          "output_type": "stream",
          "name": "stdout",
          "text": [
            "Upper Boundary: 5.42\n",
            "Lower Boundary: -1.22\n"
          ]
        }
      ]
    },
    {
      "cell_type": "code",
      "source": [
        "df_distance = df.groupby('distance').size().reset_index(name='count')"
      ],
      "metadata": {
        "id": "DgqeEOQtFB5O"
      },
      "execution_count": 20,
      "outputs": []
    },
    {
      "cell_type": "code",
      "source": [
        "# SEABORN FOR A BETTER LOOKING GRAPH\n",
        "sns.histplot(df_distance['distance'],kde=True, bins=50, color=\"#30A3DA\") # bins=50, gave a good balance of detail and understandability\n",
        "plt.xlabel('Distance')\n",
        "plt.ylabel('Count')\n",
        "plt.title('Distance Distribution')\n",
        "plt.show()"
      ],
      "metadata": {
        "colab": {
          "base_uri": "https://localhost:8080/",
          "height": 472
        },
        "id": "daIQhMZDGjIj",
        "outputId": "9063e0c6-7132-4c4b-dc1b-6b0bc3c6c434"
      },
      "execution_count": 21,
      "outputs": [
        {
          "output_type": "display_data",
          "data": {
            "text/plain": [
              "<Figure size 640x480 with 1 Axes>"
            ],
            "image/png": "[encoded data removed]"
          },
          "metadata": {}
        }
      ]
    },
    {
      "cell_type": "markdown",
      "source": [
        "$Insight:$\n",
        "\n",
        "- Mean distance (2.18), median (2.16), and mode (2.66) suggests that most users used the services mostly for shorter distance travel.\n",
        "- The standard deviation is ~1.14 units, indicating a moderate amount of variability in the distances.\n",
        "- The skewness value of 0.82 suggests a rightward skew in the distribution. This means that the tail on the right side of the distribution is longer or the left side, as can be seen from the visualization."
      ],
      "metadata": {
        "id": "n_dSKV51D0cs"
      }
    },
    {
      "cell_type": "markdown",
      "source": [
        "### 4. Let's also dive a little deeper into the `price` column, by examining it's mean, median, modus, standard deviation, and skew."
      ],
      "metadata": {
        "id": "UJr5mXYDtiul"
      }
    },
    {
      "cell_type": "code",
      "source": [
        "# DESCRIPTIVE ANALYSIS OF `price` COLUMN\n",
        "print(f\"price mean: {df['price'].mean()}\")\n",
        "print(f\"price mode: {df['price'].mode()[0]}\")\n",
        "print(f\"price median: {df['price'].median()}\")\n",
        "print(f\"price std: {df['price'].std()}\")\n",
        "print(f\"price skew: {df['price'].skew()}\")"
      ],
      "metadata": {
        "colab": {
          "base_uri": "https://localhost:8080/"
        },
        "id": "jlciPEIWtqS8",
        "outputId": "e0dc9094-8b04-4770-ec3d-08758e84b720"
      },
      "execution_count": 22,
      "outputs": [
        {
          "output_type": "stream",
          "name": "stdout",
          "text": [
            "price mean: 16.545125490614065\n",
            "price mode: 7.0\n",
            "price median: 13.5\n",
            "price std: 9.324358581411627\n",
            "price skew: 1.0457470560899258\n"
          ]
        }
      ]
    },
    {
      "cell_type": "code",
      "source": [
        "# FINDING THE UPPER AND LOWER BOUNDARY OF 'distance' COLUMN\n",
        "q1 = df['price'].quantile(0.25)\n",
        "q3 = df['price'].quantile(0.75)\n",
        "iqr = q3 - q1\n",
        "\n",
        "# Tukey's Rule (SKEW >= |0.5|)\n",
        "up_bound = q3 + 1.5 * iqr\n",
        "low_bound = q1 - 1.5 * iqr\n",
        "\n",
        "print(f'Upper Boundary: {up_bound:.2f}')\n",
        "print(f'Lower Boundary: {low_bound:.2f}')"
      ],
      "metadata": {
        "colab": {
          "base_uri": "https://localhost:8080/"
        },
        "id": "2uSseSCAtyae",
        "outputId": "b1f28ab1-6fd2-438b-c506-6c2f97ae4a19"
      },
      "execution_count": 23,
      "outputs": [
        {
          "output_type": "stream",
          "name": "stdout",
          "text": [
            "Upper Boundary: 42.75\n",
            "Lower Boundary: -11.25\n"
          ]
        }
      ]
    },
    {
      "cell_type": "code",
      "source": [
        "df_price = df.groupby('price').size().reset_index(name='count')"
      ],
      "metadata": {
        "id": "bWr6tvtTt4St"
      },
      "execution_count": 24,
      "outputs": []
    },
    {
      "cell_type": "code",
      "source": [
        "sns.histplot(df_price['price'],kde=True, bins=50, color=\"#30A3DA\") # bins=50, gave a good balance of detail and understandability\n",
        "plt.xlabel('price')\n",
        "plt.ylabel('Count')\n",
        "plt.title('price Distribution')\n",
        "plt.show()"
      ],
      "metadata": {
        "colab": {
          "base_uri": "https://localhost:8080/",
          "height": 472
        },
        "id": "xaB4Kqhzt9Vt",
        "outputId": "3639204e-8940-4444-d898-93fdab11603a"
      },
      "execution_count": 25,
      "outputs": [
        {
          "output_type": "display_data",
          "data": {
            "text/plain": [
              "<Figure size 640x480 with 1 Axes>"
            ],
            "image/png": "[encoded data removed]"
          },
          "metadata": {}
        }
      ]
    },
    {
      "cell_type": "markdown",
      "source": [
        "### 5. Finally, in what `day` and `hour` is there more ride-sharing occurences?"
      ],
      "metadata": {
        "id": "MIWvjHmDFtjU"
      }
    },
    {
      "cell_type": "code",
      "source": [
        "df_hour = df.groupby('hour').size().reset_index(name='count')"
      ],
      "metadata": {
        "id": "512iLanJDtHz"
      },
      "execution_count": 26,
      "outputs": []
    },
    {
      "cell_type": "code",
      "source": [
        "plt.plot(df_hour['hour'], df_hour['count'], color=\"#30A3DA\")\n",
        "plt.xticks(df_hour['hour'])\n",
        "plt.xlabel('hour')\n",
        "plt.ylabel('Count')\n",
        "plt.title('hour Distribution')\n",
        "plt.show()"
      ],
      "metadata": {
        "colab": {
          "base_uri": "https://localhost:8080/",
          "height": 472
        },
        "id": "A-gPRctGKOk6",
        "outputId": "69749b30-8cbe-4ce1-a22b-6e0edebb585c"
      },
      "execution_count": 27,
      "outputs": [
        {
          "output_type": "display_data",
          "data": {
            "text/plain": [
              "<Figure size 640x480 with 1 Axes>"
            ],
            "image/png": "[encoded data removed]"
          },
          "metadata": {}
        }
      ]
    },
    {
      "cell_type": "code",
      "source": [
        "df_day = df.groupby('day').size().reset_index(name='count')"
      ],
      "metadata": {
        "id": "Ppe-SicpNB_a"
      },
      "execution_count": 28,
      "outputs": []
    },
    {
      "cell_type": "code",
      "source": [
        "plt.plot(df_day['day'], df_day['count'], color=\"#30A3DA\")\n",
        "plt.xticks(range(1,32), size= 8)\n",
        "plt.xlabel('day')\n",
        "plt.ylabel('Count')\n",
        "plt.title('day Distribution')\n",
        "plt.show()"
      ],
      "metadata": {
        "colab": {
          "base_uri": "https://localhost:8080/",
          "height": 468
        },
        "id": "dmYbkVQdNEd4",
        "outputId": "15bd8650-7788-45f3-b541-3be85faadb9a"
      },
      "execution_count": 29,
      "outputs": [
        {
          "output_type": "display_data",
          "data": {
            "text/plain": [
              "<Figure size 640x480 with 1 Axes>"
            ],
            "image/png": "[encoded data removed]"
          },
          "metadata": {}
        }
      ]
    },
    {
      "cell_type": "markdown",
      "source": [
        "# 4. Feature Engineering"
      ],
      "metadata": {
        "id": "rZqNDFNVN8ra"
      }
    },
    {
      "cell_type": "markdown",
      "source": [
        "## A. Split between X (Features) and y (Target)"
      ],
      "metadata": {
        "id": "2ImqK_lfqPMo"
      }
    },
    {
      "cell_type": "code",
      "source": [
        "df = pd.read_csv('/content/drive/MyDrive/Datasets/rideshare_kaggle.csv', on_bad_lines ='skip')\n",
        "df = df.dropna()"
      ],
      "metadata": {
        "id": "_t77OFMT8ekM"
      },
      "execution_count": 30,
      "outputs": []
    },
    {
      "cell_type": "markdown",
      "source": [
        "We shall use `price` as the target variable (y)."
      ],
      "metadata": {
        "id": "DRs2gUSbMDHF"
      }
    },
    {
      "cell_type": "code",
      "source": [
        "x = df.drop(columns=['price'])"
      ],
      "metadata": {
        "id": "QzrlQZU_MR7F"
      },
      "execution_count": 31,
      "outputs": []
    },
    {
      "cell_type": "code",
      "source": [
        "y = df['price']"
      ],
      "metadata": {
        "id": "yKVmerysMrqg"
      },
      "execution_count": 32,
      "outputs": []
    },
    {
      "cell_type": "markdown",
      "source": [
        "## B. Split between Train-Set and Test-Set"
      ],
      "metadata": {
        "id": "QO4eS4JRqUYb"
      }
    },
    {
      "cell_type": "code",
      "source": [
        "x_train, x_test, y_train, y_test = train_test_split(x,y, test_size=0.2, random_state=21)\n",
        "\n",
        "x_train.shape, x_test.shape"
      ],
      "metadata": {
        "colab": {
          "base_uri": "https://localhost:8080/"
        },
        "id": "B32BXiliL-Wq",
        "outputId": "7e90b6be-6884-416e-a4c3-272fe7093be9"
      },
      "execution_count": 33,
      "outputs": [
        {
          "output_type": "execute_result",
          "data": {
            "text/plain": [
              "((510380, 56), (127596, 56))"
            ]
          },
          "metadata": {},
          "execution_count": 33
        }
      ]
    },
    {
      "cell_type": "markdown",
      "source": [
        "## C. Handling Cardinality"
      ],
      "metadata": {
        "id": "PZ8n6E-VqZH5"
      }
    },
    {
      "cell_type": "code",
      "source": [
        "# SPLITTING THE DF INTO CATEGORIC AND NUMERIC\n",
        "category_cols = df.select_dtypes(include=object).columns.tolist()\n",
        "num_cols = df.select_dtypes(include=np.number).columns.tolist()"
      ],
      "metadata": {
        "id": "RES1fxOo85FW"
      },
      "execution_count": 34,
      "outputs": []
    },
    {
      "cell_type": "markdown",
      "source": [
        "#### Categoric Columns"
      ],
      "metadata": {
        "id": "y6ORJmnpGTNl"
      }
    },
    {
      "cell_type": "code",
      "source": [
        "category_cols"
      ],
      "metadata": {
        "colab": {
          "base_uri": "https://localhost:8080/"
        },
        "id": "Ls7px9N3_8nA",
        "outputId": "60e2dec3-f0e1-4ee0-b2e0-78e3f2840b5f"
      },
      "execution_count": 35,
      "outputs": [
        {
          "output_type": "execute_result",
          "data": {
            "text/plain": [
              "['id',\n",
              " 'datetime',\n",
              " 'timezone',\n",
              " 'source',\n",
              " 'destination',\n",
              " 'cab_type',\n",
              " 'product_id',\n",
              " 'name',\n",
              " 'short_summary',\n",
              " 'long_summary',\n",
              " 'icon']"
            ]
          },
          "metadata": {},
          "execution_count": 35
        }
      ]
    },
    {
      "cell_type": "markdown",
      "source": [
        "As we have previously done in the EDA section, we will remove columns that have been deemed redundant with the only difference being the inclusion of `short_summary`."
      ],
      "metadata": {
        "id": "tjnmeF9iDFfq"
      }
    },
    {
      "cell_type": "code",
      "source": [
        "columns_to_remove = ['id', 'datetime', 'timezone', 'product_id', 'long_summary', 'icon']\n",
        "category_cols = [column for column in category_cols if column not in columns_to_remove]"
      ],
      "metadata": {
        "id": "BtrFB0vuDN0a"
      },
      "execution_count": 36,
      "outputs": []
    },
    {
      "cell_type": "code",
      "source": [
        "# FIND UNIQUE VALUES IN df_category TO DETERMINE CARDINALITY\n",
        "for column in category_cols:\n",
        "  print(f\"{column} unique values: {len(df[column].unique())}\")"
      ],
      "metadata": {
        "colab": {
          "base_uri": "https://localhost:8080/"
        },
        "id": "_D5BGeM6CRYi",
        "outputId": "c91c0c9b-48da-4366-ed01-c7b6c9b89d77"
      },
      "execution_count": 37,
      "outputs": [
        {
          "output_type": "stream",
          "name": "stdout",
          "text": [
            "source unique values: 12\n",
            "destination unique values: 12\n",
            "cab_type unique values: 2\n",
            "name unique values: 12\n",
            "short_summary unique values: 9\n"
          ]
        }
      ]
    },
    {
      "cell_type": "markdown",
      "source": [
        "For now we can assume that the categorical columns have either a low cardinality (`cab_type`) or moderate cardinality (`source`, `destination`, `cab_type`, `name`, `short_summary`)."
      ],
      "metadata": {
        "id": "q64ENNtMEQf7"
      }
    },
    {
      "cell_type": "markdown",
      "source": [
        "## D. Handling Outlier"
      ],
      "metadata": {
        "id": "TNfEvuHBqjUO"
      }
    },
    {
      "cell_type": "code",
      "source": [
        "# Function to find upper and lower boundaries for skewed distributed variables\n",
        "# Let's calculate the boundaries outside which sit the outliers for skewed distributions\n",
        "# Distance passed as an argument, gives us the option to estimate 1.5 times or 3 times the IQR to calculate the boundaries.\n",
        "\n",
        "def find_skewed_boundaries(df, variable, distance):\n",
        "    IQR = df[variable].quantile(0.75) - df[variable].quantile(0.25)\n",
        "\n",
        "    lower_boundary = df[variable].quantile(0.25) - (IQR * distance)\n",
        "    upper_boundary = df[variable].quantile(0.75) + (IQR * distance)\n",
        "\n",
        "    return upper_boundary, lower_boundary"
      ],
      "metadata": {
        "id": "FCB6eMiIukPM"
      },
      "execution_count": 38,
      "outputs": []
    },
    {
      "cell_type": "markdown",
      "source": [
        "#### `distance` outlier:"
      ],
      "metadata": {
        "id": "iVSRV0o6w_aY"
      }
    },
    {
      "cell_type": "code",
      "source": [
        "upper_boundary_distance, lower_boundary_distance = find_skewed_boundaries(x_train, 'distance', 1.5)\n",
        "upper_boundary_distance, lower_boundary_distance"
      ],
      "metadata": {
        "colab": {
          "base_uri": "https://localhost:8080/"
        },
        "id": "1QkaYiUQupcM",
        "outputId": "86a43de4-36bc-4bcf-b177-30f1012293db"
      },
      "execution_count": 39,
      "outputs": [
        {
          "output_type": "execute_result",
          "data": {
            "text/plain": [
              "(5.42, -1.2200000000000002)"
            ]
          },
          "metadata": {},
          "execution_count": 39
        }
      ]
    },
    {
      "cell_type": "markdown",
      "source": [
        "We have previously found that `distance` have a skewed distribution, so to find the outlier we will use:"
      ],
      "metadata": {
        "id": "pt3sltStx77o"
      }
    },
    {
      "cell_type": "code",
      "source": [
        "print('Total rides : {}'.format(len(x_train)))\n",
        "print('Rides with distance more than 5.42   : {}'.format(len(x_train[x_train['distance'] > upper_boundary_distance])))\n",
        "print('')\n",
        "print('% rides with distance more than 5.42 : {}'.format(len(x_train[x_train['distance'] > upper_boundary_distance])/len(x_train) * 100))"
      ],
      "metadata": {
        "colab": {
          "base_uri": "https://localhost:8080/"
        },
        "id": "4cs0XdJ3vdHT",
        "outputId": "3765762f-bf70-42a9-9e82-cbcf6a185eb1"
      },
      "execution_count": 40,
      "outputs": [
        {
          "output_type": "stream",
          "name": "stdout",
          "text": [
            "Total rides : 510380\n",
            "Rides with distance more than 5.42   : 5345\n",
            "\n",
            "% rides with distance more than 5.42 : 1.0472589051295114\n"
          ]
        }
      ]
    },
    {
      "cell_type": "markdown",
      "source": [
        "$Insight:$\n",
        "\n",
        "Only the upper boundaries count since the lower boundaries are negative value, for `distance` we observe that 1.04% of the values in the dataset fall above the boundaries."
      ],
      "metadata": {
        "id": "FPsjywrOwLNK"
      }
    },
    {
      "cell_type": "code",
      "source": [
        "# Flag the outliers in category `distance`\n",
        "outliers_distance = np.where(x_train['distance'] > upper_boundary_distance, True,\n",
        "                       np.where(x_train['distance'] < lower_boundary_distance, True, False))\n",
        "\n",
        "x_train_trimmed = x_train.loc[~(outliers_distance)]\n",
        "\n",
        "print('Size dataset - Before trimming : ', x_train.shape)\n",
        "print('Size dataset - After trimming  : ', x_train_trimmed.shape)"
      ],
      "metadata": {
        "colab": {
          "base_uri": "https://localhost:8080/"
        },
        "id": "qU0jhamqyOYu",
        "outputId": "04eb9b0b-070d-42a0-c7b6-a9260c81a3e3"
      },
      "execution_count": 41,
      "outputs": [
        {
          "output_type": "stream",
          "name": "stdout",
          "text": [
            "Size dataset - Before trimming :  (510380, 56)\n",
            "Size dataset - After trimming  :  (505035, 56)\n"
          ]
        }
      ]
    },
    {
      "cell_type": "code",
      "source": [
        "# TRIMMING y_train\n",
        "\n",
        "indices_to_keep = x_train_trimmed.index\n",
        "\n",
        "y_train_trimmed = y_train.loc[indices_to_keep]\n"
      ],
      "metadata": {
        "id": "tKacNb1xkX3O"
      },
      "execution_count": 42,
      "outputs": []
    },
    {
      "cell_type": "code",
      "source": [
        "x_train = x_train_trimmed\n",
        "y_train = y_train_trimmed"
      ],
      "metadata": {
        "id": "G2CO9nvyytvR"
      },
      "execution_count": 43,
      "outputs": []
    },
    {
      "cell_type": "markdown",
      "source": [
        "## E. Handling Missing Values"
      ],
      "metadata": {
        "id": "q-wlkzLP_UPW"
      }
    },
    {
      "cell_type": "code",
      "source": [
        "df.isna().sum()"
      ],
      "metadata": {
        "colab": {
          "base_uri": "https://localhost:8080/"
        },
        "id": "-17d53voBYSX",
        "outputId": "732e3238-3d0a-4c3a-876c-73c9aa050b12"
      },
      "execution_count": 44,
      "outputs": [
        {
          "output_type": "execute_result",
          "data": {
            "text/plain": [
              "id                             0\n",
              "timestamp                      0\n",
              "hour                           0\n",
              "day                            0\n",
              "month                          0\n",
              "datetime                       0\n",
              "timezone                       0\n",
              "source                         0\n",
              "destination                    0\n",
              "cab_type                       0\n",
              "product_id                     0\n",
              "name                           0\n",
              "price                          0\n",
              "distance                       0\n",
              "surge_multiplier               0\n",
              "latitude                       0\n",
              "longitude                      0\n",
              "temperature                    0\n",
              "apparentTemperature            0\n",
              "short_summary                  0\n",
              "long_summary                   0\n",
              "precipIntensity                0\n",
              "precipProbability              0\n",
              "humidity                       0\n",
              "windSpeed                      0\n",
              "windGust                       0\n",
              "windGustTime                   0\n",
              "visibility                     0\n",
              "temperatureHigh                0\n",
              "temperatureHighTime            0\n",
              "temperatureLow                 0\n",
              "temperatureLowTime             0\n",
              "apparentTemperatureHigh        0\n",
              "apparentTemperatureHighTime    0\n",
              "apparentTemperatureLow         0\n",
              "apparentTemperatureLowTime     0\n",
              "icon                           0\n",
              "dewPoint                       0\n",
              "pressure                       0\n",
              "windBearing                    0\n",
              "cloudCover                     0\n",
              "uvIndex                        0\n",
              "visibility.1                   0\n",
              "ozone                          0\n",
              "sunriseTime                    0\n",
              "sunsetTime                     0\n",
              "moonPhase                      0\n",
              "precipIntensityMax             0\n",
              "uvIndexTime                    0\n",
              "temperatureMin                 0\n",
              "temperatureMinTime             0\n",
              "temperatureMax                 0\n",
              "temperatureMaxTime             0\n",
              "apparentTemperatureMin         0\n",
              "apparentTemperatureMinTime     0\n",
              "apparentTemperatureMax         0\n",
              "apparentTemperatureMaxTime     0\n",
              "dtype: int64"
            ]
          },
          "metadata": {},
          "execution_count": 44
        }
      ]
    },
    {
      "cell_type": "markdown",
      "source": [
        "## F. Feature Selection"
      ],
      "metadata": {
        "id": "Wb7eg_XzqpIz"
      }
    },
    {
      "cell_type": "markdown",
      "source": [
        "#### Selecting features from categorical columns:"
      ],
      "metadata": {
        "id": "DkP7kEPazAY7"
      }
    },
    {
      "cell_type": "code",
      "source": [
        "#We will use a for loop to get the Kendall Tau values of each categorical features.\n",
        "for i in category_cols:\n",
        "    corr_tau, pval_k = stats.kendalltau(df['price'], df[i])\n",
        "\n",
        "    if pval_k > 0.05:\n",
        "        print(\"\")\n",
        "        print(f\"- No significant correlation between 'price' and {i}\")\n",
        "    else:\n",
        "        print(\"\")\n",
        "        print(f\"- Significant correlation between 'price' and {i}:\")\n",
        "        print(f\"  Kendall correlation: {corr_tau:.2f}, p-value: {pval_k}\")"
      ],
      "metadata": {
        "colab": {
          "base_uri": "https://localhost:8080/"
        },
        "id": "qA9W0mQsUWA6",
        "outputId": "628217a3-b3b1-4347-8dd7-a70b6f73be58"
      },
      "execution_count": 45,
      "outputs": [
        {
          "output_type": "stream",
          "name": "stdout",
          "text": [
            "\n",
            "- Significant correlation between 'price' and source:\n",
            "  Kendall correlation: -0.01, p-value: 2.3529257792795844e-49\n",
            "\n",
            "- Significant correlation between 'price' and destination:\n",
            "  Kendall correlation: -0.03, p-value: 2.33081827277028e-278\n",
            "\n",
            "- Significant correlation between 'price' and cab_type:\n",
            "  Kendall correlation: -0.06, p-value: 0.0\n",
            "\n",
            "- Significant correlation between 'price' and name:\n",
            "  Kendall correlation: -0.40, p-value: 0.0\n",
            "\n",
            "- No significant correlation between 'price' and short_summary\n"
          ]
        }
      ]
    },
    {
      "cell_type": "markdown",
      "source": [
        "$Insight:$\n",
        "\n",
        "Based on the correlation tests, `source`, `destination`, `cab_type` and `name` have a significant correlation to `price`."
      ],
      "metadata": {
        "id": "X9QUFVWMzsQi"
      }
    },
    {
      "cell_type": "markdown",
      "source": [
        "#### Selecting features from the numerical columns:"
      ],
      "metadata": {
        "id": "AGjZPnBUzPLJ"
      }
    },
    {
      "cell_type": "code",
      "source": [
        "num_cols"
      ],
      "metadata": {
        "colab": {
          "base_uri": "https://localhost:8080/"
        },
        "id": "98DKsV1D_99o",
        "outputId": "60a16938-0b47-4817-fa50-4a30d08573ad"
      },
      "execution_count": 46,
      "outputs": [
        {
          "output_type": "execute_result",
          "data": {
            "text/plain": [
              "['timestamp',\n",
              " 'hour',\n",
              " 'day',\n",
              " 'month',\n",
              " 'price',\n",
              " 'distance',\n",
              " 'surge_multiplier',\n",
              " 'latitude',\n",
              " 'longitude',\n",
              " 'temperature',\n",
              " 'apparentTemperature',\n",
              " 'precipIntensity',\n",
              " 'precipProbability',\n",
              " 'humidity',\n",
              " 'windSpeed',\n",
              " 'windGust',\n",
              " 'windGustTime',\n",
              " 'visibility',\n",
              " 'temperatureHigh',\n",
              " 'temperatureHighTime',\n",
              " 'temperatureLow',\n",
              " 'temperatureLowTime',\n",
              " 'apparentTemperatureHigh',\n",
              " 'apparentTemperatureHighTime',\n",
              " 'apparentTemperatureLow',\n",
              " 'apparentTemperatureLowTime',\n",
              " 'dewPoint',\n",
              " 'pressure',\n",
              " 'windBearing',\n",
              " 'cloudCover',\n",
              " 'uvIndex',\n",
              " 'visibility.1',\n",
              " 'ozone',\n",
              " 'sunriseTime',\n",
              " 'sunsetTime',\n",
              " 'moonPhase',\n",
              " 'precipIntensityMax',\n",
              " 'uvIndexTime',\n",
              " 'temperatureMin',\n",
              " 'temperatureMinTime',\n",
              " 'temperatureMax',\n",
              " 'temperatureMaxTime',\n",
              " 'apparentTemperatureMin',\n",
              " 'apparentTemperatureMinTime',\n",
              " 'apparentTemperatureMax',\n",
              " 'apparentTemperatureMaxTime']"
            ]
          },
          "metadata": {},
          "execution_count": 46
        }
      ]
    },
    {
      "cell_type": "markdown",
      "source": [
        "Just like in the previous EDA section, we shall drop the `timestamp` column, and use the rest of the columns."
      ],
      "metadata": {
        "id": "DiViM97W8Tsb"
      }
    },
    {
      "cell_type": "code",
      "source": [
        "num_cols.remove('timestamp')"
      ],
      "metadata": {
        "id": "myDQgyE9H27h"
      },
      "execution_count": 47,
      "outputs": []
    },
    {
      "cell_type": "code",
      "source": [
        "for i in num_cols:\n",
        "    corr_r, pval_p = stats.pearsonr(df['price'], df[i])\n",
        "    corr_rho, pval_s = stats.spearmanr(df['price'], df[i])\n",
        "    corr_tau, pval_k = stats.kendalltau(df['price'], df[i])\n",
        "\n",
        "    if pval_p > 0.05 or pval_s > 0.05 or pval_k > 0.05:\n",
        "      print(\"\")\n",
        "      print(f\"- No significant correlation between 'price' and {i}\")\n",
        "    else:\n",
        "      print(\"\")\n",
        "      print(f\"- Significant correlation between 'price' and {i}:\")\n",
        "      print(f\"  Pearson correlation: {corr_r:.2f}, p-value: {pval_p}\")\n",
        "      print(f\"  Spearman correlation: {corr_rho:.2f}, p-value: {pval_s}\")\n",
        "      print(f\"  Kendall correlation: {corr_tau:.2f}, p-value: {pval_k}\")"
      ],
      "metadata": {
        "colab": {
          "base_uri": "https://localhost:8080/"
        },
        "id": "TXsN2gwSMuOU",
        "outputId": "ec6695c5-5353-4472-d1cf-f90f9baffe5e"
      },
      "execution_count": 48,
      "outputs": [
        {
          "output_type": "stream",
          "name": "stdout",
          "text": [
            "\n",
            "- No significant correlation between 'price' and hour\n",
            "\n",
            "- No significant correlation between 'price' and day\n",
            "\n",
            "- No significant correlation between 'price' and month\n",
            "\n",
            "- Significant correlation between 'price' and price:\n",
            "  Pearson correlation: 1.00, p-value: 0.0\n",
            "  Spearman correlation: 1.00, p-value: 0.0\n",
            "  Kendall correlation: 1.00, p-value: 0.0\n",
            "\n",
            "- Significant correlation between 'price' and distance:\n",
            "  Pearson correlation: 0.35, p-value: 0.0\n",
            "  Spearman correlation: 0.33, p-value: 0.0\n",
            "  Kendall correlation: 0.24, p-value: 0.0\n",
            "\n",
            "- Significant correlation between 'price' and surge_multiplier:\n",
            "  Pearson correlation: 0.24, p-value: 0.0\n",
            "  Spearman correlation: 0.17, p-value: 0.0\n",
            "  Kendall correlation: 0.14, p-value: 0.0\n",
            "\n",
            "- No significant correlation between 'price' and latitude\n",
            "\n",
            "- No significant correlation between 'price' and longitude\n",
            "\n",
            "- No significant correlation between 'price' and temperature\n",
            "\n",
            "- No significant correlation between 'price' and apparentTemperature\n",
            "\n",
            "- No significant correlation between 'price' and precipIntensity\n",
            "\n",
            "- No significant correlation between 'price' and precipProbability\n",
            "\n",
            "- No significant correlation between 'price' and humidity\n",
            "\n",
            "- No significant correlation between 'price' and windSpeed\n",
            "\n",
            "- No significant correlation between 'price' and windGust\n",
            "\n",
            "- No significant correlation between 'price' and windGustTime\n",
            "\n",
            "- No significant correlation between 'price' and visibility\n",
            "\n",
            "- No significant correlation between 'price' and temperatureHigh\n",
            "\n",
            "- No significant correlation between 'price' and temperatureHighTime\n",
            "\n",
            "- No significant correlation between 'price' and temperatureLow\n",
            "\n",
            "- No significant correlation between 'price' and temperatureLowTime\n",
            "\n",
            "- No significant correlation between 'price' and apparentTemperatureHigh\n",
            "\n",
            "- No significant correlation between 'price' and apparentTemperatureHighTime\n",
            "\n",
            "- No significant correlation between 'price' and apparentTemperatureLow\n",
            "\n",
            "- No significant correlation between 'price' and apparentTemperatureLowTime\n",
            "\n",
            "- No significant correlation between 'price' and dewPoint\n",
            "\n",
            "- No significant correlation between 'price' and pressure\n",
            "\n",
            "- No significant correlation between 'price' and windBearing\n",
            "\n",
            "- No significant correlation between 'price' and cloudCover\n",
            "\n",
            "- No significant correlation between 'price' and uvIndex\n",
            "\n",
            "- No significant correlation between 'price' and visibility.1\n",
            "\n",
            "- No significant correlation between 'price' and ozone\n",
            "\n",
            "- No significant correlation between 'price' and sunriseTime\n",
            "\n",
            "- No significant correlation between 'price' and sunsetTime\n",
            "\n",
            "- No significant correlation between 'price' and moonPhase\n",
            "\n",
            "- No significant correlation between 'price' and precipIntensityMax\n",
            "\n",
            "- No significant correlation between 'price' and uvIndexTime\n",
            "\n",
            "- No significant correlation between 'price' and temperatureMin\n",
            "\n",
            "- No significant correlation between 'price' and temperatureMinTime\n",
            "\n",
            "- No significant correlation between 'price' and temperatureMax\n",
            "\n",
            "- No significant correlation between 'price' and temperatureMaxTime\n",
            "\n",
            "- No significant correlation between 'price' and apparentTemperatureMin\n",
            "\n",
            "- No significant correlation between 'price' and apparentTemperatureMinTime\n",
            "\n",
            "- No significant correlation between 'price' and apparentTemperatureMax\n",
            "\n",
            "- No significant correlation between 'price' and apparentTemperatureMaxTime\n"
          ]
        }
      ]
    },
    {
      "cell_type": "markdown",
      "source": [
        "$Insight:$\n",
        "\n",
        "Based on the correlation tests, `distance` and `surge_multiplier` have a significant correlation to `price`."
      ],
      "metadata": {
        "id": "sBUjvGBWQRIS"
      }
    },
    {
      "cell_type": "markdown",
      "source": [
        "## G. Split between Numerical Columns and Categorical Columns"
      ],
      "metadata": {
        "id": "K6RdSnkmqsIn"
      }
    },
    {
      "cell_type": "code",
      "source": [
        "category_cols = ['source', 'destination', 'cab_type', 'name']"
      ],
      "metadata": {
        "id": "qtClCTntVKiz"
      },
      "execution_count": 49,
      "outputs": []
    },
    {
      "cell_type": "code",
      "source": [
        "num_cols = ['distance', 'surge_multiplier']"
      ],
      "metadata": {
        "id": "ihdcTMbOQ19x"
      },
      "execution_count": 50,
      "outputs": []
    },
    {
      "cell_type": "code",
      "source": [
        "x_train_kat = x_train[category_cols]\n",
        "x_test_kat = x_test[category_cols]\n",
        "x_train_num = x_train[num_cols]\n",
        "x_test_num = x_test[num_cols]"
      ],
      "metadata": {
        "id": "jfaX4Pcb5fBF"
      },
      "execution_count": 51,
      "outputs": []
    },
    {
      "cell_type": "markdown",
      "source": [
        "## H.  Feature Scaling"
      ],
      "metadata": {
        "id": "t2OqHI4UqwU1"
      }
    },
    {
      "cell_type": "markdown",
      "source": [
        "StandardScaler is used because the features have different scales, for example `distance` to `surge_multiplier`."
      ],
      "metadata": {
        "id": "nm29TxoUYK22"
      }
    },
    {
      "cell_type": "code",
      "source": [
        "scaler = StandardScaler()\n",
        "x_train_num = scaler.fit_transform(x_train[num_cols])\n",
        "x_test_num = scaler.transform(x_test[num_cols])"
      ],
      "metadata": {
        "id": "jI4oTXyd61ar"
      },
      "execution_count": 52,
      "outputs": []
    },
    {
      "cell_type": "code",
      "source": [
        "x_train_num"
      ],
      "metadata": {
        "colab": {
          "base_uri": "https://localhost:8080/"
        },
        "id": "MOHDvutB9hSu",
        "outputId": "0db738ee-ce72-4034-defd-90781e275eb7"
      },
      "execution_count": 53,
      "outputs": [
        {
          "output_type": "execute_result",
          "data": {
            "text/plain": [
              "array([[-0.80005117, -0.15860794],\n",
              "       [ 1.31778054, -0.15860794],\n",
              "       [-0.29895706, -0.15860794],\n",
              "       ...,\n",
              "       [ 0.22104626, -0.15860794],\n",
              "       [ 0.91123249, -0.15860794],\n",
              "       [-0.47859457, -0.15860794]])"
            ]
          },
          "metadata": {},
          "execution_count": 53
        }
      ]
    },
    {
      "cell_type": "code",
      "source": [
        "x_test_num"
      ],
      "metadata": {
        "colab": {
          "base_uri": "https://localhost:8080/"
        },
        "id": "UeObv8MGlYV0",
        "outputId": "e2d72416-c589-4a3b-9abf-4d2d9f110d39"
      },
      "execution_count": 54,
      "outputs": [
        {
          "output_type": "execute_result",
          "data": {
            "text/plain": [
              "array([[ 0.78832262, -0.15860794],\n",
              "       [-0.40295772, -0.15860794],\n",
              "       [-0.73386893, -0.15860794],\n",
              "       ...,\n",
              "       [ 0.66541274, -0.15860794],\n",
              "       [ 0.28722851, -0.15860794],\n",
              "       [-1.05532553, -0.15860794]])"
            ]
          },
          "metadata": {},
          "execution_count": 54
        }
      ]
    },
    {
      "cell_type": "markdown",
      "source": [
        "## I. Feature Encoding"
      ],
      "metadata": {
        "id": "bUPADLBtq3XO"
      }
    },
    {
      "cell_type": "code",
      "source": [
        "x_train_kat['source'].unique()"
      ],
      "metadata": {
        "colab": {
          "base_uri": "https://localhost:8080/"
        },
        "id": "QdPII1L61dVj",
        "outputId": "ca9f4352-c3e3-47fd-ecde-e586e12a4526"
      },
      "execution_count": 55,
      "outputs": [
        {
          "output_type": "execute_result",
          "data": {
            "text/plain": [
              "array(['Financial District', 'South Station', 'Beacon Hill',\n",
              "       'North Station', 'North End', 'Back Bay', 'Theatre District',\n",
              "       'Haymarket Square', 'Northeastern University', 'Boston University',\n",
              "       'West End', 'Fenway'], dtype=object)"
            ]
          },
          "metadata": {},
          "execution_count": 55
        }
      ]
    },
    {
      "cell_type": "code",
      "source": [
        "x_train_kat['destination'].unique()"
      ],
      "metadata": {
        "colab": {
          "base_uri": "https://localhost:8080/"
        },
        "id": "pSyqukIV2Ap3",
        "outputId": "d382bb22-0e1b-4a5d-ab73-1d03643b284a"
      },
      "execution_count": 56,
      "outputs": [
        {
          "output_type": "execute_result",
          "data": {
            "text/plain": [
              "array(['Haymarket Square', 'Back Bay', 'West End', 'Boston University',\n",
              "       'South Station', 'Financial District', 'Theatre District',\n",
              "       'Fenway', 'Northeastern University', 'North Station',\n",
              "       'Beacon Hill', 'North End'], dtype=object)"
            ]
          },
          "metadata": {},
          "execution_count": 56
        }
      ]
    },
    {
      "cell_type": "code",
      "source": [
        "x_train_kat['cab_type'].unique()"
      ],
      "metadata": {
        "colab": {
          "base_uri": "https://localhost:8080/"
        },
        "id": "UaBei0sZ2BHR",
        "outputId": "0e39bb52-ec61-4eb1-98ce-c242d3e16bd1"
      },
      "execution_count": 57,
      "outputs": [
        {
          "output_type": "execute_result",
          "data": {
            "text/plain": [
              "array(['Lyft', 'Uber'], dtype=object)"
            ]
          },
          "metadata": {},
          "execution_count": 57
        }
      ]
    },
    {
      "cell_type": "code",
      "source": [
        "x_train_kat['name'].unique()"
      ],
      "metadata": {
        "colab": {
          "base_uri": "https://localhost:8080/"
        },
        "id": "2RtFdq7g2Bn1",
        "outputId": "8b9218ea-1538-4e1d-ed27-f10dab81b19d"
      },
      "execution_count": 58,
      "outputs": [
        {
          "output_type": "execute_result",
          "data": {
            "text/plain": [
              "array(['Lux Black XL', 'Black SUV', 'Lyft', 'Lux Black', 'Lux', 'UberXL',\n",
              "       'Lyft XL', 'UberX', 'Shared', 'WAV', 'UberPool', 'Black'],\n",
              "      dtype=object)"
            ]
          },
          "metadata": {},
          "execution_count": 58
        }
      ]
    },
    {
      "cell_type": "markdown",
      "source": [
        "We use One-Hot Encoding because it is a way to represent categorical variables as binary vectors, making them suitable for algorithms that require numerical input such as Linear Regression."
      ],
      "metadata": {
        "id": "g4Qui27uZBOO"
      }
    },
    {
      "cell_type": "code",
      "source": [
        "enc_nom=OneHotEncoder()\n",
        "enc_nom.fit(x_train_kat[category_cols])\n",
        "\n",
        "x_train_enc = enc_nom.transform(x_train_kat[category_cols]).toarray()\n",
        "x_test_enc = enc_nom.transform(x_test_kat[category_cols]).toarray()"
      ],
      "metadata": {
        "id": "Lro4Oqfwz94B"
      },
      "execution_count": 59,
      "outputs": []
    },
    {
      "cell_type": "code",
      "source": [
        "x_test_enc"
      ],
      "metadata": {
        "colab": {
          "base_uri": "https://localhost:8080/"
        },
        "id": "EacClQZQn-s9",
        "outputId": "12495baf-6183-426e-edbb-dc76d2595652"
      },
      "execution_count": 60,
      "outputs": [
        {
          "output_type": "execute_result",
          "data": {
            "text/plain": [
              "array([[0., 0., 1., ..., 0., 1., 0.],\n",
              "       [0., 0., 0., ..., 0., 0., 0.],\n",
              "       [1., 0., 0., ..., 0., 0., 0.],\n",
              "       ...,\n",
              "       [0., 0., 0., ..., 0., 0., 0.],\n",
              "       [0., 0., 0., ..., 0., 0., 0.],\n",
              "       [0., 0., 0., ..., 0., 0., 0.]])"
            ]
          },
          "metadata": {},
          "execution_count": 60
        }
      ]
    },
    {
      "cell_type": "code",
      "source": [
        "x_train_enc"
      ],
      "metadata": {
        "colab": {
          "base_uri": "https://localhost:8080/"
        },
        "id": "LeqtkJnpn8GS",
        "outputId": "2a017891-1a99-4479-eab2-dadd02bd399d"
      },
      "execution_count": 61,
      "outputs": [
        {
          "output_type": "execute_result",
          "data": {
            "text/plain": [
              "array([[0., 0., 0., ..., 0., 0., 0.],\n",
              "       [0., 0., 0., ..., 0., 0., 0.],\n",
              "       [0., 0., 0., ..., 0., 0., 0.],\n",
              "       ...,\n",
              "       [0., 0., 0., ..., 0., 0., 0.],\n",
              "       [0., 0., 1., ..., 0., 0., 0.],\n",
              "       [0., 0., 0., ..., 0., 0., 0.]])"
            ]
          },
          "metadata": {},
          "execution_count": 61
        }
      ]
    },
    {
      "cell_type": "code",
      "source": [
        "dt_kat_nom = x_train_kat[category_cols].copy()\n",
        "dt_kat_nom[[\n",
        "    'source_Financial District','source_South Station','source_Beacon Hill','source_North Station','source_North End','source_Back Bay',\n",
        "    'source_Theatre District','source_Haymarket Square','source_Northeastern University','source_Boston University','source_West End','source_Fenway',\n",
        "    'destination_Haymarket Square','destination_Back Bay','destination_West End','destination_Boston University','destination_South Station','destination_Financial District',\n",
        "    'destination_Theatre District','destination_Fenway','destination_Northeastern University','destination_North Station','destination_Beacon Hill','destination_North End',\n",
        "    'cab_type_Lyft', 'cab_type_Uber','name_Lux Black XL','name_Black SUV','name_Lyft','name_Lux Black','name_Lux','name_UberXL',\n",
        "    'name_Lyft XL','name_UberX','name_Shared','name_WAV','name_UberPool','name_Black',]]=x_train_enc"
      ],
      "metadata": {
        "id": "XHmdG4GF2Kta"
      },
      "execution_count": 62,
      "outputs": []
    },
    {
      "cell_type": "code",
      "source": [
        "dt_kat_nom_test = x_test_kat[category_cols].copy()\n",
        "dt_kat_nom_test[[\n",
        "    'source_Financial District','source_South Station','source_Beacon Hill','source_North Station','source_North End','source_Back Bay',\n",
        "    'source_Theatre District','source_Haymarket Square','source_Northeastern University','source_Boston University','source_West End','source_Fenway',\n",
        "    'destination_Haymarket Square','destination_Back Bay','destination_West End','destination_Boston University','destination_South Station','destination_Financial District',\n",
        "    'destination_Theatre District','destination_Fenway','destination_Northeastern University','destination_North Station','destination_Beacon Hill','destination_North End',\n",
        "    'cab_type_Lyft', 'cab_type_Uber','name_Lux Black XL','name_Black SUV','name_Lyft','name_Lux Black','name_Lux','name_UberXL',\n",
        "    'name_Lyft XL','name_UberX','name_Shared','name_WAV','name_UberPool','name_Black',]]=x_test_enc"
      ],
      "metadata": {
        "id": "SacMs3SJlqho"
      },
      "execution_count": 63,
      "outputs": []
    },
    {
      "cell_type": "code",
      "source": [
        "dt_kat_nom.drop(columns =['source','destination','cab_type','name'], inplace= True)"
      ],
      "metadata": {
        "id": "UAsh2O_E9XIb"
      },
      "execution_count": 64,
      "outputs": []
    },
    {
      "cell_type": "code",
      "source": [
        "dt_kat_nom_test.drop(columns =['source','destination','cab_type','name'], inplace= True)"
      ],
      "metadata": {
        "id": "TNBGwbpSmIJ4"
      },
      "execution_count": 65,
      "outputs": []
    },
    {
      "cell_type": "code",
      "source": [
        "dt_kat_nom = dt_kat_nom.reset_index(drop=True)\n",
        "dt_kat_nom_test = dt_kat_nom_test.reset_index(drop=True)"
      ],
      "metadata": {
        "id": "jLbDD_pNjb_S"
      },
      "execution_count": 66,
      "outputs": []
    },
    {
      "cell_type": "markdown",
      "source": [
        "## J. Concate between Numerical Columns and Categorical Columns"
      ],
      "metadata": {
        "id": "pSRQSHyIq_Vx"
      }
    },
    {
      "cell_type": "markdown",
      "source": [
        "#### For `x_train_final`"
      ],
      "metadata": {
        "id": "cISqu5HmmQQE"
      }
    },
    {
      "cell_type": "code",
      "source": [
        "x_train_final = pd.DataFrame()\n",
        "x_train_final[num_cols] = x_train_num\n",
        "x_train_final = x_train_final.reset_index(drop=True)"
      ],
      "metadata": {
        "id": "mGZY86lt7mPy"
      },
      "execution_count": 67,
      "outputs": []
    },
    {
      "cell_type": "code",
      "source": [
        "x_train_num.shape"
      ],
      "metadata": {
        "colab": {
          "base_uri": "https://localhost:8080/"
        },
        "id": "llLn29lqfzry",
        "outputId": "d5104cd9-2ca4-4348-a307-2aec498ebb08"
      },
      "execution_count": 68,
      "outputs": [
        {
          "output_type": "execute_result",
          "data": {
            "text/plain": [
              "(505035, 2)"
            ]
          },
          "metadata": {},
          "execution_count": 68
        }
      ]
    },
    {
      "cell_type": "code",
      "source": [
        "dt_kat_nom.shape"
      ],
      "metadata": {
        "colab": {
          "base_uri": "https://localhost:8080/"
        },
        "id": "JHdl6xlwf3m7",
        "outputId": "288f5351-0c05-4a4f-f41d-7e5132bc1491"
      },
      "execution_count": 69,
      "outputs": [
        {
          "output_type": "execute_result",
          "data": {
            "text/plain": [
              "(505035, 38)"
            ]
          },
          "metadata": {},
          "execution_count": 69
        }
      ]
    },
    {
      "cell_type": "code",
      "source": [
        "x_train_final = pd.concat([x_train_final, dt_kat_nom], axis=1)"
      ],
      "metadata": {
        "id": "rKV3hi59DYAw"
      },
      "execution_count": 70,
      "outputs": []
    },
    {
      "cell_type": "code",
      "source": [
        "x_train_final.shape"
      ],
      "metadata": {
        "colab": {
          "base_uri": "https://localhost:8080/"
        },
        "id": "T_i_idGZhGPf",
        "outputId": "d65a36d8-1cc2-46c6-c3c9-837efa1fe5bc"
      },
      "execution_count": 71,
      "outputs": [
        {
          "output_type": "execute_result",
          "data": {
            "text/plain": [
              "(505035, 40)"
            ]
          },
          "metadata": {},
          "execution_count": 71
        }
      ]
    },
    {
      "cell_type": "code",
      "source": [
        "x_train_final"
      ],
      "metadata": {
        "colab": {
          "base_uri": "https://localhost:8080/",
          "height": 461
        },
        "id": "ZClD-Ll7oqy6",
        "outputId": "e85305a9-58f1-4ca3-e72a-e2c06d772b78"
      },
      "execution_count": 72,
      "outputs": [
        {
          "output_type": "execute_result",
          "data": {
            "text/plain": [
              "        distance  surge_multiplier  source_Financial District  \\\n",
              "0      -0.800051         -0.158608                        0.0   \n",
              "1       1.317781         -0.158608                        0.0   \n",
              "2      -0.298957         -0.158608                        0.0   \n",
              "3       0.154864         -0.158608                        0.0   \n",
              "4      -0.563686         -0.158608                        0.0   \n",
              "...          ...               ...                        ...   \n",
              "505030  1.062506         -0.158608                        0.0   \n",
              "505031 -0.894597         -0.158608                        0.0   \n",
              "505032  0.221046         -0.158608                        0.0   \n",
              "505033  0.911232         -0.158608                        0.0   \n",
              "505034 -0.478595         -0.158608                        0.0   \n",
              "\n",
              "        source_South Station  source_Beacon Hill  source_North Station  \\\n",
              "0                        0.0                 0.0                   0.0   \n",
              "1                        0.0                 0.0                   0.0   \n",
              "2                        0.0                 0.0                   0.0   \n",
              "3                        1.0                 0.0                   0.0   \n",
              "4                        0.0                 0.0                   0.0   \n",
              "...                      ...                 ...                   ...   \n",
              "505030                   0.0                 0.0                   0.0   \n",
              "505031                   0.0                 0.0                   0.0   \n",
              "505032                   0.0                 0.0                   0.0   \n",
              "505033                   0.0                 1.0                   0.0   \n",
              "505034                   0.0                 0.0                   0.0   \n",
              "\n",
              "        source_North End  source_Back Bay  source_Theatre District  \\\n",
              "0                    1.0              0.0                      0.0   \n",
              "1                    0.0              0.0                      0.0   \n",
              "2                    0.0              0.0                      0.0   \n",
              "3                    0.0              0.0                      0.0   \n",
              "4                    0.0              0.0                      0.0   \n",
              "...                  ...              ...                      ...   \n",
              "505030               0.0              0.0                      0.0   \n",
              "505031               0.0              0.0                      0.0   \n",
              "505032               0.0              0.0                      0.0   \n",
              "505033               0.0              0.0                      0.0   \n",
              "505034               0.0              0.0                      0.0   \n",
              "\n",
              "        source_Haymarket Square  ...  name_Lyft  name_Lux Black  name_Lux  \\\n",
              "0                           0.0  ...        0.0             0.0       1.0   \n",
              "1                           0.0  ...        0.0             0.0       0.0   \n",
              "2                           0.0  ...        0.0             0.0       0.0   \n",
              "3                           0.0  ...        0.0             1.0       0.0   \n",
              "4                           1.0  ...        0.0             0.0       1.0   \n",
              "...                         ...  ...        ...             ...       ...   \n",
              "505030                      0.0  ...        0.0             0.0       0.0   \n",
              "505031                      0.0  ...        1.0             0.0       0.0   \n",
              "505032                      0.0  ...        0.0             0.0       0.0   \n",
              "505033                      0.0  ...        0.0             1.0       0.0   \n",
              "505034                      0.0  ...        0.0             0.0       0.0   \n",
              "\n",
              "        name_UberXL  name_Lyft XL  name_UberX  name_Shared  name_WAV  \\\n",
              "0               0.0           0.0         0.0          0.0       0.0   \n",
              "1               0.0           0.0         0.0          0.0       0.0   \n",
              "2               1.0           0.0         0.0          0.0       0.0   \n",
              "3               0.0           0.0         0.0          0.0       0.0   \n",
              "4               0.0           0.0         0.0          0.0       0.0   \n",
              "...             ...           ...         ...          ...       ...   \n",
              "505030          0.0           0.0         1.0          0.0       0.0   \n",
              "505031          0.0           0.0         0.0          0.0       0.0   \n",
              "505032          0.0           0.0         0.0          0.0       0.0   \n",
              "505033          0.0           0.0         0.0          0.0       0.0   \n",
              "505034          0.0           0.0         0.0          0.0       0.0   \n",
              "\n",
              "        name_UberPool  name_Black  \n",
              "0                 0.0         0.0  \n",
              "1                 0.0         0.0  \n",
              "2                 0.0         0.0  \n",
              "3                 0.0         0.0  \n",
              "4                 0.0         0.0  \n",
              "...               ...         ...  \n",
              "505030            0.0         0.0  \n",
              "505031            0.0         0.0  \n",
              "505032            0.0         0.0  \n",
              "505033            0.0         0.0  \n",
              "505034            0.0         0.0  \n",
              "\n",
              "[505035 rows x 40 columns]"
            ],
            "text/html": [
              "\n",
              "  <div id=\"df-4878c825-10da-44ae-b63b-69b72a3d7ec1\" class=\"colab-df-container\">\n",
              "    <div>\n",
              "<style scoped>\n",
              "    .dataframe tbody tr th:only-of-type {\n",
              "        vertical-align: middle;\n",
              "    }\n",
              "\n",
              "    .dataframe tbody tr th {\n",
              "        vertical-align: top;\n",
              "    }\n",
              "\n",
              "    .dataframe thead th {\n",
              "        text-align: right;\n",
              "    }\n",
              "</style>\n",
              "<table border=\"1\" class=\"dataframe\">\n",
              "  <thead>\n",
              "    <tr style=\"text-align: right;\">\n",
              "      <th></th>\n",
              "      <th>distance</th>\n",
              "      <th>surge_multiplier</th>\n",
              "      <th>source_Financial District</th>\n",
              "      <th>source_South Station</th>\n",
              "      <th>source_Beacon Hill</th>\n",
              "      <th>source_North Station</th>\n",
              "      <th>source_North End</th>\n",
              "      <th>source_Back Bay</th>\n",
              "      <th>source_Theatre District</th>\n",
              "      <th>source_Haymarket Square</th>\n",
              "      <th>...</th>\n",
              "      <th>name_Lyft</th>\n",
              "      <th>name_Lux Black</th>\n",
              "      <th>name_Lux</th>\n",
              "      <th>name_UberXL</th>\n",
              "      <th>name_Lyft XL</th>\n",
              "      <th>name_UberX</th>\n",
              "      <th>name_Shared</th>\n",
              "      <th>name_WAV</th>\n",
              "      <th>name_UberPool</th>\n",
              "      <th>name_Black</th>\n",
              "    </tr>\n",
              "  </thead>\n",
              "  <tbody>\n",
              "    <tr>\n",
              "      <th>0</th>\n",
              "      <td>-0.800051</td>\n",
              "      <td>-0.158608</td>\n",
              "      <td>0.0</td>\n",
              "      <td>0.0</td>\n",
              "      <td>0.0</td>\n",
              "      <td>0.0</td>\n",
              "      <td>1.0</td>\n",
              "      <td>0.0</td>\n",
              "      <td>0.0</td>\n",
              "      <td>0.0</td>\n",
              "      <td>...</td>\n",
              "      <td>0.0</td>\n",
              "      <td>0.0</td>\n",
              "      <td>1.0</td>\n",
              "      <td>0.0</td>\n",
              "      <td>0.0</td>\n",
              "      <td>0.0</td>\n",
              "      <td>0.0</td>\n",
              "      <td>0.0</td>\n",
              "      <td>0.0</td>\n",
              "      <td>0.0</td>\n",
              "    </tr>\n",
              "    <tr>\n",
              "      <th>1</th>\n",
              "      <td>1.317781</td>\n",
              "      <td>-0.158608</td>\n",
              "      <td>0.0</td>\n",
              "      <td>0.0</td>\n",
              "      <td>0.0</td>\n",
              "      <td>0.0</td>\n",
              "      <td>0.0</td>\n",
              "      <td>0.0</td>\n",
              "      <td>0.0</td>\n",
              "      <td>0.0</td>\n",
              "      <td>...</td>\n",
              "      <td>0.0</td>\n",
              "      <td>0.0</td>\n",
              "      <td>0.0</td>\n",
              "      <td>0.0</td>\n",
              "      <td>0.0</td>\n",
              "      <td>0.0</td>\n",
              "      <td>0.0</td>\n",
              "      <td>0.0</td>\n",
              "      <td>0.0</td>\n",
              "      <td>0.0</td>\n",
              "    </tr>\n",
              "    <tr>\n",
              "      <th>2</th>\n",
              "      <td>-0.298957</td>\n",
              "      <td>-0.158608</td>\n",
              "      <td>0.0</td>\n",
              "      <td>0.0</td>\n",
              "      <td>0.0</td>\n",
              "      <td>0.0</td>\n",
              "      <td>0.0</td>\n",
              "      <td>0.0</td>\n",
              "      <td>0.0</td>\n",
              "      <td>0.0</td>\n",
              "      <td>...</td>\n",
              "      <td>0.0</td>\n",
              "      <td>0.0</td>\n",
              "      <td>0.0</td>\n",
              "      <td>1.0</td>\n",
              "      <td>0.0</td>\n",
              "      <td>0.0</td>\n",
              "      <td>0.0</td>\n",
              "      <td>0.0</td>\n",
              "      <td>0.0</td>\n",
              "      <td>0.0</td>\n",
              "    </tr>\n",
              "    <tr>\n",
              "      <th>3</th>\n",
              "      <td>0.154864</td>\n",
              "      <td>-0.158608</td>\n",
              "      <td>0.0</td>\n",
              "      <td>1.0</td>\n",
              "      <td>0.0</td>\n",
              "      <td>0.0</td>\n",
              "      <td>0.0</td>\n",
              "      <td>0.0</td>\n",
              "      <td>0.0</td>\n",
              "      <td>0.0</td>\n",
              "      <td>...</td>\n",
              "      <td>0.0</td>\n",
              "      <td>1.0</td>\n",
              "      <td>0.0</td>\n",
              "      <td>0.0</td>\n",
              "      <td>0.0</td>\n",
              "      <td>0.0</td>\n",
              "      <td>0.0</td>\n",
              "      <td>0.0</td>\n",
              "      <td>0.0</td>\n",
              "      <td>0.0</td>\n",
              "    </tr>\n",
              "    <tr>\n",
              "      <th>4</th>\n",
              "      <td>-0.563686</td>\n",
              "      <td>-0.158608</td>\n",
              "      <td>0.0</td>\n",
              "      <td>0.0</td>\n",
              "      <td>0.0</td>\n",
              "      <td>0.0</td>\n",
              "      <td>0.0</td>\n",
              "      <td>0.0</td>\n",
              "      <td>0.0</td>\n",
              "      <td>1.0</td>\n",
              "      <td>...</td>\n",
              "      <td>0.0</td>\n",
              "      <td>0.0</td>\n",
              "      <td>1.0</td>\n",
              "      <td>0.0</td>\n",
              "      <td>0.0</td>\n",
              "      <td>0.0</td>\n",
              "      <td>0.0</td>\n",
              "      <td>0.0</td>\n",
              "      <td>0.0</td>\n",
              "      <td>0.0</td>\n",
              "    </tr>\n",
              "    <tr>\n",
              "      <th>...</th>\n",
              "      <td>...</td>\n",
              "      <td>...</td>\n",
              "      <td>...</td>\n",
              "      <td>...</td>\n",
              "      <td>...</td>\n",
              "      <td>...</td>\n",
              "      <td>...</td>\n",
              "      <td>...</td>\n",
              "      <td>...</td>\n",
              "      <td>...</td>\n",
              "      <td>...</td>\n",
              "      <td>...</td>\n",
              "      <td>...</td>\n",
              "      <td>...</td>\n",
              "      <td>...</td>\n",
              "      <td>...</td>\n",
              "      <td>...</td>\n",
              "      <td>...</td>\n",
              "      <td>...</td>\n",
              "      <td>...</td>\n",
              "      <td>...</td>\n",
              "    </tr>\n",
              "    <tr>\n",
              "      <th>505030</th>\n",
              "      <td>1.062506</td>\n",
              "      <td>-0.158608</td>\n",
              "      <td>0.0</td>\n",
              "      <td>0.0</td>\n",
              "      <td>0.0</td>\n",
              "      <td>0.0</td>\n",
              "      <td>0.0</td>\n",
              "      <td>0.0</td>\n",
              "      <td>0.0</td>\n",
              "      <td>0.0</td>\n",
              "      <td>...</td>\n",
              "      <td>0.0</td>\n",
              "      <td>0.0</td>\n",
              "      <td>0.0</td>\n",
              "      <td>0.0</td>\n",
              "      <td>0.0</td>\n",
              "      <td>1.0</td>\n",
              "      <td>0.0</td>\n",
              "      <td>0.0</td>\n",
              "      <td>0.0</td>\n",
              "      <td>0.0</td>\n",
              "    </tr>\n",
              "    <tr>\n",
              "      <th>505031</th>\n",
              "      <td>-0.894597</td>\n",
              "      <td>-0.158608</td>\n",
              "      <td>0.0</td>\n",
              "      <td>0.0</td>\n",
              "      <td>0.0</td>\n",
              "      <td>0.0</td>\n",
              "      <td>0.0</td>\n",
              "      <td>0.0</td>\n",
              "      <td>0.0</td>\n",
              "      <td>0.0</td>\n",
              "      <td>...</td>\n",
              "      <td>1.0</td>\n",
              "      <td>0.0</td>\n",
              "      <td>0.0</td>\n",
              "      <td>0.0</td>\n",
              "      <td>0.0</td>\n",
              "      <td>0.0</td>\n",
              "      <td>0.0</td>\n",
              "      <td>0.0</td>\n",
              "      <td>0.0</td>\n",
              "      <td>0.0</td>\n",
              "    </tr>\n",
              "    <tr>\n",
              "      <th>505032</th>\n",
              "      <td>0.221046</td>\n",
              "      <td>-0.158608</td>\n",
              "      <td>0.0</td>\n",
              "      <td>0.0</td>\n",
              "      <td>0.0</td>\n",
              "      <td>0.0</td>\n",
              "      <td>0.0</td>\n",
              "      <td>0.0</td>\n",
              "      <td>0.0</td>\n",
              "      <td>0.0</td>\n",
              "      <td>...</td>\n",
              "      <td>0.0</td>\n",
              "      <td>0.0</td>\n",
              "      <td>0.0</td>\n",
              "      <td>0.0</td>\n",
              "      <td>0.0</td>\n",
              "      <td>0.0</td>\n",
              "      <td>0.0</td>\n",
              "      <td>0.0</td>\n",
              "      <td>0.0</td>\n",
              "      <td>0.0</td>\n",
              "    </tr>\n",
              "    <tr>\n",
              "      <th>505033</th>\n",
              "      <td>0.911232</td>\n",
              "      <td>-0.158608</td>\n",
              "      <td>0.0</td>\n",
              "      <td>0.0</td>\n",
              "      <td>1.0</td>\n",
              "      <td>0.0</td>\n",
              "      <td>0.0</td>\n",
              "      <td>0.0</td>\n",
              "      <td>0.0</td>\n",
              "      <td>0.0</td>\n",
              "      <td>...</td>\n",
              "      <td>0.0</td>\n",
              "      <td>1.0</td>\n",
              "      <td>0.0</td>\n",
              "      <td>0.0</td>\n",
              "      <td>0.0</td>\n",
              "      <td>0.0</td>\n",
              "      <td>0.0</td>\n",
              "      <td>0.0</td>\n",
              "      <td>0.0</td>\n",
              "      <td>0.0</td>\n",
              "    </tr>\n",
              "    <tr>\n",
              "      <th>505034</th>\n",
              "      <td>-0.478595</td>\n",
              "      <td>-0.158608</td>\n",
              "      <td>0.0</td>\n",
              "      <td>0.0</td>\n",
              "      <td>0.0</td>\n",
              "      <td>0.0</td>\n",
              "      <td>0.0</td>\n",
              "      <td>0.0</td>\n",
              "      <td>0.0</td>\n",
              "      <td>0.0</td>\n",
              "      <td>...</td>\n",
              "      <td>0.0</td>\n",
              "      <td>0.0</td>\n",
              "      <td>0.0</td>\n",
              "      <td>0.0</td>\n",
              "      <td>0.0</td>\n",
              "      <td>0.0</td>\n",
              "      <td>0.0</td>\n",
              "      <td>0.0</td>\n",
              "      <td>0.0</td>\n",
              "      <td>0.0</td>\n",
              "    </tr>\n",
              "  </tbody>\n",
              "</table>\n",
              "<p>505035 rows × 40 columns</p>\n",
              "</div>\n",
              "    <div class=\"colab-df-buttons\">\n",
              "\n",
              "  <div class=\"colab-df-container\">\n",
              "    <button class=\"colab-df-convert\" onclick=\"convertToInteractive('df-4878c825-10da-44ae-b63b-69b72a3d7ec1')\"\n",
              "            title=\"Convert this dataframe to an interactive table.\"\n",
              "            style=\"display:none;\">\n",
              "\n",
              "  <svg xmlns=\"http://www.w3.org/2000/svg\" height=\"24px\" viewBox=\"0 -960 960 960\">\n",
              "    <path d=\"M120-120v-720h720v720H120Zm60-500h600v-160H180v160Zm220 220h160v-160H400v160Zm0 220h160v-160H400v160ZM180-400h160v-160H180v160Zm440 0h160v-160H620v160ZM180-180h160v-160H180v160Zm440 0h160v-160H620v160Z\"/>\n",
              "  </svg>\n",
              "    </button>\n",
              "\n",
              "  <style>\n",
              "    .colab-df-container {\n",
              "      display:flex;\n",
              "      gap: 12px;\n",
              "    }\n",
              "\n",
              "    .colab-df-convert {\n",
              "      background-color: #E8F0FE;\n",
              "      border: none;\n",
              "      border-radius: 50%;\n",
              "      cursor: pointer;\n",
              "      display: none;\n",
              "      fill: #1967D2;\n",
              "      height: 32px;\n",
              "      padding: 0 0 0 0;\n",
              "      width: 32px;\n",
              "    }\n",
              "\n",
              "    .colab-df-convert:hover {\n",
              "      background-color: #E2EBFA;\n",
              "      box-shadow: 0px 1px 2px rgba(60, 64, 67, 0.3), 0px 1px 3px 1px rgba(60, 64, 67, 0.15);\n",
              "      fill: #174EA6;\n",
              "    }\n",
              "\n",
              "    .colab-df-buttons div {\n",
              "      margin-bottom: 4px;\n",
              "    }\n",
              "\n",
              "    [theme=dark] .colab-df-convert {\n",
              "      background-color: #3B4455;\n",
              "      fill: #D2E3FC;\n",
              "    }\n",
              "\n",
              "    [theme=dark] .colab-df-convert:hover {\n",
              "      background-color: #434B5C;\n",
              "      box-shadow: 0px 1px 3px 1px rgba(0, 0, 0, 0.15);\n",
              "      filter: drop-shadow(0px 1px 2px rgba(0, 0, 0, 0.3));\n",
              "      fill: #FFFFFF;\n",
              "    }\n",
              "  </style>\n",
              "\n",
              "    <script>\n",
              "      const buttonEl =\n",
              "        document.querySelector('#df-4878c825-10da-44ae-b63b-69b72a3d7ec1 button.colab-df-convert');\n",
              "      buttonEl.style.display =\n",
              "        google.colab.kernel.accessAllowed ? 'block' : 'none';\n",
              "\n",
              "      async function convertToInteractive(key) {\n",
              "        const element = document.querySelector('#df-4878c825-10da-44ae-b63b-69b72a3d7ec1');\n",
              "        const dataTable =\n",
              "          await google.colab.kernel.invokeFunction('convertToInteractive',\n",
              "                                                    [key], {});\n",
              "        if (!dataTable) return;\n",
              "\n",
              "        const docLinkHtml = 'Like what you see? Visit the ' +\n",
              "          '<a target=\"_blank\" href=https://colab.research.google.com/notebooks/data_table.ipynb>data table notebook</a>'\n",
              "          + ' to learn more about interactive tables.';\n",
              "        element.innerHTML = '';\n",
              "        dataTable['output_type'] = 'display_data';\n",
              "        await google.colab.output.renderOutput(dataTable, element);\n",
              "        const docLink = document.createElement('div');\n",
              "        docLink.innerHTML = docLinkHtml;\n",
              "        element.appendChild(docLink);\n",
              "      }\n",
              "    </script>\n",
              "  </div>\n",
              "\n",
              "\n",
              "<div id=\"df-bb342359-809f-41b4-8e5f-2365ff54791b\">\n",
              "  <button class=\"colab-df-quickchart\" onclick=\"quickchart('df-bb342359-809f-41b4-8e5f-2365ff54791b')\"\n",
              "            title=\"Suggest charts\"\n",
              "            style=\"display:none;\">\n",
              "\n",
              "<svg xmlns=\"http://www.w3.org/2000/svg\" height=\"24px\"viewBox=\"0 0 24 24\"\n",
              "     width=\"24px\">\n",
              "    <g>\n",
              "        <path d=\"M19 3H5c-1.1 0-2 .9-2 2v14c0 1.1.9 2 2 2h14c1.1 0 2-.9 2-2V5c0-1.1-.9-2-2-2zM9 17H7v-7h2v7zm4 0h-2V7h2v10zm4 0h-2v-4h2v4z\"/>\n",
              "    </g>\n",
              "</svg>\n",
              "  </button>\n",
              "\n",
              "<style>\n",
              "  .colab-df-quickchart {\n",
              "      --bg-color: #E8F0FE;\n",
              "      --fill-color: #1967D2;\n",
              "      --hover-bg-color: #E2EBFA;\n",
              "      --hover-fill-color: #174EA6;\n",
              "      --disabled-fill-color: #AAA;\n",
              "      --disabled-bg-color: #DDD;\n",
              "  }\n",
              "\n",
              "  [theme=dark] .colab-df-quickchart {\n",
              "      --bg-color: #3B4455;\n",
              "      --fill-color: #D2E3FC;\n",
              "      --hover-bg-color: #434B5C;\n",
              "      --hover-fill-color: #FFFFFF;\n",
              "      --disabled-bg-color: #3B4455;\n",
              "      --disabled-fill-color: #666;\n",
              "  }\n",
              "\n",
              "  .colab-df-quickchart {\n",
              "    background-color: var(--bg-color);\n",
              "    border: none;\n",
              "    border-radius: 50%;\n",
              "    cursor: pointer;\n",
              "    display: none;\n",
              "    fill: var(--fill-color);\n",
              "    height: 32px;\n",
              "    padding: 0;\n",
              "    width: 32px;\n",
              "  }\n",
              "\n",
              "  .colab-df-quickchart:hover {\n",
              "    background-color: var(--hover-bg-color);\n",
              "    box-shadow: 0 1px 2px rgba(60, 64, 67, 0.3), 0 1px 3px 1px rgba(60, 64, 67, 0.15);\n",
              "    fill: var(--button-hover-fill-color);\n",
              "  }\n",
              "\n",
              "  .colab-df-quickchart-complete:disabled,\n",
              "  .colab-df-quickchart-complete:disabled:hover {\n",
              "    background-color: var(--disabled-bg-color);\n",
              "    fill: var(--disabled-fill-color);\n",
              "    box-shadow: none;\n",
              "  }\n",
              "\n",
              "  .colab-df-spinner {\n",
              "    border: 2px solid var(--fill-color);\n",
              "    border-color: transparent;\n",
              "    border-bottom-color: var(--fill-color);\n",
              "    animation:\n",
              "      spin 1s steps(1) infinite;\n",
              "  }\n",
              "\n",
              "  @keyframes spin {\n",
              "    0% {\n",
              "      border-color: transparent;\n",
              "      border-bottom-color: var(--fill-color);\n",
              "      border-left-color: var(--fill-color);\n",
              "    }\n",
              "    20% {\n",
              "      border-color: transparent;\n",
              "      border-left-color: var(--fill-color);\n",
              "      border-top-color: var(--fill-color);\n",
              "    }\n",
              "    30% {\n",
              "      border-color: transparent;\n",
              "      border-left-color: var(--fill-color);\n",
              "      border-top-color: var(--fill-color);\n",
              "      border-right-color: var(--fill-color);\n",
              "    }\n",
              "    40% {\n",
              "      border-color: transparent;\n",
              "      border-right-color: var(--fill-color);\n",
              "      border-top-color: var(--fill-color);\n",
              "    }\n",
              "    60% {\n",
              "      border-color: transparent;\n",
              "      border-right-color: var(--fill-color);\n",
              "    }\n",
              "    80% {\n",
              "      border-color: transparent;\n",
              "      border-right-color: var(--fill-color);\n",
              "      border-bottom-color: var(--fill-color);\n",
              "    }\n",
              "    90% {\n",
              "      border-color: transparent;\n",
              "      border-bottom-color: var(--fill-color);\n",
              "    }\n",
              "  }\n",
              "</style>\n",
              "\n",
              "  <script>\n",
              "    async function quickchart(key) {\n",
              "      const quickchartButtonEl =\n",
              "        document.querySelector('#' + key + ' button');\n",
              "      quickchartButtonEl.disabled = true;  // To prevent multiple clicks.\n",
              "      quickchartButtonEl.classList.add('colab-df-spinner');\n",
              "      try {\n",
              "        const charts = await google.colab.kernel.invokeFunction(\n",
              "            'suggestCharts', [key], {});\n",
              "      } catch (error) {\n",
              "        console.error('Error during call to suggestCharts:', error);\n",
              "      }\n",
              "      quickchartButtonEl.classList.remove('colab-df-spinner');\n",
              "      quickchartButtonEl.classList.add('colab-df-quickchart-complete');\n",
              "    }\n",
              "    (() => {\n",
              "      let quickchartButtonEl =\n",
              "        document.querySelector('#df-bb342359-809f-41b4-8e5f-2365ff54791b button');\n",
              "      quickchartButtonEl.style.display =\n",
              "        google.colab.kernel.accessAllowed ? 'block' : 'none';\n",
              "    })();\n",
              "  </script>\n",
              "</div>\n",
              "    </div>\n",
              "  </div>\n"
            ]
          },
          "metadata": {},
          "execution_count": 72
        }
      ]
    },
    {
      "cell_type": "markdown",
      "source": [
        "#### For `x_test_final`"
      ],
      "metadata": {
        "id": "RSRtXKO7mUIj"
      }
    },
    {
      "cell_type": "code",
      "source": [
        "x_test_final = pd.DataFrame()\n",
        "x_test_final[num_cols] = x_test_num\n",
        "x_test_final = x_test_final.reset_index(drop=True)"
      ],
      "metadata": {
        "id": "In5mkAu2mPGb"
      },
      "execution_count": 73,
      "outputs": []
    },
    {
      "cell_type": "code",
      "source": [
        "print(x_train_final.index)\n",
        "print(dt_kat_nom.index)"
      ],
      "metadata": {
        "colab": {
          "base_uri": "https://localhost:8080/"
        },
        "id": "yDCqHUDNjDIC",
        "outputId": "0e509749-50eb-474c-af9d-3411b0bdfaaf"
      },
      "execution_count": 74,
      "outputs": [
        {
          "output_type": "stream",
          "name": "stdout",
          "text": [
            "RangeIndex(start=0, stop=505035, step=1)\n",
            "RangeIndex(start=0, stop=505035, step=1)\n"
          ]
        }
      ]
    },
    {
      "cell_type": "code",
      "source": [
        "x_test_final = pd.concat([x_test_final, dt_kat_nom_test], axis=1)"
      ],
      "metadata": {
        "id": "aOjP6jFymhPG"
      },
      "execution_count": 75,
      "outputs": []
    },
    {
      "cell_type": "code",
      "source": [
        "x_test_final.shape"
      ],
      "metadata": {
        "colab": {
          "base_uri": "https://localhost:8080/"
        },
        "id": "aXKiBPTrmmac",
        "outputId": "907dc0c4-7b90-4d54-d45c-e396ea4bc469"
      },
      "execution_count": 76,
      "outputs": [
        {
          "output_type": "execute_result",
          "data": {
            "text/plain": [
              "(127596, 40)"
            ]
          },
          "metadata": {},
          "execution_count": 76
        }
      ]
    },
    {
      "cell_type": "code",
      "source": [
        "x_test_final"
      ],
      "metadata": {
        "colab": {
          "base_uri": "https://localhost:8080/",
          "height": 461
        },
        "id": "5_FjDO1mopBT",
        "outputId": "79e0d1ef-bb8f-4c2e-f764-e926c76b74ba"
      },
      "execution_count": 77,
      "outputs": [
        {
          "output_type": "execute_result",
          "data": {
            "text/plain": [
              "        distance  surge_multiplier  source_Financial District  \\\n",
              "0       0.788323         -0.158608                        0.0   \n",
              "1      -0.402958         -0.158608                        0.0   \n",
              "2      -0.733869         -0.158608                        1.0   \n",
              "3      -0.573141         -0.158608                        0.0   \n",
              "4       0.145409         -0.158608                        0.0   \n",
              "...          ...               ...                        ...   \n",
              "127591  2.272696         -0.158608                        0.0   \n",
              "127592  0.126500         -0.158608                        0.0   \n",
              "127593  0.665413         -0.158608                        0.0   \n",
              "127594  0.287229         -0.158608                        0.0   \n",
              "127595 -1.055326         -0.158608                        0.0   \n",
              "\n",
              "        source_South Station  source_Beacon Hill  source_North Station  \\\n",
              "0                        0.0                 1.0                   0.0   \n",
              "1                        0.0                 0.0                   0.0   \n",
              "2                        0.0                 0.0                   0.0   \n",
              "3                        1.0                 0.0                   0.0   \n",
              "4                        0.0                 0.0                   0.0   \n",
              "...                      ...                 ...                   ...   \n",
              "127591                   0.0                 0.0                   0.0   \n",
              "127592                   1.0                 0.0                   0.0   \n",
              "127593                   0.0                 0.0                   0.0   \n",
              "127594                   0.0                 0.0                   1.0   \n",
              "127595                   0.0                 0.0                   0.0   \n",
              "\n",
              "        source_North End  source_Back Bay  source_Theatre District  \\\n",
              "0                    0.0              0.0                      0.0   \n",
              "1                    0.0              0.0                      0.0   \n",
              "2                    0.0              0.0                      0.0   \n",
              "3                    0.0              0.0                      0.0   \n",
              "4                    0.0              1.0                      0.0   \n",
              "...                  ...              ...                      ...   \n",
              "127591               0.0              0.0                      0.0   \n",
              "127592               0.0              0.0                      0.0   \n",
              "127593               0.0              0.0                      0.0   \n",
              "127594               0.0              0.0                      0.0   \n",
              "127595               1.0              0.0                      0.0   \n",
              "\n",
              "        source_Haymarket Square  ...  name_Lyft  name_Lux Black  name_Lux  \\\n",
              "0                           0.0  ...        0.0             0.0       0.0   \n",
              "1                           0.0  ...        0.0             1.0       0.0   \n",
              "2                           0.0  ...        0.0             1.0       0.0   \n",
              "3                           0.0  ...        0.0             0.0       0.0   \n",
              "4                           0.0  ...        0.0             0.0       0.0   \n",
              "...                         ...  ...        ...             ...       ...   \n",
              "127591                      0.0  ...        0.0             0.0       0.0   \n",
              "127592                      0.0  ...        0.0             0.0       0.0   \n",
              "127593                      0.0  ...        1.0             0.0       0.0   \n",
              "127594                      0.0  ...        0.0             0.0       0.0   \n",
              "127595                      0.0  ...        0.0             0.0       0.0   \n",
              "\n",
              "        name_UberXL  name_Lyft XL  name_UberX  name_Shared  name_WAV  \\\n",
              "0               0.0           0.0         0.0          0.0       0.0   \n",
              "1               0.0           0.0         0.0          0.0       0.0   \n",
              "2               0.0           0.0         0.0          0.0       0.0   \n",
              "3               0.0           0.0         0.0          1.0       0.0   \n",
              "4               0.0           0.0         0.0          0.0       0.0   \n",
              "...             ...           ...         ...          ...       ...   \n",
              "127591          0.0           0.0         0.0          0.0       0.0   \n",
              "127592          0.0           0.0         0.0          0.0       0.0   \n",
              "127593          0.0           0.0         0.0          0.0       0.0   \n",
              "127594          0.0           1.0         0.0          0.0       0.0   \n",
              "127595          0.0           1.0         0.0          0.0       0.0   \n",
              "\n",
              "        name_UberPool  name_Black  \n",
              "0                 1.0         0.0  \n",
              "1                 0.0         0.0  \n",
              "2                 0.0         0.0  \n",
              "3                 0.0         0.0  \n",
              "4                 1.0         0.0  \n",
              "...               ...         ...  \n",
              "127591            0.0         0.0  \n",
              "127592            0.0         1.0  \n",
              "127593            0.0         0.0  \n",
              "127594            0.0         0.0  \n",
              "127595            0.0         0.0  \n",
              "\n",
              "[127596 rows x 40 columns]"
            ],
            "text/html": [
              "\n",
              "  <div id=\"df-8e2b2826-6a8c-4765-a23e-576aa6489980\" class=\"colab-df-container\">\n",
              "    <div>\n",
              "<style scoped>\n",
              "    .dataframe tbody tr th:only-of-type {\n",
              "        vertical-align: middle;\n",
              "    }\n",
              "\n",
              "    .dataframe tbody tr th {\n",
              "        vertical-align: top;\n",
              "    }\n",
              "\n",
              "    .dataframe thead th {\n",
              "        text-align: right;\n",
              "    }\n",
              "</style>\n",
              "<table border=\"1\" class=\"dataframe\">\n",
              "  <thead>\n",
              "    <tr style=\"text-align: right;\">\n",
              "      <th></th>\n",
              "      <th>distance</th>\n",
              "      <th>surge_multiplier</th>\n",
              "      <th>source_Financial District</th>\n",
              "      <th>source_South Station</th>\n",
              "      <th>source_Beacon Hill</th>\n",
              "      <th>source_North Station</th>\n",
              "      <th>source_North End</th>\n",
              "      <th>source_Back Bay</th>\n",
              "      <th>source_Theatre District</th>\n",
              "      <th>source_Haymarket Square</th>\n",
              "      <th>...</th>\n",
              "      <th>name_Lyft</th>\n",
              "      <th>name_Lux Black</th>\n",
              "      <th>name_Lux</th>\n",
              "      <th>name_UberXL</th>\n",
              "      <th>name_Lyft XL</th>\n",
              "      <th>name_UberX</th>\n",
              "      <th>name_Shared</th>\n",
              "      <th>name_WAV</th>\n",
              "      <th>name_UberPool</th>\n",
              "      <th>name_Black</th>\n",
              "    </tr>\n",
              "  </thead>\n",
              "  <tbody>\n",
              "    <tr>\n",
              "      <th>0</th>\n",
              "      <td>0.788323</td>\n",
              "      <td>-0.158608</td>\n",
              "      <td>0.0</td>\n",
              "      <td>0.0</td>\n",
              "      <td>1.0</td>\n",
              "      <td>0.0</td>\n",
              "      <td>0.0</td>\n",
              "      <td>0.0</td>\n",
              "      <td>0.0</td>\n",
              "      <td>0.0</td>\n",
              "      <td>...</td>\n",
              "      <td>0.0</td>\n",
              "      <td>0.0</td>\n",
              "      <td>0.0</td>\n",
              "      <td>0.0</td>\n",
              "      <td>0.0</td>\n",
              "      <td>0.0</td>\n",
              "      <td>0.0</td>\n",
              "      <td>0.0</td>\n",
              "      <td>1.0</td>\n",
              "      <td>0.0</td>\n",
              "    </tr>\n",
              "    <tr>\n",
              "      <th>1</th>\n",
              "      <td>-0.402958</td>\n",
              "      <td>-0.158608</td>\n",
              "      <td>0.0</td>\n",
              "      <td>0.0</td>\n",
              "      <td>0.0</td>\n",
              "      <td>0.0</td>\n",
              "      <td>0.0</td>\n",
              "      <td>0.0</td>\n",
              "      <td>0.0</td>\n",
              "      <td>0.0</td>\n",
              "      <td>...</td>\n",
              "      <td>0.0</td>\n",
              "      <td>1.0</td>\n",
              "      <td>0.0</td>\n",
              "      <td>0.0</td>\n",
              "      <td>0.0</td>\n",
              "      <td>0.0</td>\n",
              "      <td>0.0</td>\n",
              "      <td>0.0</td>\n",
              "      <td>0.0</td>\n",
              "      <td>0.0</td>\n",
              "    </tr>\n",
              "    <tr>\n",
              "      <th>2</th>\n",
              "      <td>-0.733869</td>\n",
              "      <td>-0.158608</td>\n",
              "      <td>1.0</td>\n",
              "      <td>0.0</td>\n",
              "      <td>0.0</td>\n",
              "      <td>0.0</td>\n",
              "      <td>0.0</td>\n",
              "      <td>0.0</td>\n",
              "      <td>0.0</td>\n",
              "      <td>0.0</td>\n",
              "      <td>...</td>\n",
              "      <td>0.0</td>\n",
              "      <td>1.0</td>\n",
              "      <td>0.0</td>\n",
              "      <td>0.0</td>\n",
              "      <td>0.0</td>\n",
              "      <td>0.0</td>\n",
              "      <td>0.0</td>\n",
              "      <td>0.0</td>\n",
              "      <td>0.0</td>\n",
              "      <td>0.0</td>\n",
              "    </tr>\n",
              "    <tr>\n",
              "      <th>3</th>\n",
              "      <td>-0.573141</td>\n",
              "      <td>-0.158608</td>\n",
              "      <td>0.0</td>\n",
              "      <td>1.0</td>\n",
              "      <td>0.0</td>\n",
              "      <td>0.0</td>\n",
              "      <td>0.0</td>\n",
              "      <td>0.0</td>\n",
              "      <td>0.0</td>\n",
              "      <td>0.0</td>\n",
              "      <td>...</td>\n",
              "      <td>0.0</td>\n",
              "      <td>0.0</td>\n",
              "      <td>0.0</td>\n",
              "      <td>0.0</td>\n",
              "      <td>0.0</td>\n",
              "      <td>0.0</td>\n",
              "      <td>1.0</td>\n",
              "      <td>0.0</td>\n",
              "      <td>0.0</td>\n",
              "      <td>0.0</td>\n",
              "    </tr>\n",
              "    <tr>\n",
              "      <th>4</th>\n",
              "      <td>0.145409</td>\n",
              "      <td>-0.158608</td>\n",
              "      <td>0.0</td>\n",
              "      <td>0.0</td>\n",
              "      <td>0.0</td>\n",
              "      <td>0.0</td>\n",
              "      <td>0.0</td>\n",
              "      <td>1.0</td>\n",
              "      <td>0.0</td>\n",
              "      <td>0.0</td>\n",
              "      <td>...</td>\n",
              "      <td>0.0</td>\n",
              "      <td>0.0</td>\n",
              "      <td>0.0</td>\n",
              "      <td>0.0</td>\n",
              "      <td>0.0</td>\n",
              "      <td>0.0</td>\n",
              "      <td>0.0</td>\n",
              "      <td>0.0</td>\n",
              "      <td>1.0</td>\n",
              "      <td>0.0</td>\n",
              "    </tr>\n",
              "    <tr>\n",
              "      <th>...</th>\n",
              "      <td>...</td>\n",
              "      <td>...</td>\n",
              "      <td>...</td>\n",
              "      <td>...</td>\n",
              "      <td>...</td>\n",
              "      <td>...</td>\n",
              "      <td>...</td>\n",
              "      <td>...</td>\n",
              "      <td>...</td>\n",
              "      <td>...</td>\n",
              "      <td>...</td>\n",
              "      <td>...</td>\n",
              "      <td>...</td>\n",
              "      <td>...</td>\n",
              "      <td>...</td>\n",
              "      <td>...</td>\n",
              "      <td>...</td>\n",
              "      <td>...</td>\n",
              "      <td>...</td>\n",
              "      <td>...</td>\n",
              "      <td>...</td>\n",
              "    </tr>\n",
              "    <tr>\n",
              "      <th>127591</th>\n",
              "      <td>2.272696</td>\n",
              "      <td>-0.158608</td>\n",
              "      <td>0.0</td>\n",
              "      <td>0.0</td>\n",
              "      <td>0.0</td>\n",
              "      <td>0.0</td>\n",
              "      <td>0.0</td>\n",
              "      <td>0.0</td>\n",
              "      <td>0.0</td>\n",
              "      <td>0.0</td>\n",
              "      <td>...</td>\n",
              "      <td>0.0</td>\n",
              "      <td>0.0</td>\n",
              "      <td>0.0</td>\n",
              "      <td>0.0</td>\n",
              "      <td>0.0</td>\n",
              "      <td>0.0</td>\n",
              "      <td>0.0</td>\n",
              "      <td>0.0</td>\n",
              "      <td>0.0</td>\n",
              "      <td>0.0</td>\n",
              "    </tr>\n",
              "    <tr>\n",
              "      <th>127592</th>\n",
              "      <td>0.126500</td>\n",
              "      <td>-0.158608</td>\n",
              "      <td>0.0</td>\n",
              "      <td>1.0</td>\n",
              "      <td>0.0</td>\n",
              "      <td>0.0</td>\n",
              "      <td>0.0</td>\n",
              "      <td>0.0</td>\n",
              "      <td>0.0</td>\n",
              "      <td>0.0</td>\n",
              "      <td>...</td>\n",
              "      <td>0.0</td>\n",
              "      <td>0.0</td>\n",
              "      <td>0.0</td>\n",
              "      <td>0.0</td>\n",
              "      <td>0.0</td>\n",
              "      <td>0.0</td>\n",
              "      <td>0.0</td>\n",
              "      <td>0.0</td>\n",
              "      <td>0.0</td>\n",
              "      <td>1.0</td>\n",
              "    </tr>\n",
              "    <tr>\n",
              "      <th>127593</th>\n",
              "      <td>0.665413</td>\n",
              "      <td>-0.158608</td>\n",
              "      <td>0.0</td>\n",
              "      <td>0.0</td>\n",
              "      <td>0.0</td>\n",
              "      <td>0.0</td>\n",
              "      <td>0.0</td>\n",
              "      <td>0.0</td>\n",
              "      <td>0.0</td>\n",
              "      <td>0.0</td>\n",
              "      <td>...</td>\n",
              "      <td>1.0</td>\n",
              "      <td>0.0</td>\n",
              "      <td>0.0</td>\n",
              "      <td>0.0</td>\n",
              "      <td>0.0</td>\n",
              "      <td>0.0</td>\n",
              "      <td>0.0</td>\n",
              "      <td>0.0</td>\n",
              "      <td>0.0</td>\n",
              "      <td>0.0</td>\n",
              "    </tr>\n",
              "    <tr>\n",
              "      <th>127594</th>\n",
              "      <td>0.287229</td>\n",
              "      <td>-0.158608</td>\n",
              "      <td>0.0</td>\n",
              "      <td>0.0</td>\n",
              "      <td>0.0</td>\n",
              "      <td>1.0</td>\n",
              "      <td>0.0</td>\n",
              "      <td>0.0</td>\n",
              "      <td>0.0</td>\n",
              "      <td>0.0</td>\n",
              "      <td>...</td>\n",
              "      <td>0.0</td>\n",
              "      <td>0.0</td>\n",
              "      <td>0.0</td>\n",
              "      <td>0.0</td>\n",
              "      <td>1.0</td>\n",
              "      <td>0.0</td>\n",
              "      <td>0.0</td>\n",
              "      <td>0.0</td>\n",
              "      <td>0.0</td>\n",
              "      <td>0.0</td>\n",
              "    </tr>\n",
              "    <tr>\n",
              "      <th>127595</th>\n",
              "      <td>-1.055326</td>\n",
              "      <td>-0.158608</td>\n",
              "      <td>0.0</td>\n",
              "      <td>0.0</td>\n",
              "      <td>0.0</td>\n",
              "      <td>0.0</td>\n",
              "      <td>1.0</td>\n",
              "      <td>0.0</td>\n",
              "      <td>0.0</td>\n",
              "      <td>0.0</td>\n",
              "      <td>...</td>\n",
              "      <td>0.0</td>\n",
              "      <td>0.0</td>\n",
              "      <td>0.0</td>\n",
              "      <td>0.0</td>\n",
              "      <td>1.0</td>\n",
              "      <td>0.0</td>\n",
              "      <td>0.0</td>\n",
              "      <td>0.0</td>\n",
              "      <td>0.0</td>\n",
              "      <td>0.0</td>\n",
              "    </tr>\n",
              "  </tbody>\n",
              "</table>\n",
              "<p>127596 rows × 40 columns</p>\n",
              "</div>\n",
              "    <div class=\"colab-df-buttons\">\n",
              "\n",
              "  <div class=\"colab-df-container\">\n",
              "    <button class=\"colab-df-convert\" onclick=\"convertToInteractive('df-8e2b2826-6a8c-4765-a23e-576aa6489980')\"\n",
              "            title=\"Convert this dataframe to an interactive table.\"\n",
              "            style=\"display:none;\">\n",
              "\n",
              "  <svg xmlns=\"http://www.w3.org/2000/svg\" height=\"24px\" viewBox=\"0 -960 960 960\">\n",
              "    <path d=\"M120-120v-720h720v720H120Zm60-500h600v-160H180v160Zm220 220h160v-160H400v160Zm0 220h160v-160H400v160ZM180-400h160v-160H180v160Zm440 0h160v-160H620v160ZM180-180h160v-160H180v160Zm440 0h160v-160H620v160Z\"/>\n",
              "  </svg>\n",
              "    </button>\n",
              "\n",
              "  <style>\n",
              "    .colab-df-container {\n",
              "      display:flex;\n",
              "      gap: 12px;\n",
              "    }\n",
              "\n",
              "    .colab-df-convert {\n",
              "      background-color: #E8F0FE;\n",
              "      border: none;\n",
              "      border-radius: 50%;\n",
              "      cursor: pointer;\n",
              "      display: none;\n",
              "      fill: #1967D2;\n",
              "      height: 32px;\n",
              "      padding: 0 0 0 0;\n",
              "      width: 32px;\n",
              "    }\n",
              "\n",
              "    .colab-df-convert:hover {\n",
              "      background-color: #E2EBFA;\n",
              "      box-shadow: 0px 1px 2px rgba(60, 64, 67, 0.3), 0px 1px 3px 1px rgba(60, 64, 67, 0.15);\n",
              "      fill: #174EA6;\n",
              "    }\n",
              "\n",
              "    .colab-df-buttons div {\n",
              "      margin-bottom: 4px;\n",
              "    }\n",
              "\n",
              "    [theme=dark] .colab-df-convert {\n",
              "      background-color: #3B4455;\n",
              "      fill: #D2E3FC;\n",
              "    }\n",
              "\n",
              "    [theme=dark] .colab-df-convert:hover {\n",
              "      background-color: #434B5C;\n",
              "      box-shadow: 0px 1px 3px 1px rgba(0, 0, 0, 0.15);\n",
              "      filter: drop-shadow(0px 1px 2px rgba(0, 0, 0, 0.3));\n",
              "      fill: #FFFFFF;\n",
              "    }\n",
              "  </style>\n",
              "\n",
              "    <script>\n",
              "      const buttonEl =\n",
              "        document.querySelector('#df-8e2b2826-6a8c-4765-a23e-576aa6489980 button.colab-df-convert');\n",
              "      buttonEl.style.display =\n",
              "        google.colab.kernel.accessAllowed ? 'block' : 'none';\n",
              "\n",
              "      async function convertToInteractive(key) {\n",
              "        const element = document.querySelector('#df-8e2b2826-6a8c-4765-a23e-576aa6489980');\n",
              "        const dataTable =\n",
              "          await google.colab.kernel.invokeFunction('convertToInteractive',\n",
              "                                                    [key], {});\n",
              "        if (!dataTable) return;\n",
              "\n",
              "        const docLinkHtml = 'Like what you see? Visit the ' +\n",
              "          '<a target=\"_blank\" href=https://colab.research.google.com/notebooks/data_table.ipynb>data table notebook</a>'\n",
              "          + ' to learn more about interactive tables.';\n",
              "        element.innerHTML = '';\n",
              "        dataTable['output_type'] = 'display_data';\n",
              "        await google.colab.output.renderOutput(dataTable, element);\n",
              "        const docLink = document.createElement('div');\n",
              "        docLink.innerHTML = docLinkHtml;\n",
              "        element.appendChild(docLink);\n",
              "      }\n",
              "    </script>\n",
              "  </div>\n",
              "\n",
              "\n",
              "<div id=\"df-cc3a45fe-c45d-42e6-9e5f-00b4f0070629\">\n",
              "  <button class=\"colab-df-quickchart\" onclick=\"quickchart('df-cc3a45fe-c45d-42e6-9e5f-00b4f0070629')\"\n",
              "            title=\"Suggest charts\"\n",
              "            style=\"display:none;\">\n",
              "\n",
              "<svg xmlns=\"http://www.w3.org/2000/svg\" height=\"24px\"viewBox=\"0 0 24 24\"\n",
              "     width=\"24px\">\n",
              "    <g>\n",
              "        <path d=\"M19 3H5c-1.1 0-2 .9-2 2v14c0 1.1.9 2 2 2h14c1.1 0 2-.9 2-2V5c0-1.1-.9-2-2-2zM9 17H7v-7h2v7zm4 0h-2V7h2v10zm4 0h-2v-4h2v4z\"/>\n",
              "    </g>\n",
              "</svg>\n",
              "  </button>\n",
              "\n",
              "<style>\n",
              "  .colab-df-quickchart {\n",
              "      --bg-color: #E8F0FE;\n",
              "      --fill-color: #1967D2;\n",
              "      --hover-bg-color: #E2EBFA;\n",
              "      --hover-fill-color: #174EA6;\n",
              "      --disabled-fill-color: #AAA;\n",
              "      --disabled-bg-color: #DDD;\n",
              "  }\n",
              "\n",
              "  [theme=dark] .colab-df-quickchart {\n",
              "      --bg-color: #3B4455;\n",
              "      --fill-color: #D2E3FC;\n",
              "      --hover-bg-color: #434B5C;\n",
              "      --hover-fill-color: #FFFFFF;\n",
              "      --disabled-bg-color: #3B4455;\n",
              "      --disabled-fill-color: #666;\n",
              "  }\n",
              "\n",
              "  .colab-df-quickchart {\n",
              "    background-color: var(--bg-color);\n",
              "    border: none;\n",
              "    border-radius: 50%;\n",
              "    cursor: pointer;\n",
              "    display: none;\n",
              "    fill: var(--fill-color);\n",
              "    height: 32px;\n",
              "    padding: 0;\n",
              "    width: 32px;\n",
              "  }\n",
              "\n",
              "  .colab-df-quickchart:hover {\n",
              "    background-color: var(--hover-bg-color);\n",
              "    box-shadow: 0 1px 2px rgba(60, 64, 67, 0.3), 0 1px 3px 1px rgba(60, 64, 67, 0.15);\n",
              "    fill: var(--button-hover-fill-color);\n",
              "  }\n",
              "\n",
              "  .colab-df-quickchart-complete:disabled,\n",
              "  .colab-df-quickchart-complete:disabled:hover {\n",
              "    background-color: var(--disabled-bg-color);\n",
              "    fill: var(--disabled-fill-color);\n",
              "    box-shadow: none;\n",
              "  }\n",
              "\n",
              "  .colab-df-spinner {\n",
              "    border: 2px solid var(--fill-color);\n",
              "    border-color: transparent;\n",
              "    border-bottom-color: var(--fill-color);\n",
              "    animation:\n",
              "      spin 1s steps(1) infinite;\n",
              "  }\n",
              "\n",
              "  @keyframes spin {\n",
              "    0% {\n",
              "      border-color: transparent;\n",
              "      border-bottom-color: var(--fill-color);\n",
              "      border-left-color: var(--fill-color);\n",
              "    }\n",
              "    20% {\n",
              "      border-color: transparent;\n",
              "      border-left-color: var(--fill-color);\n",
              "      border-top-color: var(--fill-color);\n",
              "    }\n",
              "    30% {\n",
              "      border-color: transparent;\n",
              "      border-left-color: var(--fill-color);\n",
              "      border-top-color: var(--fill-color);\n",
              "      border-right-color: var(--fill-color);\n",
              "    }\n",
              "    40% {\n",
              "      border-color: transparent;\n",
              "      border-right-color: var(--fill-color);\n",
              "      border-top-color: var(--fill-color);\n",
              "    }\n",
              "    60% {\n",
              "      border-color: transparent;\n",
              "      border-right-color: var(--fill-color);\n",
              "    }\n",
              "    80% {\n",
              "      border-color: transparent;\n",
              "      border-right-color: var(--fill-color);\n",
              "      border-bottom-color: var(--fill-color);\n",
              "    }\n",
              "    90% {\n",
              "      border-color: transparent;\n",
              "      border-bottom-color: var(--fill-color);\n",
              "    }\n",
              "  }\n",
              "</style>\n",
              "\n",
              "  <script>\n",
              "    async function quickchart(key) {\n",
              "      const quickchartButtonEl =\n",
              "        document.querySelector('#' + key + ' button');\n",
              "      quickchartButtonEl.disabled = true;  // To prevent multiple clicks.\n",
              "      quickchartButtonEl.classList.add('colab-df-spinner');\n",
              "      try {\n",
              "        const charts = await google.colab.kernel.invokeFunction(\n",
              "            'suggestCharts', [key], {});\n",
              "      } catch (error) {\n",
              "        console.error('Error during call to suggestCharts:', error);\n",
              "      }\n",
              "      quickchartButtonEl.classList.remove('colab-df-spinner');\n",
              "      quickchartButtonEl.classList.add('colab-df-quickchart-complete');\n",
              "    }\n",
              "    (() => {\n",
              "      let quickchartButtonEl =\n",
              "        document.querySelector('#df-cc3a45fe-c45d-42e6-9e5f-00b4f0070629 button');\n",
              "      quickchartButtonEl.style.display =\n",
              "        google.colab.kernel.accessAllowed ? 'block' : 'none';\n",
              "    })();\n",
              "  </script>\n",
              "</div>\n",
              "    </div>\n",
              "  </div>\n"
            ]
          },
          "metadata": {},
          "execution_count": 77
        }
      ]
    },
    {
      "cell_type": "markdown",
      "source": [
        "# 5. Model Definition"
      ],
      "metadata": {
        "id": "aM0wFvbWPykq"
      }
    },
    {
      "cell_type": "markdown",
      "source": [
        "1. Algoritma yang dipakai adalah `Ridge Regression`.\n",
        "   \n",
        "   Alasan :\n",
        "   - Karena nilai R2 score dari test-set paling tinggi dibanding `linear regression` dan `lasso regression`.\n",
        "   - Karena target (y) merupakan nilai bukan class.\n",
        "\n",
        "2. Metrics yang akan dipakai adalah `Mean Absolute Error (MAE)`, `Mean Squared Error (MSE)`, `Root Mean Squared Error (RMSE)`.\n",
        "   * Alasan : 3 Metrics digunakan untuk mendapat perbandingan konkrit antar train-set dan test-set serta terhadap masing-masing algoritma."
      ],
      "metadata": {
        "id": "DMxcTic8QUfu"
      }
    },
    {
      "cell_type": "markdown",
      "source": [
        "# 6. Model Training"
      ],
      "metadata": {
        "id": "7KYDtT_q9T6_"
      }
    },
    {
      "cell_type": "markdown",
      "source": [
        "## Linear Regression"
      ],
      "metadata": {
        "id": "FIwOCkcTQljK"
      }
    },
    {
      "cell_type": "code",
      "source": [
        "model_lin_reg = LinearRegression()"
      ],
      "metadata": {
        "id": "Sv0vebuvP5fU"
      },
      "execution_count": 78,
      "outputs": []
    },
    {
      "cell_type": "code",
      "source": [
        "model_lin_reg.fit(x_train_final, y_train)"
      ],
      "metadata": {
        "colab": {
          "base_uri": "https://localhost:8080/",
          "height": 75
        },
        "id": "hm5nQ0krCelx",
        "outputId": "a572fe83-7e2d-4348-8292-7791f2892a1d"
      },
      "execution_count": 79,
      "outputs": [
        {
          "output_type": "execute_result",
          "data": {
            "text/plain": [
              "LinearRegression()"
            ],
            "text/html": [
              "<style>#sk-container-id-1 {color: black;background-color: white;}#sk-container-id-1 pre{padding: 0;}#sk-container-id-1 div.sk-toggleable {background-color: white;}#sk-container-id-1 label.sk-toggleable__label {cursor: pointer;display: block;width: 100%;margin-bottom: 0;padding: 0.3em;box-sizing: border-box;text-align: center;}#sk-container-id-1 label.sk-toggleable__label-arrow:before {content: \"▸\";float: left;margin-right: 0.25em;color: #696969;}#sk-container-id-1 label.sk-toggleable__label-arrow:hover:before {color: black;}#sk-container-id-1 div.sk-estimator:hover label.sk-toggleable__label-arrow:before {color: black;}#sk-container-id-1 div.sk-toggleable__content {max-height: 0;max-width: 0;overflow: hidden;text-align: left;background-color: #f0f8ff;}#sk-container-id-1 div.sk-toggleable__content pre {margin: 0.2em;color: black;border-radius: 0.25em;background-color: #f0f8ff;}#sk-container-id-1 input.sk-toggleable__control:checked~div.sk-toggleable__content {max-height: 200px;max-width: 100%;overflow: auto;}#sk-container-id-1 input.sk-toggleable__control:checked~label.sk-toggleable__label-arrow:before {content: \"▾\";}#sk-container-id-1 div.sk-estimator input.sk-toggleable__control:checked~label.sk-toggleable__label {background-color: #d4ebff;}#sk-container-id-1 div.sk-label input.sk-toggleable__control:checked~label.sk-toggleable__label {background-color: #d4ebff;}#sk-container-id-1 input.sk-hidden--visually {border: 0;clip: rect(1px 1px 1px 1px);clip: rect(1px, 1px, 1px, 1px);height: 1px;margin: -1px;overflow: hidden;padding: 0;position: absolute;width: 1px;}#sk-container-id-1 div.sk-estimator {font-family: monospace;background-color: #f0f8ff;border: 1px dotted black;border-radius: 0.25em;box-sizing: border-box;margin-bottom: 0.5em;}#sk-container-id-1 div.sk-estimator:hover {background-color: #d4ebff;}#sk-container-id-1 div.sk-parallel-item::after {content: \"\";width: 100%;border-bottom: 1px solid gray;flex-grow: 1;}#sk-container-id-1 div.sk-label:hover label.sk-toggleable__label {background-color: #d4ebff;}#sk-container-id-1 div.sk-serial::before {content: \"\";position: absolute;border-left: 1px solid gray;box-sizing: border-box;top: 0;bottom: 0;left: 50%;z-index: 0;}#sk-container-id-1 div.sk-serial {display: flex;flex-direction: column;align-items: center;background-color: white;padding-right: 0.2em;padding-left: 0.2em;position: relative;}#sk-container-id-1 div.sk-item {position: relative;z-index: 1;}#sk-container-id-1 div.sk-parallel {display: flex;align-items: stretch;justify-content: center;background-color: white;position: relative;}#sk-container-id-1 div.sk-item::before, #sk-container-id-1 div.sk-parallel-item::before {content: \"\";position: absolute;border-left: 1px solid gray;box-sizing: border-box;top: 0;bottom: 0;left: 50%;z-index: -1;}#sk-container-id-1 div.sk-parallel-item {display: flex;flex-direction: column;z-index: 1;position: relative;background-color: white;}#sk-container-id-1 div.sk-parallel-item:first-child::after {align-self: flex-end;width: 50%;}#sk-container-id-1 div.sk-parallel-item:last-child::after {align-self: flex-start;width: 50%;}#sk-container-id-1 div.sk-parallel-item:only-child::after {width: 0;}#sk-container-id-1 div.sk-dashed-wrapped {border: 1px dashed gray;margin: 0 0.4em 0.5em 0.4em;box-sizing: border-box;padding-bottom: 0.4em;background-color: white;}#sk-container-id-1 div.sk-label label {font-family: monospace;font-weight: bold;display: inline-block;line-height: 1.2em;}#sk-container-id-1 div.sk-label-container {text-align: center;}#sk-container-id-1 div.sk-container {/* jupyter's `normalize.less` sets `[hidden] { display: none; }` but bootstrap.min.css set `[hidden] { display: none !important; }` so we also need the `!important` here to be able to override the default hidden behavior on the sphinx rendered scikit-learn.org. See: https://github.com/scikit-learn/scikit-learn/issues/21755 */display: inline-block !important;position: relative;}#sk-container-id-1 div.sk-text-repr-fallback {display: none;}</style><div id=\"sk-container-id-1\" class=\"sk-top-container\"><div class=\"sk-text-repr-fallback\"><pre>LinearRegression()</pre><b>In a Jupyter environment, please rerun this cell to show the HTML representation or trust the notebook. <br />On GitHub, the HTML representation is unable to render, please try loading this page with nbviewer.org.</b></div><div class=\"sk-container\" hidden><div class=\"sk-item\"><div class=\"sk-estimator sk-toggleable\"><input class=\"sk-toggleable__control sk-hidden--visually\" id=\"sk-estimator-id-1\" type=\"checkbox\" checked><label for=\"sk-estimator-id-1\" class=\"sk-toggleable__label sk-toggleable__label-arrow\">LinearRegression</label><div class=\"sk-toggleable__content\"><pre>LinearRegression()</pre></div></div></div></div></div>"
            ]
          },
          "metadata": {},
          "execution_count": 79
        }
      ]
    },
    {
      "cell_type": "code",
      "source": [
        "y_train_predict_lr = model_lin_reg.predict(x_train_final)\n",
        "y_test_predict_lr = model_lin_reg.predict(x_test_final)"
      ],
      "metadata": {
        "id": "U2L8t65zlAl2"
      },
      "execution_count": 80,
      "outputs": []
    },
    {
      "cell_type": "markdown",
      "source": [
        "## Lasso Regression"
      ],
      "metadata": {
        "id": "FGaM7V20SeKv"
      }
    },
    {
      "cell_type": "code",
      "source": [
        "model_lasso_alpha_01 = Lasso(alpha=0.01)\n",
        "model_lasso_alpha_01.fit(x_train_final, y_train)"
      ],
      "metadata": {
        "colab": {
          "base_uri": "https://localhost:8080/",
          "height": 75
        },
        "id": "wKYhiaXSSgZk",
        "outputId": "e83bde90-7091-47c2-d8af-0275c03f90d1"
      },
      "execution_count": 81,
      "outputs": [
        {
          "output_type": "execute_result",
          "data": {
            "text/plain": [
              "Lasso(alpha=0.01)"
            ],
            "text/html": [
              "<style>#sk-container-id-2 {color: black;background-color: white;}#sk-container-id-2 pre{padding: 0;}#sk-container-id-2 div.sk-toggleable {background-color: white;}#sk-container-id-2 label.sk-toggleable__label {cursor: pointer;display: block;width: 100%;margin-bottom: 0;padding: 0.3em;box-sizing: border-box;text-align: center;}#sk-container-id-2 label.sk-toggleable__label-arrow:before {content: \"▸\";float: left;margin-right: 0.25em;color: #696969;}#sk-container-id-2 label.sk-toggleable__label-arrow:hover:before {color: black;}#sk-container-id-2 div.sk-estimator:hover label.sk-toggleable__label-arrow:before {color: black;}#sk-container-id-2 div.sk-toggleable__content {max-height: 0;max-width: 0;overflow: hidden;text-align: left;background-color: #f0f8ff;}#sk-container-id-2 div.sk-toggleable__content pre {margin: 0.2em;color: black;border-radius: 0.25em;background-color: #f0f8ff;}#sk-container-id-2 input.sk-toggleable__control:checked~div.sk-toggleable__content {max-height: 200px;max-width: 100%;overflow: auto;}#sk-container-id-2 input.sk-toggleable__control:checked~label.sk-toggleable__label-arrow:before {content: \"▾\";}#sk-container-id-2 div.sk-estimator input.sk-toggleable__control:checked~label.sk-toggleable__label {background-color: #d4ebff;}#sk-container-id-2 div.sk-label input.sk-toggleable__control:checked~label.sk-toggleable__label {background-color: #d4ebff;}#sk-container-id-2 input.sk-hidden--visually {border: 0;clip: rect(1px 1px 1px 1px);clip: rect(1px, 1px, 1px, 1px);height: 1px;margin: -1px;overflow: hidden;padding: 0;position: absolute;width: 1px;}#sk-container-id-2 div.sk-estimator {font-family: monospace;background-color: #f0f8ff;border: 1px dotted black;border-radius: 0.25em;box-sizing: border-box;margin-bottom: 0.5em;}#sk-container-id-2 div.sk-estimator:hover {background-color: #d4ebff;}#sk-container-id-2 div.sk-parallel-item::after {content: \"\";width: 100%;border-bottom: 1px solid gray;flex-grow: 1;}#sk-container-id-2 div.sk-label:hover label.sk-toggleable__label {background-color: #d4ebff;}#sk-container-id-2 div.sk-serial::before {content: \"\";position: absolute;border-left: 1px solid gray;box-sizing: border-box;top: 0;bottom: 0;left: 50%;z-index: 0;}#sk-container-id-2 div.sk-serial {display: flex;flex-direction: column;align-items: center;background-color: white;padding-right: 0.2em;padding-left: 0.2em;position: relative;}#sk-container-id-2 div.sk-item {position: relative;z-index: 1;}#sk-container-id-2 div.sk-parallel {display: flex;align-items: stretch;justify-content: center;background-color: white;position: relative;}#sk-container-id-2 div.sk-item::before, #sk-container-id-2 div.sk-parallel-item::before {content: \"\";position: absolute;border-left: 1px solid gray;box-sizing: border-box;top: 0;bottom: 0;left: 50%;z-index: -1;}#sk-container-id-2 div.sk-parallel-item {display: flex;flex-direction: column;z-index: 1;position: relative;background-color: white;}#sk-container-id-2 div.sk-parallel-item:first-child::after {align-self: flex-end;width: 50%;}#sk-container-id-2 div.sk-parallel-item:last-child::after {align-self: flex-start;width: 50%;}#sk-container-id-2 div.sk-parallel-item:only-child::after {width: 0;}#sk-container-id-2 div.sk-dashed-wrapped {border: 1px dashed gray;margin: 0 0.4em 0.5em 0.4em;box-sizing: border-box;padding-bottom: 0.4em;background-color: white;}#sk-container-id-2 div.sk-label label {font-family: monospace;font-weight: bold;display: inline-block;line-height: 1.2em;}#sk-container-id-2 div.sk-label-container {text-align: center;}#sk-container-id-2 div.sk-container {/* jupyter's `normalize.less` sets `[hidden] { display: none; }` but bootstrap.min.css set `[hidden] { display: none !important; }` so we also need the `!important` here to be able to override the default hidden behavior on the sphinx rendered scikit-learn.org. See: https://github.com/scikit-learn/scikit-learn/issues/21755 */display: inline-block !important;position: relative;}#sk-container-id-2 div.sk-text-repr-fallback {display: none;}</style><div id=\"sk-container-id-2\" class=\"sk-top-container\"><div class=\"sk-text-repr-fallback\"><pre>Lasso(alpha=0.01)</pre><b>In a Jupyter environment, please rerun this cell to show the HTML representation or trust the notebook. <br />On GitHub, the HTML representation is unable to render, please try loading this page with nbviewer.org.</b></div><div class=\"sk-container\" hidden><div class=\"sk-item\"><div class=\"sk-estimator sk-toggleable\"><input class=\"sk-toggleable__control sk-hidden--visually\" id=\"sk-estimator-id-2\" type=\"checkbox\" checked><label for=\"sk-estimator-id-2\" class=\"sk-toggleable__label sk-toggleable__label-arrow\">Lasso</label><div class=\"sk-toggleable__content\"><pre>Lasso(alpha=0.01)</pre></div></div></div></div></div>"
            ]
          },
          "metadata": {},
          "execution_count": 81
        }
      ]
    },
    {
      "cell_type": "code",
      "source": [
        "y_train_predict_las = model_lasso_alpha_01.predict(x_train_final)\n",
        "y_test_predict_las = model_lasso_alpha_01.predict(x_test_final)"
      ],
      "metadata": {
        "id": "Hduv-3CCTbmO"
      },
      "execution_count": 82,
      "outputs": []
    },
    {
      "cell_type": "markdown",
      "source": [
        "## Ridge Regression"
      ],
      "metadata": {
        "id": "UI-rJHIYTu5P"
      }
    },
    {
      "cell_type": "code",
      "source": [
        "model_ridge_alpha_1 = Ridge(alpha=0.01)\n",
        "model_ridge_alpha_1.fit(x_train_final, y_train)"
      ],
      "metadata": {
        "colab": {
          "base_uri": "https://localhost:8080/",
          "height": 75
        },
        "id": "P5P33bkKTwuS",
        "outputId": "53414396-7ff1-441a-83e1-b5ac48918244"
      },
      "execution_count": 83,
      "outputs": [
        {
          "output_type": "execute_result",
          "data": {
            "text/plain": [
              "Ridge(alpha=0.01)"
            ],
            "text/html": [
              "<style>#sk-container-id-3 {color: black;background-color: white;}#sk-container-id-3 pre{padding: 0;}#sk-container-id-3 div.sk-toggleable {background-color: white;}#sk-container-id-3 label.sk-toggleable__label {cursor: pointer;display: block;width: 100%;margin-bottom: 0;padding: 0.3em;box-sizing: border-box;text-align: center;}#sk-container-id-3 label.sk-toggleable__label-arrow:before {content: \"▸\";float: left;margin-right: 0.25em;color: #696969;}#sk-container-id-3 label.sk-toggleable__label-arrow:hover:before {color: black;}#sk-container-id-3 div.sk-estimator:hover label.sk-toggleable__label-arrow:before {color: black;}#sk-container-id-3 div.sk-toggleable__content {max-height: 0;max-width: 0;overflow: hidden;text-align: left;background-color: #f0f8ff;}#sk-container-id-3 div.sk-toggleable__content pre {margin: 0.2em;color: black;border-radius: 0.25em;background-color: #f0f8ff;}#sk-container-id-3 input.sk-toggleable__control:checked~div.sk-toggleable__content {max-height: 200px;max-width: 100%;overflow: auto;}#sk-container-id-3 input.sk-toggleable__control:checked~label.sk-toggleable__label-arrow:before {content: \"▾\";}#sk-container-id-3 div.sk-estimator input.sk-toggleable__control:checked~label.sk-toggleable__label {background-color: #d4ebff;}#sk-container-id-3 div.sk-label input.sk-toggleable__control:checked~label.sk-toggleable__label {background-color: #d4ebff;}#sk-container-id-3 input.sk-hidden--visually {border: 0;clip: rect(1px 1px 1px 1px);clip: rect(1px, 1px, 1px, 1px);height: 1px;margin: -1px;overflow: hidden;padding: 0;position: absolute;width: 1px;}#sk-container-id-3 div.sk-estimator {font-family: monospace;background-color: #f0f8ff;border: 1px dotted black;border-radius: 0.25em;box-sizing: border-box;margin-bottom: 0.5em;}#sk-container-id-3 div.sk-estimator:hover {background-color: #d4ebff;}#sk-container-id-3 div.sk-parallel-item::after {content: \"\";width: 100%;border-bottom: 1px solid gray;flex-grow: 1;}#sk-container-id-3 div.sk-label:hover label.sk-toggleable__label {background-color: #d4ebff;}#sk-container-id-3 div.sk-serial::before {content: \"\";position: absolute;border-left: 1px solid gray;box-sizing: border-box;top: 0;bottom: 0;left: 50%;z-index: 0;}#sk-container-id-3 div.sk-serial {display: flex;flex-direction: column;align-items: center;background-color: white;padding-right: 0.2em;padding-left: 0.2em;position: relative;}#sk-container-id-3 div.sk-item {position: relative;z-index: 1;}#sk-container-id-3 div.sk-parallel {display: flex;align-items: stretch;justify-content: center;background-color: white;position: relative;}#sk-container-id-3 div.sk-item::before, #sk-container-id-3 div.sk-parallel-item::before {content: \"\";position: absolute;border-left: 1px solid gray;box-sizing: border-box;top: 0;bottom: 0;left: 50%;z-index: -1;}#sk-container-id-3 div.sk-parallel-item {display: flex;flex-direction: column;z-index: 1;position: relative;background-color: white;}#sk-container-id-3 div.sk-parallel-item:first-child::after {align-self: flex-end;width: 50%;}#sk-container-id-3 div.sk-parallel-item:last-child::after {align-self: flex-start;width: 50%;}#sk-container-id-3 div.sk-parallel-item:only-child::after {width: 0;}#sk-container-id-3 div.sk-dashed-wrapped {border: 1px dashed gray;margin: 0 0.4em 0.5em 0.4em;box-sizing: border-box;padding-bottom: 0.4em;background-color: white;}#sk-container-id-3 div.sk-label label {font-family: monospace;font-weight: bold;display: inline-block;line-height: 1.2em;}#sk-container-id-3 div.sk-label-container {text-align: center;}#sk-container-id-3 div.sk-container {/* jupyter's `normalize.less` sets `[hidden] { display: none; }` but bootstrap.min.css set `[hidden] { display: none !important; }` so we also need the `!important` here to be able to override the default hidden behavior on the sphinx rendered scikit-learn.org. See: https://github.com/scikit-learn/scikit-learn/issues/21755 */display: inline-block !important;position: relative;}#sk-container-id-3 div.sk-text-repr-fallback {display: none;}</style><div id=\"sk-container-id-3\" class=\"sk-top-container\"><div class=\"sk-text-repr-fallback\"><pre>Ridge(alpha=0.01)</pre><b>In a Jupyter environment, please rerun this cell to show the HTML representation or trust the notebook. <br />On GitHub, the HTML representation is unable to render, please try loading this page with nbviewer.org.</b></div><div class=\"sk-container\" hidden><div class=\"sk-item\"><div class=\"sk-estimator sk-toggleable\"><input class=\"sk-toggleable__control sk-hidden--visually\" id=\"sk-estimator-id-3\" type=\"checkbox\" checked><label for=\"sk-estimator-id-3\" class=\"sk-toggleable__label sk-toggleable__label-arrow\">Ridge</label><div class=\"sk-toggleable__content\"><pre>Ridge(alpha=0.01)</pre></div></div></div></div></div>"
            ]
          },
          "metadata": {},
          "execution_count": 83
        }
      ]
    },
    {
      "cell_type": "code",
      "source": [
        "y_train_predict_r = model_ridge_alpha_1.predict(x_train_final)\n",
        "y_test_predict_r = model_ridge_alpha_1.predict(x_test_final)"
      ],
      "metadata": {
        "id": "oT2teIChT4fx"
      },
      "execution_count": 84,
      "outputs": []
    },
    {
      "cell_type": "markdown",
      "source": [
        "## Polynomial Regression"
      ],
      "metadata": {
        "id": "m3x0Ize-ONRY"
      }
    },
    {
      "cell_type": "code",
      "source": [
        "#poly_d2 = PolynomialFeatures(degree=2)\n",
        "#X_train_poly_d2 = poly_d2.fit_transform(x_train_final)\n",
        "#X_test_poly_d2 = poly_d2.transform(x_test_final)"
      ],
      "metadata": {
        "id": "AAP_C7i5Pc4c"
      },
      "execution_count": 85,
      "outputs": []
    },
    {
      "cell_type": "code",
      "source": [
        "#model_linreg_poly_d2 = LinearRegression()\n",
        "#model_linreg_poly_d2.fit(X_train_poly_d2, y_train)"
      ],
      "metadata": {
        "id": "zflQbRA0QWt_"
      },
      "execution_count": 86,
      "outputs": []
    },
    {
      "cell_type": "markdown",
      "source": [
        "# 7. Model Evaluation"
      ],
      "metadata": {
        "id": "qXAp-riG9hlU"
      }
    },
    {
      "cell_type": "markdown",
      "source": [
        "## Linear Regression"
      ],
      "metadata": {
        "id": "Kx6Eo5iTOKEk"
      }
    },
    {
      "cell_type": "code",
      "source": [
        "print(\"Measuring on Train set.\\n\")\n",
        "#Calculating Mean Absolute Error\n",
        "MAEValue = mean_absolute_error(y_train, y_train_predict_lr)\n",
        "print('Mean Absolute Error Value is : ', MAEValue)\n",
        "\n",
        "#Calculating Mean Squared Error\n",
        "MSEValue = mean_squared_error(y_train, y_train_predict_lr)\n",
        "print('Mean Squared Error Value is : ', MSEValue)\n",
        "\n",
        "#Calculating Mean Squared Error\n",
        "RMSEValue = mean_squared_error(y_train, y_train_predict_lr, squared=False)\n",
        "print('RMSE Value is : ', RMSEValue)\n",
        "\n",
        "#Calculating r2_score\n",
        "r2_scorevalue = r2_score(y_train, y_train_predict_lr)\n",
        "print('r2_score is : ', r2_scorevalue )"
      ],
      "metadata": {
        "colab": {
          "base_uri": "https://localhost:8080/"
        },
        "id": "RpoDJaMfpxuA",
        "outputId": "feed5b92-ccc1-45bd-d1dc-b877fcfed916"
      },
      "execution_count": 87,
      "outputs": [
        {
          "output_type": "stream",
          "name": "stdout",
          "text": [
            "Measuring on Train set.\n",
            "\n",
            "Mean Absolute Error Value is :  1.7098100331227042\n",
            "Mean Squared Error Value is :  5.830225025832757\n",
            "RMSE Value is :  2.414585891169075\n",
            "r2_score is :  0.9315543484145733\n"
          ]
        }
      ]
    },
    {
      "cell_type": "code",
      "source": [
        "print(\"Measuring on Testing set.\\n\")\n",
        "#Calculating Mean Absolute Error\n",
        "MAEValue = mean_absolute_error(y_test, y_test_predict_lr)\n",
        "print('Mean Absolute Error Value is : ', MAEValue)\n",
        "\n",
        "#Calculating Mean Squared Error\n",
        "MSEValue = mean_squared_error(y_test, y_test_predict_lr)\n",
        "print('Mean Squared Error Value is : ', MSEValue)\n",
        "\n",
        "#Calculating Mean Squared Error\n",
        "RMSEValue = mean_squared_error(y_test, y_test_predict_lr, squared=False)\n",
        "print('RMSE Value is : ', RMSEValue)\n",
        "\n",
        "#Calculating r2_score\n",
        "r2_scorevalue = r2_score(y_test, y_test_predict_lr)\n",
        "print('r2_score is : ', r2_scorevalue )"
      ],
      "metadata": {
        "colab": {
          "base_uri": "https://localhost:8080/"
        },
        "id": "MzbH5ZQMpKEQ",
        "outputId": "1f504370-3809-43b4-d473-e62755da08a8"
      },
      "execution_count": 88,
      "outputs": [
        {
          "output_type": "stream",
          "name": "stdout",
          "text": [
            "Measuring on Testing set.\n",
            "\n",
            "Mean Absolute Error Value is :  1.7534388321627457\n",
            "Mean Squared Error Value is :  6.289463286907332\n",
            "RMSE Value is :  2.507880237752061\n",
            "r2_score is :  0.9277438747737408\n"
          ]
        }
      ]
    },
    {
      "cell_type": "markdown",
      "source": [
        "$Insight:$\n",
        "- Linear Regression performed well on both train and test set."
      ],
      "metadata": {
        "id": "_sRdSFph2EVd"
      }
    },
    {
      "cell_type": "markdown",
      "source": [
        "## Lasso Regression"
      ],
      "metadata": {
        "id": "D0QrrUenUAvj"
      }
    },
    {
      "cell_type": "code",
      "source": [
        "print(\"Measuring on Train set.\\n\")\n",
        "#Calculating Mean Absolute Error\n",
        "MAEValue = mean_absolute_error(y_train, y_train_predict_las)\n",
        "print('Mean Absolute Error Value is : ', MAEValue)\n",
        "\n",
        "#Calculating Mean Squared Error\n",
        "MSEValue = mean_squared_error(y_train, y_train_predict_las)\n",
        "print('Mean Squared Error Value is : ', MSEValue)\n",
        "\n",
        "#Calculating Mean Squared Error\n",
        "RMSEValue = mean_squared_error(y_train, y_train_predict_las, squared=False)\n",
        "print('RMSE Value is : ', RMSEValue)\n",
        "\n",
        "#Calculating r2_score\n",
        "r2_scorevalue = r2_score(y_train, y_train_predict_las)\n",
        "print('r2_score is : ', r2_scorevalue )"
      ],
      "metadata": {
        "colab": {
          "base_uri": "https://localhost:8080/"
        },
        "id": "-IkHonMmUFZL",
        "outputId": "396b0648-90f8-4f9e-a599-080a1d1aa3da"
      },
      "execution_count": 89,
      "outputs": [
        {
          "output_type": "stream",
          "name": "stdout",
          "text": [
            "Measuring on Train set.\n",
            "\n",
            "Mean Absolute Error Value is :  1.7045832717088867\n",
            "Mean Squared Error Value is :  5.8722664931592945\n",
            "RMSE Value is :  2.423275983696305\n",
            "r2_score is :  0.9310607901707624\n"
          ]
        }
      ]
    },
    {
      "cell_type": "code",
      "source": [
        "print(\"Measuring on Testing set.\\n\")\n",
        "#Calculating Mean Absolute Error\n",
        "MAEValue = mean_absolute_error(y_test, y_test_predict_las)\n",
        "print('Mean Absolute Error Value is : ', MAEValue)\n",
        "\n",
        "#Calculating Mean Squared Error\n",
        "MSEValue = mean_squared_error(y_test, y_test_predict_las)\n",
        "print('Mean Squared Error Value is : ', MSEValue)\n",
        "\n",
        "#Calculating Mean Squared Error\n",
        "RMSEValue = mean_squared_error(y_test, y_test_predict_las, squared=False)\n",
        "print('RMSE Value is : ', RMSEValue)\n",
        "\n",
        "#Calculating r2_score\n",
        "r2_scorevalue = r2_score(y_test, y_test_predict_las)\n",
        "print('r2_score is : ', r2_scorevalue )"
      ],
      "metadata": {
        "colab": {
          "base_uri": "https://localhost:8080/"
        },
        "id": "UtikBe_VUJSP",
        "outputId": "92205c41-90ce-4f33-b092-f9a078a71681"
      },
      "execution_count": 90,
      "outputs": [
        {
          "output_type": "stream",
          "name": "stdout",
          "text": [
            "Measuring on Testing set.\n",
            "\n",
            "Mean Absolute Error Value is :  1.7482217065146597\n",
            "Mean Squared Error Value is :  6.321477415920889\n",
            "RMSE Value is :  2.514254843073965\n",
            "r2_score is :  0.9273760823549777\n"
          ]
        }
      ]
    },
    {
      "cell_type": "markdown",
      "source": [
        "$Insight:$\n",
        "- Lasso Regression performed well on both train and test set."
      ],
      "metadata": {
        "id": "YRtxkm6sV6YF"
      }
    },
    {
      "cell_type": "markdown",
      "source": [
        "## Ridge Regression"
      ],
      "metadata": {
        "id": "r3mUBZ6DUDiq"
      }
    },
    {
      "cell_type": "code",
      "source": [
        "print(\"Measuring on Train set.\\n\")\n",
        "#Calculating Mean Absolute Error\n",
        "MAEValue = mean_absolute_error(y_train, y_train_predict_r)\n",
        "print('Mean Absolute Error Value is : ', MAEValue)\n",
        "\n",
        "#Calculating Mean Squared Error\n",
        "MSEValue = mean_squared_error(y_train, y_train_predict_r)\n",
        "print('Mean Squared Error Value is : ', MSEValue)\n",
        "\n",
        "#Calculating Mean Squared Error\n",
        "RMSEValue = mean_squared_error(y_train, y_train_predict_r, squared=False)\n",
        "print('RMSE Value is : ', RMSEValue)\n",
        "\n",
        "#Calculating r2_score\n",
        "r2_scorevalue = r2_score(y_train, y_train_predict_r)\n",
        "print('r2_score is : ', r2_scorevalue )"
      ],
      "metadata": {
        "colab": {
          "base_uri": "https://localhost:8080/"
        },
        "id": "WlpjVwIwUFza",
        "outputId": "1be9151c-ee04-40ad-e7e1-3c3a3624c997"
      },
      "execution_count": 91,
      "outputs": [
        {
          "output_type": "stream",
          "name": "stdout",
          "text": [
            "Measuring on Train set.\n",
            "\n",
            "Mean Absolute Error Value is :  1.7098073801630693\n",
            "Mean Squared Error Value is :  5.8302249383121705\n",
            "RMSE Value is :  2.414585873045763\n",
            "r2_score is :  0.9315543494420471\n"
          ]
        }
      ]
    },
    {
      "cell_type": "code",
      "source": [
        "print(\"Measuring on Testing set.\\n\")\n",
        "#Calculating Mean Absolute Error\n",
        "MAEValue = mean_absolute_error(y_test, y_test_predict_r)\n",
        "print('Mean Absolute Error Value is : ', MAEValue)\n",
        "\n",
        "#Calculating Mean Squared Error\n",
        "MSEValue = mean_squared_error(y_test, y_test_predict_r)\n",
        "print('Mean Squared Error Value is : ', MSEValue)\n",
        "\n",
        "#Calculating Mean Squared Error\n",
        "RMSEValue = mean_squared_error(y_test, y_test_predict_r, squared=False)\n",
        "print('RMSE Value is : ', RMSEValue)\n",
        "\n",
        "#Calculating r2_score\n",
        "r2_scorevalue = r2_score(y_test, y_test_predict_r)\n",
        "print('r2_score is : ', r2_scorevalue )"
      ],
      "metadata": {
        "colab": {
          "base_uri": "https://localhost:8080/"
        },
        "id": "3UkmSyc_UUr_",
        "outputId": "02e7a931-5683-4b55-855a-5ba4e463be46"
      },
      "execution_count": 92,
      "outputs": [
        {
          "output_type": "stream",
          "name": "stdout",
          "text": [
            "Measuring on Testing set.\n",
            "\n",
            "Mean Absolute Error Value is :  1.753436374645112\n",
            "Mean Squared Error Value is :  6.289466592610643\n",
            "RMSE Value is :  2.507880896815206\n",
            "r2_score is :  0.9277438367963647\n"
          ]
        }
      ]
    },
    {
      "cell_type": "markdown",
      "source": [
        "$Insight:$\n",
        "- Ridge Regression performed well on both train and test set."
      ],
      "metadata": {
        "id": "V-rZO5x6V8WM"
      }
    },
    {
      "cell_type": "markdown",
      "source": [
        "# 8. Model Inference"
      ],
      "metadata": {
        "id": "KE50g_PL82sr"
      }
    },
    {
      "cell_type": "code",
      "source": [
        "x_train_final.columns"
      ],
      "metadata": {
        "colab": {
          "base_uri": "https://localhost:8080/"
        },
        "id": "-D03_DCLQL7o",
        "outputId": "da696bf8-28a4-45e8-fa80-14721bec6748"
      },
      "execution_count": 93,
      "outputs": [
        {
          "output_type": "execute_result",
          "data": {
            "text/plain": [
              "Index(['distance', 'surge_multiplier', 'source_Financial District',\n",
              "       'source_South Station', 'source_Beacon Hill', 'source_North Station',\n",
              "       'source_North End', 'source_Back Bay', 'source_Theatre District',\n",
              "       'source_Haymarket Square', 'source_Northeastern University',\n",
              "       'source_Boston University', 'source_West End', 'source_Fenway',\n",
              "       'destination_Haymarket Square', 'destination_Back Bay',\n",
              "       'destination_West End', 'destination_Boston University',\n",
              "       'destination_South Station', 'destination_Financial District',\n",
              "       'destination_Theatre District', 'destination_Fenway',\n",
              "       'destination_Northeastern University', 'destination_North Station',\n",
              "       'destination_Beacon Hill', 'destination_North End', 'cab_type_Lyft',\n",
              "       'cab_type_Uber', 'name_Lux Black XL', 'name_Black SUV', 'name_Lyft',\n",
              "       'name_Lux Black', 'name_Lux', 'name_UberXL', 'name_Lyft XL',\n",
              "       'name_UberX', 'name_Shared', 'name_WAV', 'name_UberPool', 'name_Black'],\n",
              "      dtype='object')"
            ]
          },
          "metadata": {},
          "execution_count": 93
        }
      ]
    },
    {
      "cell_type": "code",
      "source": [
        "new_data=np.array([3,-0.12,1,0,0,0,0,0,0,0,0,0,0,0,0,1,0,0,0,0,0,0,0,0,0,1,0,1,0,0,0,0,0,0,0,0,0,0,0,0])\n",
        "new_data=new_data.reshape(1, -1)\n",
        "new_data.shape\n",
        "\n",
        "model_lin_reg.predict(new_data)"
      ],
      "metadata": {
        "id": "RPNofcoy2rYB",
        "colab": {
          "base_uri": "https://localhost:8080/"
        },
        "outputId": "bc783402-d4cd-494b-daf8-a76821595288"
      },
      "execution_count": 94,
      "outputs": [
        {
          "output_type": "stream",
          "name": "stderr",
          "text": [
            "/usr/local/lib/python3.10/dist-packages/sklearn/base.py:439: UserWarning: X does not have valid feature names, but LinearRegression was fitted with feature names\n",
            "  warnings.warn(\n"
          ]
        },
        {
          "output_type": "execute_result",
          "data": {
            "text/plain": [
              "array([2.32295774e+10])"
            ]
          },
          "metadata": {},
          "execution_count": 94
        }
      ]
    },
    {
      "cell_type": "markdown",
      "source": [
        "# 9. Model Saving"
      ],
      "metadata": {
        "id": "EEQtKKS-hkyb"
      }
    },
    {
      "cell_type": "code",
      "source": [
        "import pickle, joblib\n",
        "import json\n",
        "\n",
        "with open('model_lin_reg.pkl', 'wb') as file_1:\n",
        "  pickle.dump(model_lin_reg, file_1)\n",
        "\n",
        "with open('model_scaler.pkl', 'wb') as file_2:\n",
        "  pickle.dump(scaler, file_2)\n",
        "\n",
        "with open('model_encoder.pkl', 'wb') as file_3:\n",
        "  pickle.dump(enc_nom, file_3)\n",
        "\n",
        "with open('list_num_cols.txt', 'w') as file_4:\n",
        "  json.dump(num_cols, file_4)\n",
        "\n",
        "with open('list_cat_cols.txt','w') as file_5:\n",
        "  json.dump(category_cols, file_5)"
      ],
      "metadata": {
        "id": "l_1Dtr9shnIY"
      },
      "execution_count": 96,
      "outputs": []
    },
    {
      "cell_type": "markdown",
      "source": [
        "# Conclusion"
      ],
      "metadata": {
        "id": "Z6NPh9hOOxv5"
      }
    },
    {
      "cell_type": "markdown",
      "source": [
        "- The chosen features are `source`, `distance`, `cab_type`, `name`, `surge_multiplier`,`distance`. Based on pearson's correlation for the numerical features and kendall's tau for categoric features.\n",
        "- The chosen metric is MSE, because the target is a currency and therefore cannot be negative.\n",
        "- The chosen algorithm is `ridge regression` since it has the highest test set r2 score.\n",
        "- The Model's weakness is that the prediction doesn't go higher than around 40000, despite the actual data being in that range."
      ],
      "metadata": {
        "id": "CImERhE6O4M8"
      }
    },
    {
      "cell_type": "code",
      "source": [
        "model_lin_reg.coef_"
      ],
      "metadata": {
        "id": "2soG-uam2GQp"
      },
      "execution_count": null,
      "outputs": []
    },
    {
      "cell_type": "code",
      "source": [
        "model_lin_reg.intercept_"
      ],
      "metadata": {
        "colab": {
          "base_uri": "https://localhost:8080/"
        },
        "id": "t9KWQM972a19",
        "outputId": "fd77a361-ea70-4ffe-f06e-c50a72dd4471"
      },
      "execution_count": 98,
      "outputs": [
        {
          "output_type": "execute_result",
          "data": {
            "text/plain": [
              "-100879185402.1554"
            ]
          },
          "metadata": {},
          "execution_count": 98
        }
      ]
    }
  ]
}