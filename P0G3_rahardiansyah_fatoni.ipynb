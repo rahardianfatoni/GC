{
  "nbformat": 4,
  "nbformat_minor": 0,
  "metadata": {
    "colab": {
      "provenance": []
    },
    "kernelspec": {
      "name": "python3",
      "display_name": "Python 3"
    },
    "language_info": {
      "name": "python"
    }
  },
  "cells": [
    {
      "cell_type": "markdown",
      "source": [
        "# Graded Challenge 3\n",
        "\n",
        "Nama  : Rahardiansyah Fatoni\n",
        "\n",
        "Batch : RMT-27\n",
        "\n",
        "Graded Challenge 3 ini dibuat guna mengevaluasi konsep Web Scraping, Business Knowledge dan Practical Statistics sebagai berikut:\n",
        "\n",
        "*   Mampu mengambil data dari sumber internet dengan Web Scraping\n",
        "*   Mampu melakukan data preparation sebelum analisis selanjutnya\n",
        "*   Mampu membangun problem statement dengan framework SMART sebagai salah satu langkah business understanding\n",
        "*   Mampu melakukan perhitungan statistik deskriptif\n",
        "*   Mampu melakukan pengujian statistik dan merumuskan hipotesis\n",
        "*   Mampu mengambil insight/informasi dari hasil perhitungan\n",
        "*   Mampu mengambil insight/informasi dari hasil perhitungan\n",
        "*   Mampu mengambil kesimpulan yang menjawab problem statement"
      ],
      "metadata": {
        "id": "5icwX4mwRasr"
      }
    },
    {
      "cell_type": "markdown",
      "source": [
        "## A. Web Scraping"
      ],
      "metadata": {
        "id": "hfKhHFqU0IW7"
      }
    },
    {
      "cell_type": "code",
      "source": [
        "# IMPORT MODULE UNTUK WEB SCRAPING\n",
        "from bs4 import BeautifulSoup\n",
        "from selenium.webdriver.firefox.options import Options\n",
        "from selenium import webdriver\n",
        "\n",
        "# PENAMBAHAN OPTIONS UNTUK WEBDRIVER UNTUK MEMPERCEPAT PROSES SCRAPE\n",
        "options = Options()\n",
        "options.add_argument('--disable-gpu')\n",
        "options.add_argument('--headless')\n",
        "options.add_argument('--no-sandbox')\n",
        "options.add_argument('--disable-dev-shm-usage')"
      ],
      "metadata": {
        "id": "WZmaIpXDmJE_"
      },
      "execution_count": null,
      "outputs": []
    },
    {
      "cell_type": "code",
      "source": [
        "# PEMBUATAN LIST UNTUK MENAMPUNG HASIL SCRAPE\n",
        "list_nama_produk = []\n",
        "list_harga_produk = []\n",
        "list_penjual_produk = []\n",
        "list_kota_produk = []\n",
        "list_banyak_produk = []\n",
        "list_rating_produk = []"
      ],
      "metadata": {
        "id": "vA9E6RY-ngwE"
      },
      "execution_count": null,
      "outputs": []
    },
    {
      "cell_type": "code",
      "source": [
        "for page in range(1,11):\n",
        "  driver = webdriver.Firefox(options=options)\n",
        "  url=f\"https://www.tokopedia.com/search?navsource=&page={page}&q=seblak&srp_component_id=02.01.00.00&srp_page_id=&srp_page_title=&st=\"\n",
        "  driver.get(url)\n",
        "  html = driver.page_source\n",
        "  soup = BeautifulSoup(html, \"html.parser\")\n",
        "\n",
        "  # soup.find_all KEPADA ELEMEN YANG MENCAKUP DATA: NAMA, PENJUAL, HARGA, BANYAK TERJUAL, KOTA PENJUAL, DAN RATING PRODUK\n",
        "  for el in soup.find_all(\"a\", {\"class\": \"pcv3__info-content css-gwkf0u\"}):\n",
        "    # Use el.find to search within the context of the current loop iteration\n",
        "    nama = el.find(\"div\", {\"class\": \"prd_link-product-name css-3um8ox\"})\n",
        "    list_nama_produk.append(nama.get_text() if nama else None)\n",
        "\n",
        "    harga = el.find(\"div\", {\"class\": \"prd_link-product-price css-h66vau\"})\n",
        "    list_harga_produk.append(harga.get_text() if harga else None)\n",
        "\n",
        "    penjual = el.find(\"span\", {\"class\": \"prd_link-shop-name css-1kdc32b flip\"})\n",
        "    list_penjual_produk.append(penjual.get_text() if penjual else None)\n",
        "\n",
        "    kota = el.find(\"span\", {\"class\": \"prd_link-shop-loc css-1kdc32b flip\"})\n",
        "    list_kota_produk.append(kota.get_text() if kota else None)\n",
        "\n",
        "    banyak = el.find(\"span\", {\"class\": \"prd_label-integrity css-1sgek4h\"})\n",
        "    list_banyak_produk.append(banyak.get_text() if banyak else None)\n",
        "\n",
        "    rating = el.find(\"span\", {\"class\": \"prd_rating-average-text css-t70v7i\"})\n",
        "    list_rating_produk.append(rating.get_text() if rating else None)"
      ],
      "metadata": {
        "id": "7u2QosUrneOb"
      },
      "execution_count": null,
      "outputs": []
    },
    {
      "cell_type": "markdown",
      "source": [
        "## B. Data Preparation"
      ],
      "metadata": {
        "id": "3FUVB5xzqU-I"
      }
    },
    {
      "cell_type": "code",
      "source": [
        "# IMPORT PANDAS\n",
        "import pandas as pd\n",
        "\n",
        "# PEMBUATAN DATAFRAME\n",
        "df = pd.DataFrame()\n",
        "\n",
        "# IMPORT DATA DARI LIST KE DALAM DATAFRAME\n",
        "df['nama'] = list_nama_produk\n",
        "df['harga'] = list_harga_produk\n",
        "df['penjual'] = list_penjual_produk\n",
        "df['kota'] = list_kota_produk\n",
        "df['unit_terjual'] = list_banyak_produk\n",
        "df['rating'] = list_rating_produk"
      ],
      "metadata": {
        "id": "AQmEsegMVr-G"
      },
      "execution_count": null,
      "outputs": []
    },
    {
      "cell_type": "code",
      "source": [
        "df"
      ],
      "metadata": {
        "colab": {
          "base_uri": "https://localhost:8080/",
          "height": 424
        },
        "id": "Oj1E8tup5bYs",
        "outputId": "1e5146fc-6984-448f-8d71-57a57af70c69"
      },
      "execution_count": null,
      "outputs": [
        {
          "output_type": "execute_result",
          "data": {
            "text/plain": [
              "                                                  nama     harga  \\\n",
              "0    Gelifood Seblak Instan Kerupuk Mawar Bumbu Ken...  Rp13.000   \n",
              "1                        Kylafood Seblak Original Play  Rp15.050   \n",
              "2    Seblak Instan Ceu Nthien Khas Bandung Rasana N...  Rp17.000   \n",
              "3                      Kylafood Seblak Rempah Autentik  Rp10.000   \n",
              "4                   KERUPUK KRUPUK SEBLAK PEDAS 250 GR  Rp10.000   \n",
              "..                                                 ...       ...   \n",
              "345                      Seblak Instan Pedas Home Made   Rp3.500   \n",
              "346  Gelifood Seblak Instan Kerupuk Mawar Bumbu Ken...  Rp13.000   \n",
              "347  seblak kering pedas 250 gr/seblak kencur/kerup...   Rp9.999   \n",
              "348  keripik beling/kaca 1/2 kg. bumbu seblak daun ...  Rp25.999   \n",
              "349  Gelifood Combo 3pcs Seblak Instan Kerupuk Mawa...  Rp35.000   \n",
              "\n",
              "                      penjual               kota  unit_terjual rating  \n",
              "0                    Lidigeli         Kab. Garut  250+ terjual    4.8  \n",
              "1                    kylafood            Bandung  1rb+ terjual    4.9  \n",
              "2    Central Seblak Nusantara  Tangerang Selatan  2rb+ terjual    4.9  \n",
              "3            Kylafood Jakarta    Jakarta Selatan  100+ terjual    5.0  \n",
              "4             TOKO KUE MEISYA      Jakarta Pusat  100+ terjual    4.9  \n",
              "..                        ...                ...           ...    ...  \n",
              "345                the Dhecip  Tangerang Selatan  2rb+ terjual    4.8  \n",
              "346                  Lidigeli         Kab. Garut  250+ terjual    4.8  \n",
              "347                   aghniya  Tangerang Selatan  500+ terjual    4.8  \n",
              "348                   aghniya  Tangerang Selatan  250+ terjual    4.9  \n",
              "349                  Lidigeli         Kab. Garut  100+ terjual    4.9  \n",
              "\n",
              "[350 rows x 6 columns]"
            ],
            "text/html": [
              "\n",
              "  <div id=\"df-413ed608-50d0-4c0b-a0e5-a4f902cf01db\" class=\"colab-df-container\">\n",
              "    <div>\n",
              "<style scoped>\n",
              "    .dataframe tbody tr th:only-of-type {\n",
              "        vertical-align: middle;\n",
              "    }\n",
              "\n",
              "    .dataframe tbody tr th {\n",
              "        vertical-align: top;\n",
              "    }\n",
              "\n",
              "    .dataframe thead th {\n",
              "        text-align: right;\n",
              "    }\n",
              "</style>\n",
              "<table border=\"1\" class=\"dataframe\">\n",
              "  <thead>\n",
              "    <tr style=\"text-align: right;\">\n",
              "      <th></th>\n",
              "      <th>nama</th>\n",
              "      <th>harga</th>\n",
              "      <th>penjual</th>\n",
              "      <th>kota</th>\n",
              "      <th>unit_terjual</th>\n",
              "      <th>rating</th>\n",
              "    </tr>\n",
              "  </thead>\n",
              "  <tbody>\n",
              "    <tr>\n",
              "      <th>0</th>\n",
              "      <td>Gelifood Seblak Instan Kerupuk Mawar Bumbu Ken...</td>\n",
              "      <td>Rp13.000</td>\n",
              "      <td>Lidigeli</td>\n",
              "      <td>Kab. Garut</td>\n",
              "      <td>250+ terjual</td>\n",
              "      <td>4.8</td>\n",
              "    </tr>\n",
              "    <tr>\n",
              "      <th>1</th>\n",
              "      <td>Kylafood Seblak Original Play</td>\n",
              "      <td>Rp15.050</td>\n",
              "      <td>kylafood</td>\n",
              "      <td>Bandung</td>\n",
              "      <td>1rb+ terjual</td>\n",
              "      <td>4.9</td>\n",
              "    </tr>\n",
              "    <tr>\n",
              "      <th>2</th>\n",
              "      <td>Seblak Instan Ceu Nthien Khas Bandung Rasana N...</td>\n",
              "      <td>Rp17.000</td>\n",
              "      <td>Central Seblak Nusantara</td>\n",
              "      <td>Tangerang Selatan</td>\n",
              "      <td>2rb+ terjual</td>\n",
              "      <td>4.9</td>\n",
              "    </tr>\n",
              "    <tr>\n",
              "      <th>3</th>\n",
              "      <td>Kylafood Seblak Rempah Autentik</td>\n",
              "      <td>Rp10.000</td>\n",
              "      <td>Kylafood Jakarta</td>\n",
              "      <td>Jakarta Selatan</td>\n",
              "      <td>100+ terjual</td>\n",
              "      <td>5.0</td>\n",
              "    </tr>\n",
              "    <tr>\n",
              "      <th>4</th>\n",
              "      <td>KERUPUK KRUPUK SEBLAK PEDAS 250 GR</td>\n",
              "      <td>Rp10.000</td>\n",
              "      <td>TOKO KUE MEISYA</td>\n",
              "      <td>Jakarta Pusat</td>\n",
              "      <td>100+ terjual</td>\n",
              "      <td>4.9</td>\n",
              "    </tr>\n",
              "    <tr>\n",
              "      <th>...</th>\n",
              "      <td>...</td>\n",
              "      <td>...</td>\n",
              "      <td>...</td>\n",
              "      <td>...</td>\n",
              "      <td>...</td>\n",
              "      <td>...</td>\n",
              "    </tr>\n",
              "    <tr>\n",
              "      <th>345</th>\n",
              "      <td>Seblak Instan Pedas Home Made</td>\n",
              "      <td>Rp3.500</td>\n",
              "      <td>the Dhecip</td>\n",
              "      <td>Tangerang Selatan</td>\n",
              "      <td>2rb+ terjual</td>\n",
              "      <td>4.8</td>\n",
              "    </tr>\n",
              "    <tr>\n",
              "      <th>346</th>\n",
              "      <td>Gelifood Seblak Instan Kerupuk Mawar Bumbu Ken...</td>\n",
              "      <td>Rp13.000</td>\n",
              "      <td>Lidigeli</td>\n",
              "      <td>Kab. Garut</td>\n",
              "      <td>250+ terjual</td>\n",
              "      <td>4.8</td>\n",
              "    </tr>\n",
              "    <tr>\n",
              "      <th>347</th>\n",
              "      <td>seblak kering pedas 250 gr/seblak kencur/kerup...</td>\n",
              "      <td>Rp9.999</td>\n",
              "      <td>aghniya</td>\n",
              "      <td>Tangerang Selatan</td>\n",
              "      <td>500+ terjual</td>\n",
              "      <td>4.8</td>\n",
              "    </tr>\n",
              "    <tr>\n",
              "      <th>348</th>\n",
              "      <td>keripik beling/kaca 1/2 kg. bumbu seblak daun ...</td>\n",
              "      <td>Rp25.999</td>\n",
              "      <td>aghniya</td>\n",
              "      <td>Tangerang Selatan</td>\n",
              "      <td>250+ terjual</td>\n",
              "      <td>4.9</td>\n",
              "    </tr>\n",
              "    <tr>\n",
              "      <th>349</th>\n",
              "      <td>Gelifood Combo 3pcs Seblak Instan Kerupuk Mawa...</td>\n",
              "      <td>Rp35.000</td>\n",
              "      <td>Lidigeli</td>\n",
              "      <td>Kab. Garut</td>\n",
              "      <td>100+ terjual</td>\n",
              "      <td>4.9</td>\n",
              "    </tr>\n",
              "  </tbody>\n",
              "</table>\n",
              "<p>350 rows × 6 columns</p>\n",
              "</div>\n",
              "    <div class=\"colab-df-buttons\">\n",
              "\n",
              "  <div class=\"colab-df-container\">\n",
              "    <button class=\"colab-df-convert\" onclick=\"convertToInteractive('df-413ed608-50d0-4c0b-a0e5-a4f902cf01db')\"\n",
              "            title=\"Convert this dataframe to an interactive table.\"\n",
              "            style=\"display:none;\">\n",
              "\n",
              "  <svg xmlns=\"http://www.w3.org/2000/svg\" height=\"24px\" viewBox=\"0 -960 960 960\">\n",
              "    <path d=\"M120-120v-720h720v720H120Zm60-500h600v-160H180v160Zm220 220h160v-160H400v160Zm0 220h160v-160H400v160ZM180-400h160v-160H180v160Zm440 0h160v-160H620v160ZM180-180h160v-160H180v160Zm440 0h160v-160H620v160Z\"/>\n",
              "  </svg>\n",
              "    </button>\n",
              "\n",
              "  <style>\n",
              "    .colab-df-container {\n",
              "      display:flex;\n",
              "      gap: 12px;\n",
              "    }\n",
              "\n",
              "    .colab-df-convert {\n",
              "      background-color: #E8F0FE;\n",
              "      border: none;\n",
              "      border-radius: 50%;\n",
              "      cursor: pointer;\n",
              "      display: none;\n",
              "      fill: #1967D2;\n",
              "      height: 32px;\n",
              "      padding: 0 0 0 0;\n",
              "      width: 32px;\n",
              "    }\n",
              "\n",
              "    .colab-df-convert:hover {\n",
              "      background-color: #E2EBFA;\n",
              "      box-shadow: 0px 1px 2px rgba(60, 64, 67, 0.3), 0px 1px 3px 1px rgba(60, 64, 67, 0.15);\n",
              "      fill: #174EA6;\n",
              "    }\n",
              "\n",
              "    .colab-df-buttons div {\n",
              "      margin-bottom: 4px;\n",
              "    }\n",
              "\n",
              "    [theme=dark] .colab-df-convert {\n",
              "      background-color: #3B4455;\n",
              "      fill: #D2E3FC;\n",
              "    }\n",
              "\n",
              "    [theme=dark] .colab-df-convert:hover {\n",
              "      background-color: #434B5C;\n",
              "      box-shadow: 0px 1px 3px 1px rgba(0, 0, 0, 0.15);\n",
              "      filter: drop-shadow(0px 1px 2px rgba(0, 0, 0, 0.3));\n",
              "      fill: #FFFFFF;\n",
              "    }\n",
              "  </style>\n",
              "\n",
              "    <script>\n",
              "      const buttonEl =\n",
              "        document.querySelector('#df-413ed608-50d0-4c0b-a0e5-a4f902cf01db button.colab-df-convert');\n",
              "      buttonEl.style.display =\n",
              "        google.colab.kernel.accessAllowed ? 'block' : 'none';\n",
              "\n",
              "      async function convertToInteractive(key) {\n",
              "        const element = document.querySelector('#df-413ed608-50d0-4c0b-a0e5-a4f902cf01db');\n",
              "        const dataTable =\n",
              "          await google.colab.kernel.invokeFunction('convertToInteractive',\n",
              "                                                    [key], {});\n",
              "        if (!dataTable) return;\n",
              "\n",
              "        const docLinkHtml = 'Like what you see? Visit the ' +\n",
              "          '<a target=\"_blank\" href=https://colab.research.google.com/notebooks/data_table.ipynb>data table notebook</a>'\n",
              "          + ' to learn more about interactive tables.';\n",
              "        element.innerHTML = '';\n",
              "        dataTable['output_type'] = 'display_data';\n",
              "        await google.colab.output.renderOutput(dataTable, element);\n",
              "        const docLink = document.createElement('div');\n",
              "        docLink.innerHTML = docLinkHtml;\n",
              "        element.appendChild(docLink);\n",
              "      }\n",
              "    </script>\n",
              "  </div>\n",
              "\n",
              "\n",
              "<div id=\"df-a604cb70-e21b-4fd5-9199-ffc6651d3538\">\n",
              "  <button class=\"colab-df-quickchart\" onclick=\"quickchart('df-a604cb70-e21b-4fd5-9199-ffc6651d3538')\"\n",
              "            title=\"Suggest charts\"\n",
              "            style=\"display:none;\">\n",
              "\n",
              "<svg xmlns=\"http://www.w3.org/2000/svg\" height=\"24px\"viewBox=\"0 0 24 24\"\n",
              "     width=\"24px\">\n",
              "    <g>\n",
              "        <path d=\"M19 3H5c-1.1 0-2 .9-2 2v14c0 1.1.9 2 2 2h14c1.1 0 2-.9 2-2V5c0-1.1-.9-2-2-2zM9 17H7v-7h2v7zm4 0h-2V7h2v10zm4 0h-2v-4h2v4z\"/>\n",
              "    </g>\n",
              "</svg>\n",
              "  </button>\n",
              "\n",
              "<style>\n",
              "  .colab-df-quickchart {\n",
              "      --bg-color: #E8F0FE;\n",
              "      --fill-color: #1967D2;\n",
              "      --hover-bg-color: #E2EBFA;\n",
              "      --hover-fill-color: #174EA6;\n",
              "      --disabled-fill-color: #AAA;\n",
              "      --disabled-bg-color: #DDD;\n",
              "  }\n",
              "\n",
              "  [theme=dark] .colab-df-quickchart {\n",
              "      --bg-color: #3B4455;\n",
              "      --fill-color: #D2E3FC;\n",
              "      --hover-bg-color: #434B5C;\n",
              "      --hover-fill-color: #FFFFFF;\n",
              "      --disabled-bg-color: #3B4455;\n",
              "      --disabled-fill-color: #666;\n",
              "  }\n",
              "\n",
              "  .colab-df-quickchart {\n",
              "    background-color: var(--bg-color);\n",
              "    border: none;\n",
              "    border-radius: 50%;\n",
              "    cursor: pointer;\n",
              "    display: none;\n",
              "    fill: var(--fill-color);\n",
              "    height: 32px;\n",
              "    padding: 0;\n",
              "    width: 32px;\n",
              "  }\n",
              "\n",
              "  .colab-df-quickchart:hover {\n",
              "    background-color: var(--hover-bg-color);\n",
              "    box-shadow: 0 1px 2px rgba(60, 64, 67, 0.3), 0 1px 3px 1px rgba(60, 64, 67, 0.15);\n",
              "    fill: var(--button-hover-fill-color);\n",
              "  }\n",
              "\n",
              "  .colab-df-quickchart-complete:disabled,\n",
              "  .colab-df-quickchart-complete:disabled:hover {\n",
              "    background-color: var(--disabled-bg-color);\n",
              "    fill: var(--disabled-fill-color);\n",
              "    box-shadow: none;\n",
              "  }\n",
              "\n",
              "  .colab-df-spinner {\n",
              "    border: 2px solid var(--fill-color);\n",
              "    border-color: transparent;\n",
              "    border-bottom-color: var(--fill-color);\n",
              "    animation:\n",
              "      spin 1s steps(1) infinite;\n",
              "  }\n",
              "\n",
              "  @keyframes spin {\n",
              "    0% {\n",
              "      border-color: transparent;\n",
              "      border-bottom-color: var(--fill-color);\n",
              "      border-left-color: var(--fill-color);\n",
              "    }\n",
              "    20% {\n",
              "      border-color: transparent;\n",
              "      border-left-color: var(--fill-color);\n",
              "      border-top-color: var(--fill-color);\n",
              "    }\n",
              "    30% {\n",
              "      border-color: transparent;\n",
              "      border-left-color: var(--fill-color);\n",
              "      border-top-color: var(--fill-color);\n",
              "      border-right-color: var(--fill-color);\n",
              "    }\n",
              "    40% {\n",
              "      border-color: transparent;\n",
              "      border-right-color: var(--fill-color);\n",
              "      border-top-color: var(--fill-color);\n",
              "    }\n",
              "    60% {\n",
              "      border-color: transparent;\n",
              "      border-right-color: var(--fill-color);\n",
              "    }\n",
              "    80% {\n",
              "      border-color: transparent;\n",
              "      border-right-color: var(--fill-color);\n",
              "      border-bottom-color: var(--fill-color);\n",
              "    }\n",
              "    90% {\n",
              "      border-color: transparent;\n",
              "      border-bottom-color: var(--fill-color);\n",
              "    }\n",
              "  }\n",
              "</style>\n",
              "\n",
              "  <script>\n",
              "    async function quickchart(key) {\n",
              "      const quickchartButtonEl =\n",
              "        document.querySelector('#' + key + ' button');\n",
              "      quickchartButtonEl.disabled = true;  // To prevent multiple clicks.\n",
              "      quickchartButtonEl.classList.add('colab-df-spinner');\n",
              "      try {\n",
              "        const charts = await google.colab.kernel.invokeFunction(\n",
              "            'suggestCharts', [key], {});\n",
              "      } catch (error) {\n",
              "        console.error('Error during call to suggestCharts:', error);\n",
              "      }\n",
              "      quickchartButtonEl.classList.remove('colab-df-spinner');\n",
              "      quickchartButtonEl.classList.add('colab-df-quickchart-complete');\n",
              "    }\n",
              "    (() => {\n",
              "      let quickchartButtonEl =\n",
              "        document.querySelector('#df-a604cb70-e21b-4fd5-9199-ffc6651d3538 button');\n",
              "      quickchartButtonEl.style.display =\n",
              "        google.colab.kernel.accessAllowed ? 'block' : 'none';\n",
              "    })();\n",
              "  </script>\n",
              "</div>\n",
              "    </div>\n",
              "  </div>\n"
            ]
          },
          "metadata": {},
          "execution_count": 100
        }
      ]
    },
    {
      "cell_type": "code",
      "source": [
        "df.info()"
      ],
      "metadata": {
        "colab": {
          "base_uri": "https://localhost:8080/"
        },
        "id": "1KW0njdfz-8p",
        "outputId": "bd24b4e7-2885-459a-8b41-337aa4007ba7"
      },
      "execution_count": null,
      "outputs": [
        {
          "output_type": "stream",
          "name": "stdout",
          "text": [
            "<class 'pandas.core.frame.DataFrame'>\n",
            "RangeIndex: 350 entries, 0 to 349\n",
            "Data columns (total 6 columns):\n",
            " #   Column        Non-Null Count  Dtype \n",
            "---  ------        --------------  ----- \n",
            " 0   nama          350 non-null    object\n",
            " 1   harga         350 non-null    object\n",
            " 2   penjual       350 non-null    object\n",
            " 3   kota          350 non-null    object\n",
            " 4   unit_terjual  343 non-null    object\n",
            " 5   rating        339 non-null    object\n",
            "dtypes: object(6)\n",
            "memory usage: 16.5+ KB\n"
          ]
        }
      ]
    },
    {
      "cell_type": "markdown",
      "source": [
        "INSIGHT: terdapat 350 data non-null. Langkah selanjutnya adalah membersihkan data."
      ],
      "metadata": {
        "id": "RURVePy2z9X0"
      }
    },
    {
      "cell_type": "code",
      "source": [
        "# MENGGUNAKAN REPLACE UNTUK MENGHILANGKAN \"Rp\" dan \".\" DARI KOLOM <harga>\n",
        "df['harga'] = df['harga'].str.replace(\"Rp\", \"\").str.replace(\".\",\"\")\n",
        "\n",
        "# MENGGUNAKAN REPLACE UNTUK MENGHILANGKAN \"+ terjual\" , \"rb\", dan \" terjual\" DARI KOLOM unit_terjual\n",
        "df['unit_terjual'] = df['unit_terjual'].str.replace(\"\\+ terjual\",\"\").str.replace(\"rb\",\"000\").str.replace(\" terjual\",\"\")\n",
        "\n",
        "# MENGUBAH DATA TYPE MENJADI NUMERIKAL\n",
        "df['harga'] = pd.to_numeric(df['harga'])\n",
        "df['unit_terjual'] = pd.to_numeric(df['unit_terjual'])\n",
        "df['rating'] = pd.to_numeric(df['rating'])"
      ],
      "metadata": {
        "id": "CdNAxdfG3USt"
      },
      "execution_count": null,
      "outputs": []
    },
    {
      "cell_type": "markdown",
      "source": [
        "Sekarang tipe data yang ada adalah:"
      ],
      "metadata": {
        "id": "aD95Ekuq6lu3"
      }
    },
    {
      "cell_type": "code",
      "source": [
        "df.info()"
      ],
      "metadata": {
        "colab": {
          "base_uri": "https://localhost:8080/"
        },
        "id": "P0mJp1Kg3_P4",
        "outputId": "b715e7ff-1ec4-4d7d-8960-d61e1321c8aa"
      },
      "execution_count": null,
      "outputs": [
        {
          "output_type": "stream",
          "name": "stdout",
          "text": [
            "<class 'pandas.core.frame.DataFrame'>\n",
            "RangeIndex: 350 entries, 0 to 349\n",
            "Data columns (total 6 columns):\n",
            " #   Column        Non-Null Count  Dtype  \n",
            "---  ------        --------------  -----  \n",
            " 0   nama          350 non-null    object \n",
            " 1   harga         350 non-null    int64  \n",
            " 2   penjual       350 non-null    object \n",
            " 3   kota          350 non-null    object \n",
            " 4   unit_terjual  343 non-null    float64\n",
            " 5   rating        339 non-null    float64\n",
            "dtypes: float64(2), int64(1), object(3)\n",
            "memory usage: 16.5+ KB\n"
          ]
        }
      ]
    },
    {
      "cell_type": "markdown",
      "source": [
        "Karena sudah sesuai, dapat dilanjutkan ke tahap selanjutnya!"
      ],
      "metadata": {
        "id": "eaGebc8_6vig"
      }
    },
    {
      "cell_type": "code",
      "source": [
        "df.to_csv(\"seblak_tokopedia.csv\", index = False)"
      ],
      "metadata": {
        "id": "hbreoynXjgIu"
      },
      "execution_count": null,
      "outputs": []
    },
    {
      "cell_type": "code",
      "source": [
        "import pandas as pd\n",
        "\n",
        "df = pd.read_csv(\"/content/seblak_tokopedia.csv\")"
      ],
      "metadata": {
        "id": "-_biv_g8q6rX"
      },
      "execution_count": 6,
      "outputs": []
    },
    {
      "cell_type": "markdown",
      "source": [
        "## C. Business Understanding/Problem Statement"
      ],
      "metadata": {
        "id": "0Pubh4_56y-R"
      }
    },
    {
      "cell_type": "markdown",
      "source": [
        "Problem Statement:\n",
        "\n",
        "Tujuan dari pengamatan ini adalah untuk mengetahui dan menganalisis korelasi antara harga produk seblak di Tokopedia dengan lokasi penjualan, dan rating menggunakan SMART framework:"
      ],
      "metadata": {
        "id": "8K7GyS317hrW"
      }
    },
    {
      "cell_type": "markdown",
      "source": [
        "**Specific**: Mengetahui dan menganalisis korelasi harga produk seblak di Tokopedia terhadap lokasi penjualan dan rating.\n",
        "\n",
        "**Measurable**: Mendapat insight tentang seberapa berpengaruhnya variabel harga\n",
        " terhadap rating terhadap produk seblak.\n",
        "\n",
        "**Achievable**: Menggunakan data yang didapatkan melalui scraping dari Tokopedia.\n",
        "\n",
        "**Relevant**: Mengetahui range harga yang meningkatkan kemungkinan pembelian akan berguna kedepannya untuk dijadikan referensi dalam memberikan harga produk.\n",
        "\n",
        "**Time-Bound**: Analisis akan dilakukan dalam 3 hari."
      ],
      "metadata": {
        "id": "G1Y9d1nL7i_v"
      }
    },
    {
      "cell_type": "markdown",
      "source": [
        "## D. Analysis"
      ],
      "metadata": {
        "id": "gkKxtLSmhFV6"
      }
    },
    {
      "cell_type": "markdown",
      "source": [
        "### Untuk mengawali analisis kita akan mencari tau beberapa nilai krusial seperti rata-rata, median, dan modus dari kolom yang relevan."
      ],
      "metadata": {
        "id": "ucz5_Bk2hISZ"
      }
    },
    {
      "cell_type": "markdown",
      "source": [
        "1. Data harga:"
      ],
      "metadata": {
        "id": "3lEU5EgDt87p"
      }
    },
    {
      "cell_type": "code",
      "source": [
        "print(f\"Rata-rata harga : {df['harga'].mean()}\")\n",
        "print(f\"Median harga : {df['harga'].median()}\")\n",
        "print(f\"Modus harga : {df['harga'].mode()[0]}\")\n",
        "print(f\"Standar deviasi harga : {df['harga'].std()}\")"
      ],
      "metadata": {
        "id": "nxkQ68Ip9j8y",
        "colab": {
          "base_uri": "https://localhost:8080/"
        },
        "outputId": "b4f5c768-5267-4cf5-88bf-6b907affb163"
      },
      "execution_count": 14,
      "outputs": [
        {
          "output_type": "stream",
          "name": "stdout",
          "text": [
            "Rata-rata harga : 16966.47142857143\n",
            "Median harga : 13000.0\n",
            "Modus harga : 25000\n",
            "Standar deviasi harga : 15907.213765458222\n"
          ]
        }
      ]
    },
    {
      "cell_type": "code",
      "source": [
        "print(f\"Skewness harga: {df['harga'].skew()}\")"
      ],
      "metadata": {
        "colab": {
          "base_uri": "https://localhost:8080/"
        },
        "id": "4PrYBChaKQdT",
        "outputId": "838d2936-0ad3-4536-948f-3cd19f50cf3e"
      },
      "execution_count": 9,
      "outputs": [
        {
          "output_type": "stream",
          "name": "stdout",
          "text": [
            "Skewness harga: 3.997388803443054\n"
          ]
        }
      ]
    },
    {
      "cell_type": "markdown",
      "source": [
        "Karena data harga memiliki skewness diatas 1, maka dapat disimpulkan data memiliki distribusi positif skew atau mencondong ke kanan."
      ],
      "metadata": {
        "id": "0UR05JnMKep7"
      }
    },
    {
      "cell_type": "code",
      "source": [
        "print(f\"Kurtosis harga: {df['harga'].kurtosis()}\")"
      ],
      "metadata": {
        "colab": {
          "base_uri": "https://localhost:8080/"
        },
        "id": "QI16ZRCVKR1K",
        "outputId": "930e9498-8cd5-42e1-dfe2-1754ecb0d5a1"
      },
      "execution_count": 10,
      "outputs": [
        {
          "output_type": "stream",
          "name": "stdout",
          "text": [
            "Kurtosis harga: 29.455604730580966\n"
          ]
        }
      ]
    },
    {
      "cell_type": "markdown",
      "source": [
        "Karena data harga memiliki kurtosis diatas 0, maka tipe kurtosis nya adalah Leptokurtic."
      ],
      "metadata": {
        "id": "W-vXp5_IKZri"
      }
    },
    {
      "cell_type": "markdown",
      "source": [
        "2. Data rating:"
      ],
      "metadata": {
        "id": "trdWY9QluCYi"
      }
    },
    {
      "cell_type": "code",
      "source": [
        "print(f\"Rata-rata rating : {df['rating'].mean()}\")\n",
        "print(f\"Median rating : {df['rating'].median()}\")\n",
        "print(f\"Modus rating : {df['rating'].mode()[0]}\")\n",
        "print(f\"Standar deviasi rating  : {df['rating'].std()}\")"
      ],
      "metadata": {
        "colab": {
          "base_uri": "https://localhost:8080/"
        },
        "id": "zoDaTv2duFOp",
        "outputId": "6fb4216b-3b9f-489c-d1f9-d92b8db0a598"
      },
      "execution_count": 16,
      "outputs": [
        {
          "output_type": "stream",
          "name": "stdout",
          "text": [
            "Rata-rata rating : 4.8855457227138634\n",
            "Median rating : 4.9\n",
            "Modus rating : 4.9\n",
            "Standar deviasi rating  : 0.09698371182249955\n"
          ]
        }
      ]
    },
    {
      "cell_type": "code",
      "source": [
        "print(f\"Skewness rating: {df['rating'].skew()}\")"
      ],
      "metadata": {
        "colab": {
          "base_uri": "https://localhost:8080/"
        },
        "id": "mg2Zfq0cuKjp",
        "outputId": "d3c1e750-0d5e-4ed4-a2db-941a3563f628"
      },
      "execution_count": 11,
      "outputs": [
        {
          "output_type": "stream",
          "name": "stdout",
          "text": [
            "Skewness rating: -1.7034350710344979\n"
          ]
        }
      ]
    },
    {
      "cell_type": "markdown",
      "source": [
        "Karena data rating memiliki skewness diatas -1, maka dapat disimpulkan data memiliki distribusi positif skew atau mencondong ke kiri."
      ],
      "metadata": {
        "id": "ryPd75GFvFZk"
      }
    },
    {
      "cell_type": "code",
      "source": [
        "print(f\"Kurtosis rating: {df['rating'].kurtosis()}\")"
      ],
      "metadata": {
        "colab": {
          "base_uri": "https://localhost:8080/"
        },
        "id": "7Xwsmu-5uOzq",
        "outputId": "fe608ef8-b586-4e98-888a-01d3e4e21f12"
      },
      "execution_count": 12,
      "outputs": [
        {
          "output_type": "stream",
          "name": "stdout",
          "text": [
            "Kurtosis rating: 9.333766351013523\n"
          ]
        }
      ]
    },
    {
      "cell_type": "markdown",
      "source": [
        "Karena data rating memiliki kurtosis diatas 0, maka tipe kurtosis nya adalah Leptokurtic."
      ],
      "metadata": {
        "id": "DJ4L0pQUvRn0"
      }
    },
    {
      "cell_type": "markdown",
      "source": [
        "3. Data unit terjual:"
      ],
      "metadata": {
        "id": "HPpEYov7uSdC"
      }
    },
    {
      "cell_type": "code",
      "source": [
        "print(f\"Rata-rata unit terjual : {df['unit_terjual'].mean()}\")\n",
        "print(f\"Median unit terjual : {df['unit_terjual'].median()}\")\n",
        "print(f\"Modus unit terjual : {df['unit_terjual'].mode()[0]}\")\n",
        "print(f\"Standar deviasi unit terjual  : {df['unit_terjual'].std()}\")"
      ],
      "metadata": {
        "colab": {
          "base_uri": "https://localhost:8080/"
        },
        "id": "R8mRaTu9uwe_",
        "outputId": "76066e5b-8a20-4abf-e7a8-cf9519639c56"
      },
      "execution_count": 18,
      "outputs": [
        {
          "output_type": "stream",
          "name": "stdout",
          "text": [
            "Rata-rata unit terjual : 1042.5597667638483\n",
            "Median unit terjual : 250.0\n",
            "Modus unit terjual : 250.0\n",
            "Standar deviasi unit terjual  : 2417.286900762666\n"
          ]
        }
      ]
    },
    {
      "cell_type": "code",
      "source": [
        "print(f\"Skewness unit terjual: {df['unit_terjual'].skew()}\")"
      ],
      "metadata": {
        "colab": {
          "base_uri": "https://localhost:8080/"
        },
        "id": "tlSmi9GIu5s-",
        "outputId": "884bff8a-0e9d-41fe-c367-cfb4bf9743ca"
      },
      "execution_count": 19,
      "outputs": [
        {
          "output_type": "stream",
          "name": "stdout",
          "text": [
            "Skewness unit terjual: 3.1684804420092947\n"
          ]
        }
      ]
    },
    {
      "cell_type": "markdown",
      "source": [
        "Karena data unit terjual memiliki skewness diatas 1, maka dapat disimpulkan data memiliki distribusi positif skew atau mencondong ke kanan."
      ],
      "metadata": {
        "id": "wq2dUDMfvVCB"
      }
    },
    {
      "cell_type": "code",
      "source": [
        "print(f\"Kurtosis unit terjual: {df['unit_terjual'].kurtosis()}\")"
      ],
      "metadata": {
        "colab": {
          "base_uri": "https://localhost:8080/"
        },
        "id": "Ie2wjaigu6fF",
        "outputId": "ba5ee5ae-cd5a-4013-a370-4755c25a3a9f"
      },
      "execution_count": 20,
      "outputs": [
        {
          "output_type": "stream",
          "name": "stdout",
          "text": [
            "Kurtosis unit terjual: 8.890265745789009\n"
          ]
        }
      ]
    },
    {
      "cell_type": "markdown",
      "source": [
        "Karena data unit terjual memiliki kurtosis diatas 0, maka tipe kurtosis nya adalah Leptokurtic."
      ],
      "metadata": {
        "id": "4L7O_m0lvXPD"
      }
    },
    {
      "cell_type": "markdown",
      "source": [
        "### Sekarang, kita akan mencari tahu berapa potensi maksimal dan minimal dari penjualan seblak per bulan di Tokopedia."
      ],
      "metadata": {
        "id": "i20Ob0EELIdT"
      }
    },
    {
      "cell_type": "code",
      "source": [
        "q1 = df['harga'].quantile(0.25)\n",
        "q3 = df['harga'].quantile(0.75)\n",
        "iqr = q3 - q1\n",
        "\n",
        "# Batasan menggunakan Tukey's Rule\n",
        "up_bound = q3 + 1.5 * iqr\n",
        "low_bound = q1 - 1.5 * iqr\n",
        "\n",
        "print(f'Upper Boundary: {up_bound:.2f}')\n",
        "print(f'Lower Boundary: {low_bound:.2f}')\n",
        "\n",
        "# Pengecekan outlier\n",
        "outliers = df[(df['harga'] > up_bound) | (df['harga'] < low_bound)]\n",
        "print(f'Jumlah outliers: {len(outliers)}')"
      ],
      "metadata": {
        "colab": {
          "base_uri": "https://localhost:8080/"
        },
        "id": "euLiQOvpLJB4",
        "outputId": "dc2c826e-b333-4877-a66f-91889dd9edb5"
      },
      "execution_count": null,
      "outputs": [
        {
          "output_type": "stream",
          "name": "stdout",
          "text": [
            "Upper Boundary: 51250.00\n",
            "Lower Boundary: -18750.00\n",
            "Jumlah outliers: 7\n"
          ]
        }
      ]
    },
    {
      "cell_type": "markdown",
      "source": [
        "Asumsi: Data terdistribusi normal, informasi produk terjual merupakan penjualan produk per bulan, dan confidence level 95%."
      ],
      "metadata": {
        "id": "iVMK_sB3LkwE"
      }
    },
    {
      "cell_type": "code",
      "source": [
        "df['pendapatan'] = df['harga']*df['unit_terjual']"
      ],
      "metadata": {
        "id": "4mSOwaJ4MdSz"
      },
      "execution_count": null,
      "outputs": []
    },
    {
      "cell_type": "code",
      "source": [
        "# Mencari rata-rata dan standar deviasi pendapatan\n",
        "mean_pendapatan = df['pendapatan'].mean()\n",
        "std_dev_pendapatan = df['pendapatan'].std()\n",
        "print(f'mean pendapatan: {mean_pendapatan}')\n",
        "print(f'std deviasi pendapatan: {std_dev_pendapatan}')"
      ],
      "metadata": {
        "colab": {
          "base_uri": "https://localhost:8080/"
        },
        "id": "KTsYqGRjMyXg",
        "outputId": "188b0164-3878-4eca-84d9-cb1ec4bfd0b5"
      },
      "execution_count": null,
      "outputs": [
        {
          "output_type": "stream",
          "name": "stdout",
          "text": [
            "mean pendapatan: 6760155.099125365\n",
            "std deviasi pendapatan: 11837343.595173921\n"
          ]
        }
      ]
    },
    {
      "cell_type": "code",
      "source": [
        "# IMPORT MODULE NUMPY DAN STATS DARI SCIPY\n",
        "import numpy as np\n",
        "from scipy import stats"
      ],
      "metadata": {
        "id": "zRqge0LgMzB9"
      },
      "execution_count": 23,
      "outputs": []
    },
    {
      "cell_type": "markdown",
      "source": [
        "`stats.norm.interval(conf_level,loc=average,scale=\"The_width_of th_ distribution_from_the_average\")`\n",
        "\n",
        "The width of the distribution from the average = `std/sqrt(N)`"
      ],
      "metadata": {
        "id": "Rjf8wOJAO5Au"
      }
    },
    {
      "cell_type": "code",
      "source": [
        "std = std_dev_pendapatan\n",
        "N = len(df['pendapatan'])\n",
        "low, up = stats.norm.interval(0.95,loc=df['pendapatan'].mean(),scale=std/np.sqrt(N))\n",
        "print('Lower Limit:',low)\n",
        "print('Upper Limit:',up)"
      ],
      "metadata": {
        "colab": {
          "base_uri": "https://localhost:8080/"
        },
        "id": "olY7ChXnN76r",
        "outputId": "dbbbc65b-5609-4266-ce43-2b1ad906a733"
      },
      "execution_count": null,
      "outputs": [
        {
          "output_type": "stream",
          "name": "stdout",
          "text": [
            "Lower Limit: 5520021.932407474\n",
            "Upper Limit: 8000288.265843255\n"
          ]
        }
      ]
    },
    {
      "cell_type": "markdown",
      "source": [
        "###**Insight: Maka potensi pendapatan minimun penjualan seblak dalam sebulan Rp 5,5 - 8 jt.**"
      ],
      "metadata": {
        "id": "GvQUAbLbPY9O"
      }
    },
    {
      "cell_type": "markdown",
      "source": [
        "### Sekarang, memacu pada SMART framework diawal, saatnya mencari tahu apakah ada korelasi antara harga dengan lokasi penjualan.\n"
      ],
      "metadata": {
        "id": "q1cX6pHjPlCx"
      }
    },
    {
      "cell_type": "code",
      "source": [
        "# Membuat dataframe khusus untuk daerah Jabodetabek.\n",
        "daerah_jabodetabek = ['Jakarta', 'Tangerang', 'Bogor', 'Depok', 'Bekasi']\n",
        "harga_jabodetabek = df[df['kota'].isin(daerah_jabodetabek)]['harga']\n",
        "# ~ Dapat digunakan untuk mencari harga diluar Jabodetabek.\n",
        "harga_luar = df[~df['kota'].isin(daerah_jabodetabek)]['harga']\n",
        "\n",
        "df_jabodetabek = pd.DataFrame(harga_jabodetabek)\n",
        "df_luar = pd.DataFrame(harga_luar)"
      ],
      "metadata": {
        "id": "hewDP3stPgq8"
      },
      "execution_count": 25,
      "outputs": []
    },
    {
      "cell_type": "markdown",
      "source": [
        "*Two sample test* akan digunakan untuk membandingkan harga di Jabodetabek dengan harga diluar Jabodetabek, dikaremakan data yang akan dibandingkan adalah dua sampel."
      ],
      "metadata": {
        "id": "UoDH_i3GU0Bp"
      }
    },
    {
      "cell_type": "code",
      "source": [
        "print(f'Rata-rata harga seblak di Jabodetabek: {df_jabodetabek.mean()[\"harga\"]:.2f}')\n",
        "print(f'Rata-rata harga seblak di luar Jabodetabek: {df_luar.mean()[\"harga\"]:.2f}')"
      ],
      "metadata": {
        "colab": {
          "base_uri": "https://localhost:8080/"
        },
        "id": "UQ-zYWysXLkk",
        "outputId": "43448cee-670c-4026-a75a-1b4f1bc38020"
      },
      "execution_count": null,
      "outputs": [
        {
          "output_type": "stream",
          "name": "stdout",
          "text": [
            "Rata-rata harga seblak di Jabodetabek: 19696.50\n",
            "Rata-rata harga seblak di luar Jabodetabek: 16424.21\n"
          ]
        }
      ]
    },
    {
      "cell_type": "markdown",
      "source": [
        "$H_0$: Rata-rata pendapatan penjualan seblak di Jabodetabek == rata-rata pendapatan penjualan seblak di luar Jabodetabek\n",
        "\n",
        "$H_1$: Rata-rata pendapatan penjualan seblak di Jabodetabek != rata-rata pendapatan penjualan seblak di luar Jabodetabek"
      ],
      "metadata": {
        "id": "g-o77tWbY6pU"
      }
    },
    {
      "cell_type": "code",
      "source": [
        "t_stat, p_val = stats.ttest_ind(df_jabodetabek['harga'],df_luar['harga'])\n",
        "print('T-Statistic:',t_stat)\n",
        "print('P-value:',p_val)"
      ],
      "metadata": {
        "colab": {
          "base_uri": "https://localhost:8080/"
        },
        "id": "XtZ-Z5lrUqnQ",
        "outputId": "a2a77789-a885-4d09-a549-821de4df7003"
      },
      "execution_count": 26,
      "outputs": [
        {
          "output_type": "stream",
          "name": "stdout",
          "text": [
            "T-Statistic: 1.4331260296200368\n",
            "P-value: 0.15271958003691344\n"
          ]
        }
      ]
    },
    {
      "cell_type": "markdown",
      "source": [
        "Dikarenakan P-value > 0.05, maka H0 tidak ditolak, atau dapat dibilang bahwa tidak ada perbedaan signifikan dalam harga barang antara Jabodetabek dan di luar Jabodetabek."
      ],
      "metadata": {
        "id": "lpf6HGTAWFu2"
      }
    },
    {
      "cell_type": "markdown",
      "source": [
        "### Selanjutnya kita akan mencari tahu apakah ada korelasi dari harga terhadap rating produk.\n",
        "Untuk itu kita akan menggunakan Chi-Squared test.\n",
        "\n",
        "$H_0$: Tidak hubungan harga dengan rating produk.\n",
        "\n",
        "$H_1$: Ada hubungan harga dengan rating produk."
      ],
      "metadata": {
        "id": "dx814LSdWcrP"
      }
    },
    {
      "cell_type": "code",
      "source": [
        "#Contingency Table\n",
        "contingency_table = pd.crosstab(df['harga'],df['rating'])"
      ],
      "metadata": {
        "id": "YERSwjYZWUTD"
      },
      "execution_count": null,
      "outputs": []
    },
    {
      "cell_type": "code",
      "source": [
        "res = stats.chi2_contingency(contingency_table)\n",
        "print(\"P-value:\",res.pvalue)\n",
        "if res.pvalue < 0.05:\n",
        "  print(\"Dependen.\")"
      ],
      "metadata": {
        "colab": {
          "base_uri": "https://localhost:8080/"
        },
        "id": "-R7JJrZAaNv8",
        "outputId": "8b19ffa8-744b-4881-f0b6-5f87520e9ec9"
      },
      "execution_count": null,
      "outputs": [
        {
          "output_type": "stream",
          "name": "stdout",
          "text": [
            "P-value: 1.264833028201808e-139\n",
            "Dependen.\n"
          ]
        }
      ]
    },
    {
      "cell_type": "markdown",
      "source": [
        "P-value < 0.05 oleh karena itu H0 ditulak, yang berarti ada hubungan antara harga dengan rating produk (dependen)"
      ],
      "metadata": {
        "id": "ARCdlYaTbF9P"
      }
    },
    {
      "cell_type": "markdown",
      "source": [
        "## E. Conclusion"
      ],
      "metadata": {
        "id": "9fFoiGT6bbKi"
      }
    },
    {
      "cell_type": "markdown",
      "source": [
        "1. Rata-rata harga seblak adalah Rp 16.966.\n",
        "2. Rata-rata pendapatan potensial tiap bulan penjualan seblak online adalah Rp 6.760.155, dengan minimum Rp 5.520.021 dan maksimum Rp 8.000.288.\n",
        "3. Tidak ada perbedaan signifikan terhadap harga seblak di Jabodetabek dan diluar Jabodetabek.\n",
        "4. Ada hubungan antara harga dengan rating produk."
      ],
      "metadata": {
        "id": "Sstgk3KAbp2D"
      }
    }
  ]
}