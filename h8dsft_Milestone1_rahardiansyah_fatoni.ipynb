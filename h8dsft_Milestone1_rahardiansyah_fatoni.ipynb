{
  "nbformat": 4,
  "nbformat_minor": 0,
  "metadata": {
    "colab": {
      "provenance": [],
      "authorship_tag": "ABX9TyOUjYzpNArcW6T2VOItoVIp",
      "include_colab_link": true
    },
    "kernelspec": {
      "name": "python3",
      "display_name": "Python 3"
    },
    "language_info": {
      "name": "python"
    }
  },
  "cells": [
    {
      "cell_type": "markdown",
      "metadata": {
        "id": "view-in-github",
        "colab_type": "text"
      },
      "source": [
        "<a href=\"https://colab.research.google.com/github/rahardianfatoni/GC/blob/main/h8dsft_Milestone1_rahardiansyah_fatoni.ipynb\" target=\"_parent\"><img src=\"https://colab.research.google.com/assets/colab-badge.svg\" alt=\"Open In Colab\"/></a>"
      ]
    },
    {
      "cell_type": "markdown",
      "source": [
        "# **Milestone 1**\n",
        "## Fatalities in the Israeli-Palestinian Conflict from 2000 - 2023\n",
        "Nama: Rahardiansyah Fatoni\n",
        "\n",
        "Batch: RMT-027"
      ],
      "metadata": {
        "id": "uVssQZnfIXI4"
      }
    },
    {
      "cell_type": "markdown",
      "source": [
        "## 1. Identifying Problems with SMART Framework"
      ],
      "metadata": {
        "id": "txKhV4eZS8Jt"
      }
    },
    {
      "cell_type": "markdown",
      "source": [
        "- **Specific**: The analysis will include `demographic`, `geospatial`, and `fatality trend`.\n",
        "- **Measurable**: Gained insight on correlation between variables mentioned earlier.\n",
        "- **Achievable**: The dataset contains 11124 entries that is going to help wth the analysis.\n",
        "- **Relevant**: An analysis is now more relevant than ever to understand the current ongoing conflict.\n",
        "- **Time-bound**: Data analysis will be done in 2 days.\n",
        "\n",
        "**Problem Statement**: To identify the details of fatalities happening in the Israeli-Palestinian conflict from 2000 - 2023 (prior to October 2023).\n",
        "\n",
        "**5W + 1H Questions**:\n",
        "1. **What** is the mostly used weapon in the conflict?\n",
        "1. **Where** is the district region with the most conflict?\n",
        "3. **Who** is the the most affected by the conflict based on age and gender?\n",
        "4. **Who** is the most responsible for the fatalities based on citizenship?\n",
        "5. **When** is there spikes or increase in fatalities in the conflict?\n"
      ],
      "metadata": {
        "id": "CyI5Yqi0TETs"
      }
    },
    {
      "cell_type": "markdown",
      "source": [
        "## 2. Data Loading\n",
        "Sumber: https://www.kaggle.com/datasets/willianoliveiragibin/fatalities-in-the-israeli-palestinian/data"
      ],
      "metadata": {
        "id": "ZjOTyAkiIggH"
      }
    },
    {
      "cell_type": "code",
      "execution_count": 48,
      "metadata": {
        "id": "yRMjNKx3HV35"
      },
      "outputs": [],
      "source": [
        "# IMPORT PANDAS\n",
        "import pandas as pd"
      ]
    },
    {
      "cell_type": "code",
      "source": [
        "df = pd.read_csv('https://raw.githubusercontent.com/rahardianfatoni/datasets/main/fatalities_isr_pse_conflict_2000_to_2023.csv')"
      ],
      "metadata": {
        "id": "IcOZDIYUJq7M"
      },
      "execution_count": 49,
      "outputs": []
    },
    {
      "cell_type": "code",
      "source": [
        "# PREVIEWING DATASET\n",
        "df"
      ],
      "metadata": {
        "colab": {
          "base_uri": "https://localhost:8080/",
          "height": 982
        },
        "id": "_50rp0erJz-F",
        "outputId": "d6f4aaac-1e51-4f0a-e5b1-322b264877e9"
      },
      "execution_count": 50,
      "outputs": [
        {
          "output_type": "execute_result",
          "data": {
            "text/plain": [
              "                                              name date_of_event   age  \\\n",
              "0      'Abd a-Rahman Suleiman Muhammad Abu Daghash    2023-09-24  32.0   \n",
              "1             Usayed Farhan Muhammad 'Ali Abu 'Ali    2023-09-24  21.0   \n",
              "2                 'Abdallah 'Imad Sa'ed Abu Hassan    2023-09-22  16.0   \n",
              "3                 Durgham Muhammad Yihya al-Akhras    2023-09-20  19.0   \n",
              "4                     Raafat 'Omar Ahmad Khamaisah    2023-09-19  15.0   \n",
              "...                                            ...           ...   ...   \n",
              "11119                             Binyamin Herling    2000-10-19  64.0   \n",
              "11120                  Farid Musa 'Issa a-Nesasreh    2000-10-17  28.0   \n",
              "11121                             Hillel Lieberman    2000-10-07  36.0   \n",
              "11122                    Fahed Mustafa 'Odeh Baker    2000-10-07  21.0   \n",
              "11123                            Wichlav Zalsevsky    2000-10-02  24.0   \n",
              "\n",
              "       citizenship     event_location event_location_district  \\\n",
              "0      Palestinian     Nur Shams R.C.                 Tulkarm   \n",
              "1      Palestinian     Nur Shams R.C.                 Tulkarm   \n",
              "2      Palestinian           Kfar Dan                   Jenin   \n",
              "3      Palestinian  'Aqbat Jaber R.C.                 Jericho   \n",
              "4      Palestinian         Jenin R.C.                   Jenin   \n",
              "...            ...                ...                     ...   \n",
              "11119      Israeli             Nablus                  Nablus   \n",
              "11120  Palestinian         Beit Furik                  Nablus   \n",
              "11121      Israeli             Nablus                  Nablus   \n",
              "11122  Palestinian              Bidya                  Salfit   \n",
              "11123      Israeli              Masha                  Salfit   \n",
              "\n",
              "      event_location_region date_of_death gender took_part_in_the_hostilities  \\\n",
              "0                 West Bank    2023-09-24      M                          NaN   \n",
              "1                 West Bank    2023-09-24      M                          NaN   \n",
              "2                 West Bank    2023-09-22      M                          NaN   \n",
              "3                 West Bank    2023-09-20      M                          NaN   \n",
              "4                 West Bank    2023-09-19      M                          NaN   \n",
              "...                     ...           ...    ...                          ...   \n",
              "11119             West Bank    2000-10-19      M                     Israelis   \n",
              "11120             West Bank    2000-10-17      M                      Unknown   \n",
              "11121             West Bank    2000-10-07      M                     Israelis   \n",
              "11122             West Bank    2000-10-07      M                           No   \n",
              "11123             West Bank    2000-10-02      M                     Israelis   \n",
              "\n",
              "      place_of_residence place_of_residence_district type_of_injury  \\\n",
              "0         Nur Shams R.C.                     Tulkarm        gunfire   \n",
              "1         Nur Shams R.C.                     Tulkarm        gunfire   \n",
              "2               al-Yamun                       Jenin        gunfire   \n",
              "3      'Aqbat Jaber R.C.                     Jericho        gunfire   \n",
              "4                  Jenin                       Jenin        gunfire   \n",
              "...                  ...                         ...            ...   \n",
              "11119            Kedumim                     Tulkarm        gunfire   \n",
              "11120         Beit Furik                      Nablus        gunfire   \n",
              "11121         Elon Moreh                      Nablus        gunfire   \n",
              "11122              Bidya                      Salfit        gunfire   \n",
              "11123             Ashdod                      Israel        gunfire   \n",
              "\n",
              "            ammunition                killed_by  \\\n",
              "0      live ammunition  Israeli security forces   \n",
              "1      live ammunition  Israeli security forces   \n",
              "2      live ammunition  Israeli security forces   \n",
              "3      live ammunition  Israeli security forces   \n",
              "4      live ammunition  Israeli security forces   \n",
              "...                ...                      ...   \n",
              "11119  live ammunition    Palestinian civilians   \n",
              "11120              NaN        Israeli civilians   \n",
              "11121  live ammunition    Palestinian civilians   \n",
              "11122              NaN        Israeli civilians   \n",
              "11123  live ammunition    Palestinian civilians   \n",
              "\n",
              "                                                   notes  \n",
              "0      Fatally shot by Israeli forces while standing ...  \n",
              "1      Fatally shot by Israeli forces while trying to...  \n",
              "2      Fatally shot by soldiers while firing at them ...  \n",
              "3      Shot in the head by Israeli forces while throw...  \n",
              "4      Wounded by soldiers’ gunfire after running awa...  \n",
              "...                                                  ...  \n",
              "11119                  Killed while hiking on Mt. Eival.  \n",
              "11120  Killed by a settler from Itamar while harvesti...  \n",
              "11121     His body was found a day after he disappeared.  \n",
              "11122   Killed by settlers who rioted in Biddya village.  \n",
              "11123                                                NaN  \n",
              "\n",
              "[11124 rows x 16 columns]"
            ],
            "text/html": [
              "\n",
              "  <div id=\"df-f5abacd3-dbcb-4157-951c-e683e1ce5675\" class=\"colab-df-container\">\n",
              "    <div>\n",
              "<style scoped>\n",
              "    .dataframe tbody tr th:only-of-type {\n",
              "        vertical-align: middle;\n",
              "    }\n",
              "\n",
              "    .dataframe tbody tr th {\n",
              "        vertical-align: top;\n",
              "    }\n",
              "\n",
              "    .dataframe thead th {\n",
              "        text-align: right;\n",
              "    }\n",
              "</style>\n",
              "<table border=\"1\" class=\"dataframe\">\n",
              "  <thead>\n",
              "    <tr style=\"text-align: right;\">\n",
              "      <th></th>\n",
              "      <th>name</th>\n",
              "      <th>date_of_event</th>\n",
              "      <th>age</th>\n",
              "      <th>citizenship</th>\n",
              "      <th>event_location</th>\n",
              "      <th>event_location_district</th>\n",
              "      <th>event_location_region</th>\n",
              "      <th>date_of_death</th>\n",
              "      <th>gender</th>\n",
              "      <th>took_part_in_the_hostilities</th>\n",
              "      <th>place_of_residence</th>\n",
              "      <th>place_of_residence_district</th>\n",
              "      <th>type_of_injury</th>\n",
              "      <th>ammunition</th>\n",
              "      <th>killed_by</th>\n",
              "      <th>notes</th>\n",
              "    </tr>\n",
              "  </thead>\n",
              "  <tbody>\n",
              "    <tr>\n",
              "      <th>0</th>\n",
              "      <td>'Abd a-Rahman Suleiman Muhammad Abu Daghash</td>\n",
              "      <td>2023-09-24</td>\n",
              "      <td>32.0</td>\n",
              "      <td>Palestinian</td>\n",
              "      <td>Nur Shams R.C.</td>\n",
              "      <td>Tulkarm</td>\n",
              "      <td>West Bank</td>\n",
              "      <td>2023-09-24</td>\n",
              "      <td>M</td>\n",
              "      <td>NaN</td>\n",
              "      <td>Nur Shams R.C.</td>\n",
              "      <td>Tulkarm</td>\n",
              "      <td>gunfire</td>\n",
              "      <td>live ammunition</td>\n",
              "      <td>Israeli security forces</td>\n",
              "      <td>Fatally shot by Israeli forces while standing ...</td>\n",
              "    </tr>\n",
              "    <tr>\n",
              "      <th>1</th>\n",
              "      <td>Usayed Farhan Muhammad 'Ali Abu 'Ali</td>\n",
              "      <td>2023-09-24</td>\n",
              "      <td>21.0</td>\n",
              "      <td>Palestinian</td>\n",
              "      <td>Nur Shams R.C.</td>\n",
              "      <td>Tulkarm</td>\n",
              "      <td>West Bank</td>\n",
              "      <td>2023-09-24</td>\n",
              "      <td>M</td>\n",
              "      <td>NaN</td>\n",
              "      <td>Nur Shams R.C.</td>\n",
              "      <td>Tulkarm</td>\n",
              "      <td>gunfire</td>\n",
              "      <td>live ammunition</td>\n",
              "      <td>Israeli security forces</td>\n",
              "      <td>Fatally shot by Israeli forces while trying to...</td>\n",
              "    </tr>\n",
              "    <tr>\n",
              "      <th>2</th>\n",
              "      <td>'Abdallah 'Imad Sa'ed Abu Hassan</td>\n",
              "      <td>2023-09-22</td>\n",
              "      <td>16.0</td>\n",
              "      <td>Palestinian</td>\n",
              "      <td>Kfar Dan</td>\n",
              "      <td>Jenin</td>\n",
              "      <td>West Bank</td>\n",
              "      <td>2023-09-22</td>\n",
              "      <td>M</td>\n",
              "      <td>NaN</td>\n",
              "      <td>al-Yamun</td>\n",
              "      <td>Jenin</td>\n",
              "      <td>gunfire</td>\n",
              "      <td>live ammunition</td>\n",
              "      <td>Israeli security forces</td>\n",
              "      <td>Fatally shot by soldiers while firing at them ...</td>\n",
              "    </tr>\n",
              "    <tr>\n",
              "      <th>3</th>\n",
              "      <td>Durgham Muhammad Yihya al-Akhras</td>\n",
              "      <td>2023-09-20</td>\n",
              "      <td>19.0</td>\n",
              "      <td>Palestinian</td>\n",
              "      <td>'Aqbat Jaber R.C.</td>\n",
              "      <td>Jericho</td>\n",
              "      <td>West Bank</td>\n",
              "      <td>2023-09-20</td>\n",
              "      <td>M</td>\n",
              "      <td>NaN</td>\n",
              "      <td>'Aqbat Jaber R.C.</td>\n",
              "      <td>Jericho</td>\n",
              "      <td>gunfire</td>\n",
              "      <td>live ammunition</td>\n",
              "      <td>Israeli security forces</td>\n",
              "      <td>Shot in the head by Israeli forces while throw...</td>\n",
              "    </tr>\n",
              "    <tr>\n",
              "      <th>4</th>\n",
              "      <td>Raafat 'Omar Ahmad Khamaisah</td>\n",
              "      <td>2023-09-19</td>\n",
              "      <td>15.0</td>\n",
              "      <td>Palestinian</td>\n",
              "      <td>Jenin R.C.</td>\n",
              "      <td>Jenin</td>\n",
              "      <td>West Bank</td>\n",
              "      <td>2023-09-19</td>\n",
              "      <td>M</td>\n",
              "      <td>NaN</td>\n",
              "      <td>Jenin</td>\n",
              "      <td>Jenin</td>\n",
              "      <td>gunfire</td>\n",
              "      <td>live ammunition</td>\n",
              "      <td>Israeli security forces</td>\n",
              "      <td>Wounded by soldiers’ gunfire after running awa...</td>\n",
              "    </tr>\n",
              "    <tr>\n",
              "      <th>...</th>\n",
              "      <td>...</td>\n",
              "      <td>...</td>\n",
              "      <td>...</td>\n",
              "      <td>...</td>\n",
              "      <td>...</td>\n",
              "      <td>...</td>\n",
              "      <td>...</td>\n",
              "      <td>...</td>\n",
              "      <td>...</td>\n",
              "      <td>...</td>\n",
              "      <td>...</td>\n",
              "      <td>...</td>\n",
              "      <td>...</td>\n",
              "      <td>...</td>\n",
              "      <td>...</td>\n",
              "      <td>...</td>\n",
              "    </tr>\n",
              "    <tr>\n",
              "      <th>11119</th>\n",
              "      <td>Binyamin Herling</td>\n",
              "      <td>2000-10-19</td>\n",
              "      <td>64.0</td>\n",
              "      <td>Israeli</td>\n",
              "      <td>Nablus</td>\n",
              "      <td>Nablus</td>\n",
              "      <td>West Bank</td>\n",
              "      <td>2000-10-19</td>\n",
              "      <td>M</td>\n",
              "      <td>Israelis</td>\n",
              "      <td>Kedumim</td>\n",
              "      <td>Tulkarm</td>\n",
              "      <td>gunfire</td>\n",
              "      <td>live ammunition</td>\n",
              "      <td>Palestinian civilians</td>\n",
              "      <td>Killed while hiking on Mt. Eival.</td>\n",
              "    </tr>\n",
              "    <tr>\n",
              "      <th>11120</th>\n",
              "      <td>Farid Musa 'Issa a-Nesasreh</td>\n",
              "      <td>2000-10-17</td>\n",
              "      <td>28.0</td>\n",
              "      <td>Palestinian</td>\n",
              "      <td>Beit Furik</td>\n",
              "      <td>Nablus</td>\n",
              "      <td>West Bank</td>\n",
              "      <td>2000-10-17</td>\n",
              "      <td>M</td>\n",
              "      <td>Unknown</td>\n",
              "      <td>Beit Furik</td>\n",
              "      <td>Nablus</td>\n",
              "      <td>gunfire</td>\n",
              "      <td>NaN</td>\n",
              "      <td>Israeli civilians</td>\n",
              "      <td>Killed by a settler from Itamar while harvesti...</td>\n",
              "    </tr>\n",
              "    <tr>\n",
              "      <th>11121</th>\n",
              "      <td>Hillel Lieberman</td>\n",
              "      <td>2000-10-07</td>\n",
              "      <td>36.0</td>\n",
              "      <td>Israeli</td>\n",
              "      <td>Nablus</td>\n",
              "      <td>Nablus</td>\n",
              "      <td>West Bank</td>\n",
              "      <td>2000-10-07</td>\n",
              "      <td>M</td>\n",
              "      <td>Israelis</td>\n",
              "      <td>Elon Moreh</td>\n",
              "      <td>Nablus</td>\n",
              "      <td>gunfire</td>\n",
              "      <td>live ammunition</td>\n",
              "      <td>Palestinian civilians</td>\n",
              "      <td>His body was found a day after he disappeared.</td>\n",
              "    </tr>\n",
              "    <tr>\n",
              "      <th>11122</th>\n",
              "      <td>Fahed Mustafa 'Odeh Baker</td>\n",
              "      <td>2000-10-07</td>\n",
              "      <td>21.0</td>\n",
              "      <td>Palestinian</td>\n",
              "      <td>Bidya</td>\n",
              "      <td>Salfit</td>\n",
              "      <td>West Bank</td>\n",
              "      <td>2000-10-07</td>\n",
              "      <td>M</td>\n",
              "      <td>No</td>\n",
              "      <td>Bidya</td>\n",
              "      <td>Salfit</td>\n",
              "      <td>gunfire</td>\n",
              "      <td>NaN</td>\n",
              "      <td>Israeli civilians</td>\n",
              "      <td>Killed by settlers who rioted in Biddya village.</td>\n",
              "    </tr>\n",
              "    <tr>\n",
              "      <th>11123</th>\n",
              "      <td>Wichlav Zalsevsky</td>\n",
              "      <td>2000-10-02</td>\n",
              "      <td>24.0</td>\n",
              "      <td>Israeli</td>\n",
              "      <td>Masha</td>\n",
              "      <td>Salfit</td>\n",
              "      <td>West Bank</td>\n",
              "      <td>2000-10-02</td>\n",
              "      <td>M</td>\n",
              "      <td>Israelis</td>\n",
              "      <td>Ashdod</td>\n",
              "      <td>Israel</td>\n",
              "      <td>gunfire</td>\n",
              "      <td>live ammunition</td>\n",
              "      <td>Palestinian civilians</td>\n",
              "      <td>NaN</td>\n",
              "    </tr>\n",
              "  </tbody>\n",
              "</table>\n",
              "<p>11124 rows × 16 columns</p>\n",
              "</div>\n",
              "    <div class=\"colab-df-buttons\">\n",
              "\n",
              "  <div class=\"colab-df-container\">\n",
              "    <button class=\"colab-df-convert\" onclick=\"convertToInteractive('df-f5abacd3-dbcb-4157-951c-e683e1ce5675')\"\n",
              "            title=\"Convert this dataframe to an interactive table.\"\n",
              "            style=\"display:none;\">\n",
              "\n",
              "  <svg xmlns=\"http://www.w3.org/2000/svg\" height=\"24px\" viewBox=\"0 -960 960 960\">\n",
              "    <path d=\"M120-120v-720h720v720H120Zm60-500h600v-160H180v160Zm220 220h160v-160H400v160Zm0 220h160v-160H400v160ZM180-400h160v-160H180v160Zm440 0h160v-160H620v160ZM180-180h160v-160H180v160Zm440 0h160v-160H620v160Z\"/>\n",
              "  </svg>\n",
              "    </button>\n",
              "\n",
              "  <style>\n",
              "    .colab-df-container {\n",
              "      display:flex;\n",
              "      gap: 12px;\n",
              "    }\n",
              "\n",
              "    .colab-df-convert {\n",
              "      background-color: #E8F0FE;\n",
              "      border: none;\n",
              "      border-radius: 50%;\n",
              "      cursor: pointer;\n",
              "      display: none;\n",
              "      fill: #1967D2;\n",
              "      height: 32px;\n",
              "      padding: 0 0 0 0;\n",
              "      width: 32px;\n",
              "    }\n",
              "\n",
              "    .colab-df-convert:hover {\n",
              "      background-color: #E2EBFA;\n",
              "      box-shadow: 0px 1px 2px rgba(60, 64, 67, 0.3), 0px 1px 3px 1px rgba(60, 64, 67, 0.15);\n",
              "      fill: #174EA6;\n",
              "    }\n",
              "\n",
              "    .colab-df-buttons div {\n",
              "      margin-bottom: 4px;\n",
              "    }\n",
              "\n",
              "    [theme=dark] .colab-df-convert {\n",
              "      background-color: #3B4455;\n",
              "      fill: #D2E3FC;\n",
              "    }\n",
              "\n",
              "    [theme=dark] .colab-df-convert:hover {\n",
              "      background-color: #434B5C;\n",
              "      box-shadow: 0px 1px 3px 1px rgba(0, 0, 0, 0.15);\n",
              "      filter: drop-shadow(0px 1px 2px rgba(0, 0, 0, 0.3));\n",
              "      fill: #FFFFFF;\n",
              "    }\n",
              "  </style>\n",
              "\n",
              "    <script>\n",
              "      const buttonEl =\n",
              "        document.querySelector('#df-f5abacd3-dbcb-4157-951c-e683e1ce5675 button.colab-df-convert');\n",
              "      buttonEl.style.display =\n",
              "        google.colab.kernel.accessAllowed ? 'block' : 'none';\n",
              "\n",
              "      async function convertToInteractive(key) {\n",
              "        const element = document.querySelector('#df-f5abacd3-dbcb-4157-951c-e683e1ce5675');\n",
              "        const dataTable =\n",
              "          await google.colab.kernel.invokeFunction('convertToInteractive',\n",
              "                                                    [key], {});\n",
              "        if (!dataTable) return;\n",
              "\n",
              "        const docLinkHtml = 'Like what you see? Visit the ' +\n",
              "          '<a target=\"_blank\" href=https://colab.research.google.com/notebooks/data_table.ipynb>data table notebook</a>'\n",
              "          + ' to learn more about interactive tables.';\n",
              "        element.innerHTML = '';\n",
              "        dataTable['output_type'] = 'display_data';\n",
              "        await google.colab.output.renderOutput(dataTable, element);\n",
              "        const docLink = document.createElement('div');\n",
              "        docLink.innerHTML = docLinkHtml;\n",
              "        element.appendChild(docLink);\n",
              "      }\n",
              "    </script>\n",
              "  </div>\n",
              "\n",
              "\n",
              "<div id=\"df-f2bfe141-9bae-4c67-8c6c-541b19e15dca\">\n",
              "  <button class=\"colab-df-quickchart\" onclick=\"quickchart('df-f2bfe141-9bae-4c67-8c6c-541b19e15dca')\"\n",
              "            title=\"Suggest charts\"\n",
              "            style=\"display:none;\">\n",
              "\n",
              "<svg xmlns=\"http://www.w3.org/2000/svg\" height=\"24px\"viewBox=\"0 0 24 24\"\n",
              "     width=\"24px\">\n",
              "    <g>\n",
              "        <path d=\"M19 3H5c-1.1 0-2 .9-2 2v14c0 1.1.9 2 2 2h14c1.1 0 2-.9 2-2V5c0-1.1-.9-2-2-2zM9 17H7v-7h2v7zm4 0h-2V7h2v10zm4 0h-2v-4h2v4z\"/>\n",
              "    </g>\n",
              "</svg>\n",
              "  </button>\n",
              "\n",
              "<style>\n",
              "  .colab-df-quickchart {\n",
              "      --bg-color: #E8F0FE;\n",
              "      --fill-color: #1967D2;\n",
              "      --hover-bg-color: #E2EBFA;\n",
              "      --hover-fill-color: #174EA6;\n",
              "      --disabled-fill-color: #AAA;\n",
              "      --disabled-bg-color: #DDD;\n",
              "  }\n",
              "\n",
              "  [theme=dark] .colab-df-quickchart {\n",
              "      --bg-color: #3B4455;\n",
              "      --fill-color: #D2E3FC;\n",
              "      --hover-bg-color: #434B5C;\n",
              "      --hover-fill-color: #FFFFFF;\n",
              "      --disabled-bg-color: #3B4455;\n",
              "      --disabled-fill-color: #666;\n",
              "  }\n",
              "\n",
              "  .colab-df-quickchart {\n",
              "    background-color: var(--bg-color);\n",
              "    border: none;\n",
              "    border-radius: 50%;\n",
              "    cursor: pointer;\n",
              "    display: none;\n",
              "    fill: var(--fill-color);\n",
              "    height: 32px;\n",
              "    padding: 0;\n",
              "    width: 32px;\n",
              "  }\n",
              "\n",
              "  .colab-df-quickchart:hover {\n",
              "    background-color: var(--hover-bg-color);\n",
              "    box-shadow: 0 1px 2px rgba(60, 64, 67, 0.3), 0 1px 3px 1px rgba(60, 64, 67, 0.15);\n",
              "    fill: var(--button-hover-fill-color);\n",
              "  }\n",
              "\n",
              "  .colab-df-quickchart-complete:disabled,\n",
              "  .colab-df-quickchart-complete:disabled:hover {\n",
              "    background-color: var(--disabled-bg-color);\n",
              "    fill: var(--disabled-fill-color);\n",
              "    box-shadow: none;\n",
              "  }\n",
              "\n",
              "  .colab-df-spinner {\n",
              "    border: 2px solid var(--fill-color);\n",
              "    border-color: transparent;\n",
              "    border-bottom-color: var(--fill-color);\n",
              "    animation:\n",
              "      spin 1s steps(1) infinite;\n",
              "  }\n",
              "\n",
              "  @keyframes spin {\n",
              "    0% {\n",
              "      border-color: transparent;\n",
              "      border-bottom-color: var(--fill-color);\n",
              "      border-left-color: var(--fill-color);\n",
              "    }\n",
              "    20% {\n",
              "      border-color: transparent;\n",
              "      border-left-color: var(--fill-color);\n",
              "      border-top-color: var(--fill-color);\n",
              "    }\n",
              "    30% {\n",
              "      border-color: transparent;\n",
              "      border-left-color: var(--fill-color);\n",
              "      border-top-color: var(--fill-color);\n",
              "      border-right-color: var(--fill-color);\n",
              "    }\n",
              "    40% {\n",
              "      border-color: transparent;\n",
              "      border-right-color: var(--fill-color);\n",
              "      border-top-color: var(--fill-color);\n",
              "    }\n",
              "    60% {\n",
              "      border-color: transparent;\n",
              "      border-right-color: var(--fill-color);\n",
              "    }\n",
              "    80% {\n",
              "      border-color: transparent;\n",
              "      border-right-color: var(--fill-color);\n",
              "      border-bottom-color: var(--fill-color);\n",
              "    }\n",
              "    90% {\n",
              "      border-color: transparent;\n",
              "      border-bottom-color: var(--fill-color);\n",
              "    }\n",
              "  }\n",
              "</style>\n",
              "\n",
              "  <script>\n",
              "    async function quickchart(key) {\n",
              "      const quickchartButtonEl =\n",
              "        document.querySelector('#' + key + ' button');\n",
              "      quickchartButtonEl.disabled = true;  // To prevent multiple clicks.\n",
              "      quickchartButtonEl.classList.add('colab-df-spinner');\n",
              "      try {\n",
              "        const charts = await google.colab.kernel.invokeFunction(\n",
              "            'suggestCharts', [key], {});\n",
              "      } catch (error) {\n",
              "        console.error('Error during call to suggestCharts:', error);\n",
              "      }\n",
              "      quickchartButtonEl.classList.remove('colab-df-spinner');\n",
              "      quickchartButtonEl.classList.add('colab-df-quickchart-complete');\n",
              "    }\n",
              "    (() => {\n",
              "      let quickchartButtonEl =\n",
              "        document.querySelector('#df-f2bfe141-9bae-4c67-8c6c-541b19e15dca button');\n",
              "      quickchartButtonEl.style.display =\n",
              "        google.colab.kernel.accessAllowed ? 'block' : 'none';\n",
              "    })();\n",
              "  </script>\n",
              "</div>\n",
              "    </div>\n",
              "  </div>\n"
            ]
          },
          "metadata": {},
          "execution_count": 50
        }
      ]
    },
    {
      "cell_type": "markdown",
      "source": [
        "## 3. Data Filtering and Cleaning"
      ],
      "metadata": {
        "id": "vsGlWSiwlrzN"
      }
    },
    {
      "cell_type": "code",
      "source": [
        "df.info()"
      ],
      "metadata": {
        "colab": {
          "base_uri": "https://localhost:8080/"
        },
        "id": "QS-O2-tJJ3B0",
        "outputId": "c12253b6-dfe4-4c3d-a0c4-9d053595b0a0"
      },
      "execution_count": 51,
      "outputs": [
        {
          "output_type": "stream",
          "name": "stdout",
          "text": [
            "<class 'pandas.core.frame.DataFrame'>\n",
            "RangeIndex: 11124 entries, 0 to 11123\n",
            "Data columns (total 16 columns):\n",
            " #   Column                        Non-Null Count  Dtype  \n",
            "---  ------                        --------------  -----  \n",
            " 0   name                          11124 non-null  object \n",
            " 1   date_of_event                 11124 non-null  object \n",
            " 2   age                           10995 non-null  float64\n",
            " 3   citizenship                   11124 non-null  object \n",
            " 4   event_location                11124 non-null  object \n",
            " 5   event_location_district       11124 non-null  object \n",
            " 6   event_location_region         11124 non-null  object \n",
            " 7   date_of_death                 11124 non-null  object \n",
            " 8   gender                        11104 non-null  object \n",
            " 9   took_part_in_the_hostilities  9694 non-null   object \n",
            " 10  place_of_residence            11056 non-null  object \n",
            " 11  place_of_residence_district   11056 non-null  object \n",
            " 12  type_of_injury                10833 non-null  object \n",
            " 13  ammunition                    5871 non-null   object \n",
            " 14  killed_by                     11124 non-null  object \n",
            " 15  notes                         10844 non-null  object \n",
            "dtypes: float64(1), object(15)\n",
            "memory usage: 1.4+ MB\n"
          ]
        }
      ]
    },
    {
      "cell_type": "markdown",
      "source": [
        "The columns that will be used for analysis:\n",
        "`date_of_event`, `age`, `citizenship`, `event_location`(s), `gender`, `ammunition`, and `killed_by`. Hence, to minimize cluttering, we will drop the unused columns."
      ],
      "metadata": {
        "id": "IMnqejOWlIcK"
      }
    },
    {
      "cell_type": "code",
      "source": [
        "df.drop(columns=['name','date_of_death','took_part_in_the_hostilities','place_of_residence','place_of_residence_district','notes'], inplace = True)"
      ],
      "metadata": {
        "id": "ORpNbNSbll5e"
      },
      "execution_count": 52,
      "outputs": []
    },
    {
      "cell_type": "code",
      "source": [
        "# PREVIEW FILTERED DATA\n",
        "df"
      ],
      "metadata": {
        "colab": {
          "base_uri": "https://localhost:8080/",
          "height": 424
        },
        "id": "s6lLT8PFrIte",
        "outputId": "9b46a506-c54a-4e35-d56e-f332ec6810ab"
      },
      "execution_count": 53,
      "outputs": [
        {
          "output_type": "execute_result",
          "data": {
            "text/plain": [
              "      date_of_event   age  citizenship     event_location  \\\n",
              "0        2023-09-24  32.0  Palestinian     Nur Shams R.C.   \n",
              "1        2023-09-24  21.0  Palestinian     Nur Shams R.C.   \n",
              "2        2023-09-22  16.0  Palestinian           Kfar Dan   \n",
              "3        2023-09-20  19.0  Palestinian  'Aqbat Jaber R.C.   \n",
              "4        2023-09-19  15.0  Palestinian         Jenin R.C.   \n",
              "...             ...   ...          ...                ...   \n",
              "11119    2000-10-19  64.0      Israeli             Nablus   \n",
              "11120    2000-10-17  28.0  Palestinian         Beit Furik   \n",
              "11121    2000-10-07  36.0      Israeli             Nablus   \n",
              "11122    2000-10-07  21.0  Palestinian              Bidya   \n",
              "11123    2000-10-02  24.0      Israeli              Masha   \n",
              "\n",
              "      event_location_district event_location_region gender type_of_injury  \\\n",
              "0                     Tulkarm             West Bank      M        gunfire   \n",
              "1                     Tulkarm             West Bank      M        gunfire   \n",
              "2                       Jenin             West Bank      M        gunfire   \n",
              "3                     Jericho             West Bank      M        gunfire   \n",
              "4                       Jenin             West Bank      M        gunfire   \n",
              "...                       ...                   ...    ...            ...   \n",
              "11119                  Nablus             West Bank      M        gunfire   \n",
              "11120                  Nablus             West Bank      M        gunfire   \n",
              "11121                  Nablus             West Bank      M        gunfire   \n",
              "11122                  Salfit             West Bank      M        gunfire   \n",
              "11123                  Salfit             West Bank      M        gunfire   \n",
              "\n",
              "            ammunition                killed_by  \n",
              "0      live ammunition  Israeli security forces  \n",
              "1      live ammunition  Israeli security forces  \n",
              "2      live ammunition  Israeli security forces  \n",
              "3      live ammunition  Israeli security forces  \n",
              "4      live ammunition  Israeli security forces  \n",
              "...                ...                      ...  \n",
              "11119  live ammunition    Palestinian civilians  \n",
              "11120              NaN        Israeli civilians  \n",
              "11121  live ammunition    Palestinian civilians  \n",
              "11122              NaN        Israeli civilians  \n",
              "11123  live ammunition    Palestinian civilians  \n",
              "\n",
              "[11124 rows x 10 columns]"
            ],
            "text/html": [
              "\n",
              "  <div id=\"df-6eb2d128-89b3-493f-8b27-c7edf1670523\" class=\"colab-df-container\">\n",
              "    <div>\n",
              "<style scoped>\n",
              "    .dataframe tbody tr th:only-of-type {\n",
              "        vertical-align: middle;\n",
              "    }\n",
              "\n",
              "    .dataframe tbody tr th {\n",
              "        vertical-align: top;\n",
              "    }\n",
              "\n",
              "    .dataframe thead th {\n",
              "        text-align: right;\n",
              "    }\n",
              "</style>\n",
              "<table border=\"1\" class=\"dataframe\">\n",
              "  <thead>\n",
              "    <tr style=\"text-align: right;\">\n",
              "      <th></th>\n",
              "      <th>date_of_event</th>\n",
              "      <th>age</th>\n",
              "      <th>citizenship</th>\n",
              "      <th>event_location</th>\n",
              "      <th>event_location_district</th>\n",
              "      <th>event_location_region</th>\n",
              "      <th>gender</th>\n",
              "      <th>type_of_injury</th>\n",
              "      <th>ammunition</th>\n",
              "      <th>killed_by</th>\n",
              "    </tr>\n",
              "  </thead>\n",
              "  <tbody>\n",
              "    <tr>\n",
              "      <th>0</th>\n",
              "      <td>2023-09-24</td>\n",
              "      <td>32.0</td>\n",
              "      <td>Palestinian</td>\n",
              "      <td>Nur Shams R.C.</td>\n",
              "      <td>Tulkarm</td>\n",
              "      <td>West Bank</td>\n",
              "      <td>M</td>\n",
              "      <td>gunfire</td>\n",
              "      <td>live ammunition</td>\n",
              "      <td>Israeli security forces</td>\n",
              "    </tr>\n",
              "    <tr>\n",
              "      <th>1</th>\n",
              "      <td>2023-09-24</td>\n",
              "      <td>21.0</td>\n",
              "      <td>Palestinian</td>\n",
              "      <td>Nur Shams R.C.</td>\n",
              "      <td>Tulkarm</td>\n",
              "      <td>West Bank</td>\n",
              "      <td>M</td>\n",
              "      <td>gunfire</td>\n",
              "      <td>live ammunition</td>\n",
              "      <td>Israeli security forces</td>\n",
              "    </tr>\n",
              "    <tr>\n",
              "      <th>2</th>\n",
              "      <td>2023-09-22</td>\n",
              "      <td>16.0</td>\n",
              "      <td>Palestinian</td>\n",
              "      <td>Kfar Dan</td>\n",
              "      <td>Jenin</td>\n",
              "      <td>West Bank</td>\n",
              "      <td>M</td>\n",
              "      <td>gunfire</td>\n",
              "      <td>live ammunition</td>\n",
              "      <td>Israeli security forces</td>\n",
              "    </tr>\n",
              "    <tr>\n",
              "      <th>3</th>\n",
              "      <td>2023-09-20</td>\n",
              "      <td>19.0</td>\n",
              "      <td>Palestinian</td>\n",
              "      <td>'Aqbat Jaber R.C.</td>\n",
              "      <td>Jericho</td>\n",
              "      <td>West Bank</td>\n",
              "      <td>M</td>\n",
              "      <td>gunfire</td>\n",
              "      <td>live ammunition</td>\n",
              "      <td>Israeli security forces</td>\n",
              "    </tr>\n",
              "    <tr>\n",
              "      <th>4</th>\n",
              "      <td>2023-09-19</td>\n",
              "      <td>15.0</td>\n",
              "      <td>Palestinian</td>\n",
              "      <td>Jenin R.C.</td>\n",
              "      <td>Jenin</td>\n",
              "      <td>West Bank</td>\n",
              "      <td>M</td>\n",
              "      <td>gunfire</td>\n",
              "      <td>live ammunition</td>\n",
              "      <td>Israeli security forces</td>\n",
              "    </tr>\n",
              "    <tr>\n",
              "      <th>...</th>\n",
              "      <td>...</td>\n",
              "      <td>...</td>\n",
              "      <td>...</td>\n",
              "      <td>...</td>\n",
              "      <td>...</td>\n",
              "      <td>...</td>\n",
              "      <td>...</td>\n",
              "      <td>...</td>\n",
              "      <td>...</td>\n",
              "      <td>...</td>\n",
              "    </tr>\n",
              "    <tr>\n",
              "      <th>11119</th>\n",
              "      <td>2000-10-19</td>\n",
              "      <td>64.0</td>\n",
              "      <td>Israeli</td>\n",
              "      <td>Nablus</td>\n",
              "      <td>Nablus</td>\n",
              "      <td>West Bank</td>\n",
              "      <td>M</td>\n",
              "      <td>gunfire</td>\n",
              "      <td>live ammunition</td>\n",
              "      <td>Palestinian civilians</td>\n",
              "    </tr>\n",
              "    <tr>\n",
              "      <th>11120</th>\n",
              "      <td>2000-10-17</td>\n",
              "      <td>28.0</td>\n",
              "      <td>Palestinian</td>\n",
              "      <td>Beit Furik</td>\n",
              "      <td>Nablus</td>\n",
              "      <td>West Bank</td>\n",
              "      <td>M</td>\n",
              "      <td>gunfire</td>\n",
              "      <td>NaN</td>\n",
              "      <td>Israeli civilians</td>\n",
              "    </tr>\n",
              "    <tr>\n",
              "      <th>11121</th>\n",
              "      <td>2000-10-07</td>\n",
              "      <td>36.0</td>\n",
              "      <td>Israeli</td>\n",
              "      <td>Nablus</td>\n",
              "      <td>Nablus</td>\n",
              "      <td>West Bank</td>\n",
              "      <td>M</td>\n",
              "      <td>gunfire</td>\n",
              "      <td>live ammunition</td>\n",
              "      <td>Palestinian civilians</td>\n",
              "    </tr>\n",
              "    <tr>\n",
              "      <th>11122</th>\n",
              "      <td>2000-10-07</td>\n",
              "      <td>21.0</td>\n",
              "      <td>Palestinian</td>\n",
              "      <td>Bidya</td>\n",
              "      <td>Salfit</td>\n",
              "      <td>West Bank</td>\n",
              "      <td>M</td>\n",
              "      <td>gunfire</td>\n",
              "      <td>NaN</td>\n",
              "      <td>Israeli civilians</td>\n",
              "    </tr>\n",
              "    <tr>\n",
              "      <th>11123</th>\n",
              "      <td>2000-10-02</td>\n",
              "      <td>24.0</td>\n",
              "      <td>Israeli</td>\n",
              "      <td>Masha</td>\n",
              "      <td>Salfit</td>\n",
              "      <td>West Bank</td>\n",
              "      <td>M</td>\n",
              "      <td>gunfire</td>\n",
              "      <td>live ammunition</td>\n",
              "      <td>Palestinian civilians</td>\n",
              "    </tr>\n",
              "  </tbody>\n",
              "</table>\n",
              "<p>11124 rows × 10 columns</p>\n",
              "</div>\n",
              "    <div class=\"colab-df-buttons\">\n",
              "\n",
              "  <div class=\"colab-df-container\">\n",
              "    <button class=\"colab-df-convert\" onclick=\"convertToInteractive('df-6eb2d128-89b3-493f-8b27-c7edf1670523')\"\n",
              "            title=\"Convert this dataframe to an interactive table.\"\n",
              "            style=\"display:none;\">\n",
              "\n",
              "  <svg xmlns=\"http://www.w3.org/2000/svg\" height=\"24px\" viewBox=\"0 -960 960 960\">\n",
              "    <path d=\"M120-120v-720h720v720H120Zm60-500h600v-160H180v160Zm220 220h160v-160H400v160Zm0 220h160v-160H400v160ZM180-400h160v-160H180v160Zm440 0h160v-160H620v160ZM180-180h160v-160H180v160Zm440 0h160v-160H620v160Z\"/>\n",
              "  </svg>\n",
              "    </button>\n",
              "\n",
              "  <style>\n",
              "    .colab-df-container {\n",
              "      display:flex;\n",
              "      gap: 12px;\n",
              "    }\n",
              "\n",
              "    .colab-df-convert {\n",
              "      background-color: #E8F0FE;\n",
              "      border: none;\n",
              "      border-radius: 50%;\n",
              "      cursor: pointer;\n",
              "      display: none;\n",
              "      fill: #1967D2;\n",
              "      height: 32px;\n",
              "      padding: 0 0 0 0;\n",
              "      width: 32px;\n",
              "    }\n",
              "\n",
              "    .colab-df-convert:hover {\n",
              "      background-color: #E2EBFA;\n",
              "      box-shadow: 0px 1px 2px rgba(60, 64, 67, 0.3), 0px 1px 3px 1px rgba(60, 64, 67, 0.15);\n",
              "      fill: #174EA6;\n",
              "    }\n",
              "\n",
              "    .colab-df-buttons div {\n",
              "      margin-bottom: 4px;\n",
              "    }\n",
              "\n",
              "    [theme=dark] .colab-df-convert {\n",
              "      background-color: #3B4455;\n",
              "      fill: #D2E3FC;\n",
              "    }\n",
              "\n",
              "    [theme=dark] .colab-df-convert:hover {\n",
              "      background-color: #434B5C;\n",
              "      box-shadow: 0px 1px 3px 1px rgba(0, 0, 0, 0.15);\n",
              "      filter: drop-shadow(0px 1px 2px rgba(0, 0, 0, 0.3));\n",
              "      fill: #FFFFFF;\n",
              "    }\n",
              "  </style>\n",
              "\n",
              "    <script>\n",
              "      const buttonEl =\n",
              "        document.querySelector('#df-6eb2d128-89b3-493f-8b27-c7edf1670523 button.colab-df-convert');\n",
              "      buttonEl.style.display =\n",
              "        google.colab.kernel.accessAllowed ? 'block' : 'none';\n",
              "\n",
              "      async function convertToInteractive(key) {\n",
              "        const element = document.querySelector('#df-6eb2d128-89b3-493f-8b27-c7edf1670523');\n",
              "        const dataTable =\n",
              "          await google.colab.kernel.invokeFunction('convertToInteractive',\n",
              "                                                    [key], {});\n",
              "        if (!dataTable) return;\n",
              "\n",
              "        const docLinkHtml = 'Like what you see? Visit the ' +\n",
              "          '<a target=\"_blank\" href=https://colab.research.google.com/notebooks/data_table.ipynb>data table notebook</a>'\n",
              "          + ' to learn more about interactive tables.';\n",
              "        element.innerHTML = '';\n",
              "        dataTable['output_type'] = 'display_data';\n",
              "        await google.colab.output.renderOutput(dataTable, element);\n",
              "        const docLink = document.createElement('div');\n",
              "        docLink.innerHTML = docLinkHtml;\n",
              "        element.appendChild(docLink);\n",
              "      }\n",
              "    </script>\n",
              "  </div>\n",
              "\n",
              "\n",
              "<div id=\"df-37ef72ea-b812-4106-9036-7bc900a2cc38\">\n",
              "  <button class=\"colab-df-quickchart\" onclick=\"quickchart('df-37ef72ea-b812-4106-9036-7bc900a2cc38')\"\n",
              "            title=\"Suggest charts\"\n",
              "            style=\"display:none;\">\n",
              "\n",
              "<svg xmlns=\"http://www.w3.org/2000/svg\" height=\"24px\"viewBox=\"0 0 24 24\"\n",
              "     width=\"24px\">\n",
              "    <g>\n",
              "        <path d=\"M19 3H5c-1.1 0-2 .9-2 2v14c0 1.1.9 2 2 2h14c1.1 0 2-.9 2-2V5c0-1.1-.9-2-2-2zM9 17H7v-7h2v7zm4 0h-2V7h2v10zm4 0h-2v-4h2v4z\"/>\n",
              "    </g>\n",
              "</svg>\n",
              "  </button>\n",
              "\n",
              "<style>\n",
              "  .colab-df-quickchart {\n",
              "      --bg-color: #E8F0FE;\n",
              "      --fill-color: #1967D2;\n",
              "      --hover-bg-color: #E2EBFA;\n",
              "      --hover-fill-color: #174EA6;\n",
              "      --disabled-fill-color: #AAA;\n",
              "      --disabled-bg-color: #DDD;\n",
              "  }\n",
              "\n",
              "  [theme=dark] .colab-df-quickchart {\n",
              "      --bg-color: #3B4455;\n",
              "      --fill-color: #D2E3FC;\n",
              "      --hover-bg-color: #434B5C;\n",
              "      --hover-fill-color: #FFFFFF;\n",
              "      --disabled-bg-color: #3B4455;\n",
              "      --disabled-fill-color: #666;\n",
              "  }\n",
              "\n",
              "  .colab-df-quickchart {\n",
              "    background-color: var(--bg-color);\n",
              "    border: none;\n",
              "    border-radius: 50%;\n",
              "    cursor: pointer;\n",
              "    display: none;\n",
              "    fill: var(--fill-color);\n",
              "    height: 32px;\n",
              "    padding: 0;\n",
              "    width: 32px;\n",
              "  }\n",
              "\n",
              "  .colab-df-quickchart:hover {\n",
              "    background-color: var(--hover-bg-color);\n",
              "    box-shadow: 0 1px 2px rgba(60, 64, 67, 0.3), 0 1px 3px 1px rgba(60, 64, 67, 0.15);\n",
              "    fill: var(--button-hover-fill-color);\n",
              "  }\n",
              "\n",
              "  .colab-df-quickchart-complete:disabled,\n",
              "  .colab-df-quickchart-complete:disabled:hover {\n",
              "    background-color: var(--disabled-bg-color);\n",
              "    fill: var(--disabled-fill-color);\n",
              "    box-shadow: none;\n",
              "  }\n",
              "\n",
              "  .colab-df-spinner {\n",
              "    border: 2px solid var(--fill-color);\n",
              "    border-color: transparent;\n",
              "    border-bottom-color: var(--fill-color);\n",
              "    animation:\n",
              "      spin 1s steps(1) infinite;\n",
              "  }\n",
              "\n",
              "  @keyframes spin {\n",
              "    0% {\n",
              "      border-color: transparent;\n",
              "      border-bottom-color: var(--fill-color);\n",
              "      border-left-color: var(--fill-color);\n",
              "    }\n",
              "    20% {\n",
              "      border-color: transparent;\n",
              "      border-left-color: var(--fill-color);\n",
              "      border-top-color: var(--fill-color);\n",
              "    }\n",
              "    30% {\n",
              "      border-color: transparent;\n",
              "      border-left-color: var(--fill-color);\n",
              "      border-top-color: var(--fill-color);\n",
              "      border-right-color: var(--fill-color);\n",
              "    }\n",
              "    40% {\n",
              "      border-color: transparent;\n",
              "      border-right-color: var(--fill-color);\n",
              "      border-top-color: var(--fill-color);\n",
              "    }\n",
              "    60% {\n",
              "      border-color: transparent;\n",
              "      border-right-color: var(--fill-color);\n",
              "    }\n",
              "    80% {\n",
              "      border-color: transparent;\n",
              "      border-right-color: var(--fill-color);\n",
              "      border-bottom-color: var(--fill-color);\n",
              "    }\n",
              "    90% {\n",
              "      border-color: transparent;\n",
              "      border-bottom-color: var(--fill-color);\n",
              "    }\n",
              "  }\n",
              "</style>\n",
              "\n",
              "  <script>\n",
              "    async function quickchart(key) {\n",
              "      const quickchartButtonEl =\n",
              "        document.querySelector('#' + key + ' button');\n",
              "      quickchartButtonEl.disabled = true;  // To prevent multiple clicks.\n",
              "      quickchartButtonEl.classList.add('colab-df-spinner');\n",
              "      try {\n",
              "        const charts = await google.colab.kernel.invokeFunction(\n",
              "            'suggestCharts', [key], {});\n",
              "      } catch (error) {\n",
              "        console.error('Error during call to suggestCharts:', error);\n",
              "      }\n",
              "      quickchartButtonEl.classList.remove('colab-df-spinner');\n",
              "      quickchartButtonEl.classList.add('colab-df-quickchart-complete');\n",
              "    }\n",
              "    (() => {\n",
              "      let quickchartButtonEl =\n",
              "        document.querySelector('#df-37ef72ea-b812-4106-9036-7bc900a2cc38 button');\n",
              "      quickchartButtonEl.style.display =\n",
              "        google.colab.kernel.accessAllowed ? 'block' : 'none';\n",
              "    })();\n",
              "  </script>\n",
              "</div>\n",
              "    </div>\n",
              "  </div>\n"
            ]
          },
          "metadata": {},
          "execution_count": 53
        }
      ]
    },
    {
      "cell_type": "code",
      "source": [
        "df.info()"
      ],
      "metadata": {
        "colab": {
          "base_uri": "https://localhost:8080/"
        },
        "id": "OA1gn6C2PBj5",
        "outputId": "3f7e0275-dbec-4c61-a834-1c3b3455f726"
      },
      "execution_count": 54,
      "outputs": [
        {
          "output_type": "stream",
          "name": "stdout",
          "text": [
            "<class 'pandas.core.frame.DataFrame'>\n",
            "RangeIndex: 11124 entries, 0 to 11123\n",
            "Data columns (total 10 columns):\n",
            " #   Column                   Non-Null Count  Dtype  \n",
            "---  ------                   --------------  -----  \n",
            " 0   date_of_event            11124 non-null  object \n",
            " 1   age                      10995 non-null  float64\n",
            " 2   citizenship              11124 non-null  object \n",
            " 3   event_location           11124 non-null  object \n",
            " 4   event_location_district  11124 non-null  object \n",
            " 5   event_location_region    11124 non-null  object \n",
            " 6   gender                   11104 non-null  object \n",
            " 7   type_of_injury           10833 non-null  object \n",
            " 8   ammunition               5871 non-null   object \n",
            " 9   killed_by                11124 non-null  object \n",
            "dtypes: float64(1), object(9)\n",
            "memory usage: 869.2+ KB\n"
          ]
        }
      ]
    },
    {
      "cell_type": "markdown",
      "source": [
        "For now, we shall remove the null values found in `age` and `type_of_injury` columns. The null values in the `ammunition` column will be assumed as intentional."
      ],
      "metadata": {
        "id": "xIZUomY4ptu6"
      }
    },
    {
      "cell_type": "code",
      "source": [
        "df.dropna(subset=['age', 'type_of_injury'], inplace=True)"
      ],
      "metadata": {
        "id": "NRVyiFB_RGGU"
      },
      "execution_count": 55,
      "outputs": []
    },
    {
      "cell_type": "markdown",
      "source": [
        "## 4. Data Analysis\n",
        "Now, we can finally do the analysis with the cleaned and filtered data, we will answer all the questions we have identified earlier."
      ],
      "metadata": {
        "id": "MqcvMt6wsDbJ"
      }
    },
    {
      "cell_type": "code",
      "source": [
        "# IMPORT MATPLOTLIB\n",
        "import matplotlib.pyplot as plt"
      ],
      "metadata": {
        "id": "F7uaxjMNTz8H"
      },
      "execution_count": 70,
      "outputs": []
    },
    {
      "cell_type": "markdown",
      "source": [
        "1. What is the mostly used weapon in the conflict?\n",
        "\n",
        "To answer this question, we will use the .groupby() from Pandas to group the DataFrame by `ammunition` column and `count` as the amount of occurences it showed up on the `df`."
      ],
      "metadata": {
        "id": "Y1Q7zyVoV9GI"
      }
    },
    {
      "cell_type": "code",
      "source": [
        "df_ammunition = df.groupby(['ammunition']).size().reset_index(name='count')"
      ],
      "metadata": {
        "id": "e2-58h3GWldt"
      },
      "execution_count": 120,
      "outputs": []
    },
    {
      "cell_type": "code",
      "source": [
        "plt.bar(df_ammunition['ammunition'], df_ammunition['count'], color = \"#30A3DA\")\n",
        "plt.xticks(rotation=90)\n",
        "plt.xlabel('Ammunition')\n",
        "plt.ylabel('Count')\n",
        "plt.title('Count of Types of Ammunition Used in The Conflict')\n",
        "plt.show()"
      ],
      "metadata": {
        "colab": {
          "base_uri": "https://localhost:8080/",
          "height": 651
        },
        "id": "hiQCZWF8XD_x",
        "outputId": "7e3c3f3a-548b-41d1-cc19-5092ae75e28b"
      },
      "execution_count": 114,
      "outputs": [
        {
          "output_type": "display_data",
          "data": {
            "text/plain": [
              "<Figure size 640x480 with 1 Axes>"
            ],
            "image/png": "[encoded data removed]"
          },
          "metadata": {}
        }
      ]
    },
    {
      "cell_type": "markdown",
      "source": [
        "**Insight**:\n",
        "- Primary Ammunition Type: The insight indicates that missiles are the main ammunition used in the conflict. This implies that the conflict involves advanced weaponry capable of long-range attacks. Missiles are generally sophisticated and can be employed in various military scenarios, including air-to-ground or ground-to-ground operations.\n",
        "- Frequency of Use: The graph shows that the number of occurrences of missile usage (2861) almost doubles that of live ammunition (1510). This suggests that missiles are extensively employed in the conflict compared to live ammunition."
      ],
      "metadata": {
        "id": "00DlJ_4aYkv_"
      }
    },
    {
      "cell_type": "markdown",
      "source": [
        "2. Where is the district region with the most conflict?\n",
        "\n",
        "To answer this question, we will use the .groupby() from Pandas to group the DataFrame by `event_location_district` column and `count` as the amount of occurences it showed up on the `df`."
      ],
      "metadata": {
        "id": "ecOfy4IPZ8SD"
      }
    },
    {
      "cell_type": "code",
      "source": [
        "df_district = df.groupby(['event_location_district']).size().reset_index(name='count')"
      ],
      "metadata": {
        "id": "bGGflwGqam_Q"
      },
      "execution_count": 85,
      "outputs": []
    },
    {
      "cell_type": "code",
      "source": [
        "plt.bar(df_district['event_location_district'], df_district['count'], color = \"#30A3DA\")\n",
        "plt.xticks(rotation=90)\n",
        "plt.xlabel('District')\n",
        "plt.ylabel('Count')\n",
        "plt.title('Count of Conflict Occurence by District')\n",
        "plt.show()"
      ],
      "metadata": {
        "colab": {
          "base_uri": "https://localhost:8080/",
          "height": 603
        },
        "id": "1G36u6HAapkQ",
        "outputId": "c22e6959-2d15-414a-e52c-0930b933ebd9"
      },
      "execution_count": 115,
      "outputs": [
        {
          "output_type": "display_data",
          "data": {
            "text/plain": [
              "<Figure size 640x480 with 1 Axes>"
            ],
            "image/png": "[encoded data removed]"
          },
          "metadata": {}
        }
      ]
    },
    {
      "cell_type": "markdown",
      "source": [
        "**Insight**:\n",
        "- Based on the graph, we can conclude that most of the conflict happens in Palestinian territory, with the 3 most occurences happening in Gaza, North Gazam and Khan Yunis by order of frequency."
      ],
      "metadata": {
        "id": "_v2xNtNNbPKI"
      }
    },
    {
      "cell_type": "markdown",
      "source": [
        "3. Who is the the most affected by the conflict based on age and gender?\n",
        "\n",
        "First, let's do a simple descriptive analysis of the `age` and `gender` columns."
      ],
      "metadata": {
        "id": "meDDYSnXuBOo"
      }
    },
    {
      "cell_type": "code",
      "source": [
        "print(f\"Mean age : {df['age'].mean()}\")\n",
        "print(f\"Median age : {df['age'].median()}\")\n",
        "print(f\"Mode age : {df['age'].mode()[0]}\")\n",
        "print(f\"Standar deviation : {df['age'].std()}\")\n",
        "print(f\"Skewness age: {df['age'].skew()}\")"
      ],
      "metadata": {
        "colab": {
          "base_uri": "https://localhost:8080/"
        },
        "id": "wbd8yf9YsE7K",
        "outputId": "48e1571c-e4ff-4471-830d-2e190a445ed9"
      },
      "execution_count": 59,
      "outputs": [
        {
          "output_type": "stream",
          "name": "stdout",
          "text": [
            "Mean age : 26.69143177151391\n",
            "Median age : 23.0\n",
            "Mode age : 22.0\n",
            "Standar deviation : 13.73911107392046\n",
            "Skewness age: 1.3853387554332095\n"
          ]
        }
      ]
    },
    {
      "cell_type": "code",
      "source": [
        "print(f\"Number of women affected by the conflict : {df['gender'][df['gender'] == 'F'].count()}\")\n",
        "print(f\"Number of men affected by the conflict : {df['gender'][df['gender'] == 'M'].count()}\")"
      ],
      "metadata": {
        "colab": {
          "base_uri": "https://localhost:8080/"
        },
        "id": "FJFURqFHuk08",
        "outputId": "c73bd13f-cae8-42bf-ab89-5565a9ca783f"
      },
      "execution_count": 57,
      "outputs": [
        {
          "output_type": "stream",
          "name": "stdout",
          "text": [
            "Number of women affected by the conflict : 1369\n",
            "Number of men affected by the conflict : 9345\n"
          ]
        }
      ]
    },
    {
      "cell_type": "code",
      "source": [
        "# FINDING THE UPPER AND LOWER BOUNDARY OF 'age' COLUMN\n",
        "q1 = df['age'].quantile(0.25)\n",
        "q3 = df['age'].quantile(0.75)\n",
        "iqr = q3 - q1\n",
        "\n",
        "# Tukey's Rule\n",
        "up_bound = q3 + 1.5 * iqr\n",
        "low_bound = q1 - 1.5 * iqr\n",
        "\n",
        "print(f'Upper Boundary: {up_bound:.2f}')\n",
        "print(f'Lower Boundary: {low_bound:.2f}')"
      ],
      "metadata": {
        "colab": {
          "base_uri": "https://localhost:8080/"
        },
        "id": "lES_d8qKpYir",
        "outputId": "2ca5fd5f-30f4-4fa6-c160-b2cea7a60ed5"
      },
      "execution_count": 122,
      "outputs": [
        {
          "output_type": "stream",
          "name": "stdout",
          "text": [
            "Upper Boundary: 49.00\n",
            "Lower Boundary: 1.00\n"
          ]
        }
      ]
    },
    {
      "cell_type": "markdown",
      "source": [
        "Now let us visualize the previous analysis, with `age` as the x-axis and `count` as the amount of occurences it showed up on the `df`."
      ],
      "metadata": {
        "id": "584QhtztSLXA"
      }
    },
    {
      "cell_type": "code",
      "source": [
        "df_age = df.groupby('age').size().reset_index(name='count')"
      ],
      "metadata": {
        "id": "nWqB904iSP5v"
      },
      "execution_count": 64,
      "outputs": []
    },
    {
      "cell_type": "code",
      "source": [
        "plt.bar(df_age['age'], df_age['count'], color = \"#30A3DA\")\n",
        "plt.xlabel('Age')\n",
        "plt.ylabel('Count')\n",
        "plt.title('Count of People Affected by Conflict for Each Age')\n",
        "plt.show()"
      ],
      "metadata": {
        "colab": {
          "base_uri": "https://localhost:8080/",
          "height": 472
        },
        "id": "MDC1gN1oT-iu",
        "outputId": "7da3a41b-70b3-4dc8-e71b-c4ae596e0593"
      },
      "execution_count": 116,
      "outputs": [
        {
          "output_type": "display_data",
          "data": {
            "text/plain": [
              "<Figure size 640x480 with 1 Axes>"
            ],
            "image/png": "[encoded data removed]"
          },
          "metadata": {}
        }
      ]
    },
    {
      "cell_type": "markdown",
      "source": [
        "**Insight**:\n",
        "\n",
        "- Mean Age (26 years old): The mean age provides an average value and is influenced by extreme values. In this case, the mean age of 26 suggests that, on average, the population affected by the conflict is relatively young.\n",
        "\n",
        "- Median Age (23 years old): The median represents the middle point of the dataset when arranged in ascending order. The fact that the median age (23) is lower than the mean suggests that there are some higher age values pulling the mean up, indicating a positively skewed distribution.\n",
        "\n",
        "- Mode Age (22 years old): The mode is the age that appears most frequently in the dataset. In this case, 22 years old is the most common age among the affected population.\n",
        "\n",
        "- Positive Skew (Skewness over 1): A positive skewness indicates that the distribution of ages is skewed to the right, meaning there are relatively more younger individuals in the population than older ones. The tail of the distribution extends towards higher ages.\n",
        "\n",
        "- Finally, men are mostly affected by the conflict (~87 %): This coincides with the assumption that men are more likely to be sent or join the conflict voluntarily. Further analysis could be done since Israel also deploy female soldiers meanwhile the Palestinian resistance do not, the analysis couldn't be done here since the dataset doesn't include whether the individual is a civilian or a soldier."
      ],
      "metadata": {
        "id": "iOfxIn7AvtpW"
      }
    },
    {
      "cell_type": "markdown",
      "source": [
        "4. Who is the most responsible for the fatalities based on citizenship?\n",
        "\n",
        "To answer this question, we will use the .groupby() from Pandas to group the DataFrame by `killed_by` column and `count` as the amount of occurences it showed up on the `df`."
      ],
      "metadata": {
        "id": "n902vZwlcA_L"
      }
    },
    {
      "cell_type": "code",
      "source": [
        "df_killed_by = df.groupby(['killed_by']).size().reset_index(name='count')\n",
        "df_killed_by"
      ],
      "metadata": {
        "colab": {
          "base_uri": "https://localhost:8080/",
          "height": 144
        },
        "id": "VuwwUrlOcMpl",
        "outputId": "0b6291d9-e247-4e49-8b3a-ab47e45c4a76"
      },
      "execution_count": 91,
      "outputs": [
        {
          "output_type": "execute_result",
          "data": {
            "text/plain": [
              "                 killed_by  count\n",
              "0        Israeli civilians     92\n",
              "1  Israeli security forces   9615\n",
              "2    Palestinian civilians   1007"
            ],
            "text/html": [
              "\n",
              "  <div id=\"df-9a5a7829-61ef-47ae-931b-08d9bca5e1f4\" class=\"colab-df-container\">\n",
              "    <div>\n",
              "<style scoped>\n",
              "    .dataframe tbody tr th:only-of-type {\n",
              "        vertical-align: middle;\n",
              "    }\n",
              "\n",
              "    .dataframe tbody tr th {\n",
              "        vertical-align: top;\n",
              "    }\n",
              "\n",
              "    .dataframe thead th {\n",
              "        text-align: right;\n",
              "    }\n",
              "</style>\n",
              "<table border=\"1\" class=\"dataframe\">\n",
              "  <thead>\n",
              "    <tr style=\"text-align: right;\">\n",
              "      <th></th>\n",
              "      <th>killed_by</th>\n",
              "      <th>count</th>\n",
              "    </tr>\n",
              "  </thead>\n",
              "  <tbody>\n",
              "    <tr>\n",
              "      <th>0</th>\n",
              "      <td>Israeli civilians</td>\n",
              "      <td>92</td>\n",
              "    </tr>\n",
              "    <tr>\n",
              "      <th>1</th>\n",
              "      <td>Israeli security forces</td>\n",
              "      <td>9615</td>\n",
              "    </tr>\n",
              "    <tr>\n",
              "      <th>2</th>\n",
              "      <td>Palestinian civilians</td>\n",
              "      <td>1007</td>\n",
              "    </tr>\n",
              "  </tbody>\n",
              "</table>\n",
              "</div>\n",
              "    <div class=\"colab-df-buttons\">\n",
              "\n",
              "  <div class=\"colab-df-container\">\n",
              "    <button class=\"colab-df-convert\" onclick=\"convertToInteractive('df-9a5a7829-61ef-47ae-931b-08d9bca5e1f4')\"\n",
              "            title=\"Convert this dataframe to an interactive table.\"\n",
              "            style=\"display:none;\">\n",
              "\n",
              "  <svg xmlns=\"http://www.w3.org/2000/svg\" height=\"24px\" viewBox=\"0 -960 960 960\">\n",
              "    <path d=\"M120-120v-720h720v720H120Zm60-500h600v-160H180v160Zm220 220h160v-160H400v160Zm0 220h160v-160H400v160ZM180-400h160v-160H180v160Zm440 0h160v-160H620v160ZM180-180h160v-160H180v160Zm440 0h160v-160H620v160Z\"/>\n",
              "  </svg>\n",
              "    </button>\n",
              "\n",
              "  <style>\n",
              "    .colab-df-container {\n",
              "      display:flex;\n",
              "      gap: 12px;\n",
              "    }\n",
              "\n",
              "    .colab-df-convert {\n",
              "      background-color: #E8F0FE;\n",
              "      border: none;\n",
              "      border-radius: 50%;\n",
              "      cursor: pointer;\n",
              "      display: none;\n",
              "      fill: #1967D2;\n",
              "      height: 32px;\n",
              "      padding: 0 0 0 0;\n",
              "      width: 32px;\n",
              "    }\n",
              "\n",
              "    .colab-df-convert:hover {\n",
              "      background-color: #E2EBFA;\n",
              "      box-shadow: 0px 1px 2px rgba(60, 64, 67, 0.3), 0px 1px 3px 1px rgba(60, 64, 67, 0.15);\n",
              "      fill: #174EA6;\n",
              "    }\n",
              "\n",
              "    .colab-df-buttons div {\n",
              "      margin-bottom: 4px;\n",
              "    }\n",
              "\n",
              "    [theme=dark] .colab-df-convert {\n",
              "      background-color: #3B4455;\n",
              "      fill: #D2E3FC;\n",
              "    }\n",
              "\n",
              "    [theme=dark] .colab-df-convert:hover {\n",
              "      background-color: #434B5C;\n",
              "      box-shadow: 0px 1px 3px 1px rgba(0, 0, 0, 0.15);\n",
              "      filter: drop-shadow(0px 1px 2px rgba(0, 0, 0, 0.3));\n",
              "      fill: #FFFFFF;\n",
              "    }\n",
              "  </style>\n",
              "\n",
              "    <script>\n",
              "      const buttonEl =\n",
              "        document.querySelector('#df-9a5a7829-61ef-47ae-931b-08d9bca5e1f4 button.colab-df-convert');\n",
              "      buttonEl.style.display =\n",
              "        google.colab.kernel.accessAllowed ? 'block' : 'none';\n",
              "\n",
              "      async function convertToInteractive(key) {\n",
              "        const element = document.querySelector('#df-9a5a7829-61ef-47ae-931b-08d9bca5e1f4');\n",
              "        const dataTable =\n",
              "          await google.colab.kernel.invokeFunction('convertToInteractive',\n",
              "                                                    [key], {});\n",
              "        if (!dataTable) return;\n",
              "\n",
              "        const docLinkHtml = 'Like what you see? Visit the ' +\n",
              "          '<a target=\"_blank\" href=https://colab.research.google.com/notebooks/data_table.ipynb>data table notebook</a>'\n",
              "          + ' to learn more about interactive tables.';\n",
              "        element.innerHTML = '';\n",
              "        dataTable['output_type'] = 'display_data';\n",
              "        await google.colab.output.renderOutput(dataTable, element);\n",
              "        const docLink = document.createElement('div');\n",
              "        docLink.innerHTML = docLinkHtml;\n",
              "        element.appendChild(docLink);\n",
              "      }\n",
              "    </script>\n",
              "  </div>\n",
              "\n",
              "\n",
              "<div id=\"df-be6f958c-9972-45b6-aad9-58c137ef9ce3\">\n",
              "  <button class=\"colab-df-quickchart\" onclick=\"quickchart('df-be6f958c-9972-45b6-aad9-58c137ef9ce3')\"\n",
              "            title=\"Suggest charts\"\n",
              "            style=\"display:none;\">\n",
              "\n",
              "<svg xmlns=\"http://www.w3.org/2000/svg\" height=\"24px\"viewBox=\"0 0 24 24\"\n",
              "     width=\"24px\">\n",
              "    <g>\n",
              "        <path d=\"M19 3H5c-1.1 0-2 .9-2 2v14c0 1.1.9 2 2 2h14c1.1 0 2-.9 2-2V5c0-1.1-.9-2-2-2zM9 17H7v-7h2v7zm4 0h-2V7h2v10zm4 0h-2v-4h2v4z\"/>\n",
              "    </g>\n",
              "</svg>\n",
              "  </button>\n",
              "\n",
              "<style>\n",
              "  .colab-df-quickchart {\n",
              "      --bg-color: #E8F0FE;\n",
              "      --fill-color: #1967D2;\n",
              "      --hover-bg-color: #E2EBFA;\n",
              "      --hover-fill-color: #174EA6;\n",
              "      --disabled-fill-color: #AAA;\n",
              "      --disabled-bg-color: #DDD;\n",
              "  }\n",
              "\n",
              "  [theme=dark] .colab-df-quickchart {\n",
              "      --bg-color: #3B4455;\n",
              "      --fill-color: #D2E3FC;\n",
              "      --hover-bg-color: #434B5C;\n",
              "      --hover-fill-color: #FFFFFF;\n",
              "      --disabled-bg-color: #3B4455;\n",
              "      --disabled-fill-color: #666;\n",
              "  }\n",
              "\n",
              "  .colab-df-quickchart {\n",
              "    background-color: var(--bg-color);\n",
              "    border: none;\n",
              "    border-radius: 50%;\n",
              "    cursor: pointer;\n",
              "    display: none;\n",
              "    fill: var(--fill-color);\n",
              "    height: 32px;\n",
              "    padding: 0;\n",
              "    width: 32px;\n",
              "  }\n",
              "\n",
              "  .colab-df-quickchart:hover {\n",
              "    background-color: var(--hover-bg-color);\n",
              "    box-shadow: 0 1px 2px rgba(60, 64, 67, 0.3), 0 1px 3px 1px rgba(60, 64, 67, 0.15);\n",
              "    fill: var(--button-hover-fill-color);\n",
              "  }\n",
              "\n",
              "  .colab-df-quickchart-complete:disabled,\n",
              "  .colab-df-quickchart-complete:disabled:hover {\n",
              "    background-color: var(--disabled-bg-color);\n",
              "    fill: var(--disabled-fill-color);\n",
              "    box-shadow: none;\n",
              "  }\n",
              "\n",
              "  .colab-df-spinner {\n",
              "    border: 2px solid var(--fill-color);\n",
              "    border-color: transparent;\n",
              "    border-bottom-color: var(--fill-color);\n",
              "    animation:\n",
              "      spin 1s steps(1) infinite;\n",
              "  }\n",
              "\n",
              "  @keyframes spin {\n",
              "    0% {\n",
              "      border-color: transparent;\n",
              "      border-bottom-color: var(--fill-color);\n",
              "      border-left-color: var(--fill-color);\n",
              "    }\n",
              "    20% {\n",
              "      border-color: transparent;\n",
              "      border-left-color: var(--fill-color);\n",
              "      border-top-color: var(--fill-color);\n",
              "    }\n",
              "    30% {\n",
              "      border-color: transparent;\n",
              "      border-left-color: var(--fill-color);\n",
              "      border-top-color: var(--fill-color);\n",
              "      border-right-color: var(--fill-color);\n",
              "    }\n",
              "    40% {\n",
              "      border-color: transparent;\n",
              "      border-right-color: var(--fill-color);\n",
              "      border-top-color: var(--fill-color);\n",
              "    }\n",
              "    60% {\n",
              "      border-color: transparent;\n",
              "      border-right-color: var(--fill-color);\n",
              "    }\n",
              "    80% {\n",
              "      border-color: transparent;\n",
              "      border-right-color: var(--fill-color);\n",
              "      border-bottom-color: var(--fill-color);\n",
              "    }\n",
              "    90% {\n",
              "      border-color: transparent;\n",
              "      border-bottom-color: var(--fill-color);\n",
              "    }\n",
              "  }\n",
              "</style>\n",
              "\n",
              "  <script>\n",
              "    async function quickchart(key) {\n",
              "      const quickchartButtonEl =\n",
              "        document.querySelector('#' + key + ' button');\n",
              "      quickchartButtonEl.disabled = true;  // To prevent multiple clicks.\n",
              "      quickchartButtonEl.classList.add('colab-df-spinner');\n",
              "      try {\n",
              "        const charts = await google.colab.kernel.invokeFunction(\n",
              "            'suggestCharts', [key], {});\n",
              "      } catch (error) {\n",
              "        console.error('Error during call to suggestCharts:', error);\n",
              "      }\n",
              "      quickchartButtonEl.classList.remove('colab-df-spinner');\n",
              "      quickchartButtonEl.classList.add('colab-df-quickchart-complete');\n",
              "    }\n",
              "    (() => {\n",
              "      let quickchartButtonEl =\n",
              "        document.querySelector('#df-be6f958c-9972-45b6-aad9-58c137ef9ce3 button');\n",
              "      quickchartButtonEl.style.display =\n",
              "        google.colab.kernel.accessAllowed ? 'block' : 'none';\n",
              "    })();\n",
              "  </script>\n",
              "</div>\n",
              "    </div>\n",
              "  </div>\n"
            ]
          },
          "metadata": {},
          "execution_count": 91
        }
      ]
    },
    {
      "cell_type": "code",
      "source": [
        "plt.bar(df_killed_by['killed_by'], df_killed_by['count'], color = \"#30A3DA\")\n",
        "plt.xlabel('Fatalities')\n",
        "plt.ylabel('Count')\n",
        "plt.title('Count of Fatalities Invoked by Citizenship')\n",
        "plt.show()"
      ],
      "metadata": {
        "colab": {
          "base_uri": "https://localhost:8080/",
          "height": 472
        },
        "id": "hMJCyQB3c3xT",
        "outputId": "f7852ba9-5b66-4802-a359-5364d0433027"
      },
      "execution_count": 117,
      "outputs": [
        {
          "output_type": "display_data",
          "data": {
            "text/plain": [
              "<Figure size 640x480 with 1 Axes>"
            ],
            "image/png": "[encoded data removed]"
          },
          "metadata": {}
        }
      ]
    },
    {
      "cell_type": "markdown",
      "source": [
        "**Insight**:\n",
        "- The Israeli Security Forces is responsible for 9615 or about ~89% of the fatalities that happened in the conflict. The responsibility for a large proportion of fatalities by the Israeli Security Forces raises questions about the nature of their involvement, the tactics employed, and the potential impact on civilian populations."
      ],
      "metadata": {
        "id": "uDaM8_qCeBSY"
      }
    },
    {
      "cell_type": "markdown",
      "source": [
        "5. **When** is there spikes or increase in fatalities in the conflict?\n",
        "\n",
        "To answer this question, we would need to change the format of `date_of_event` values into a DateTime data type."
      ],
      "metadata": {
        "id": "8rLjSSRWgmM_"
      }
    },
    {
      "cell_type": "code",
      "source": [
        "df['datetime'] = pd.to_datetime(df['date_of_event'])"
      ],
      "metadata": {
        "id": "lTbjN8Wvg-Cg"
      },
      "execution_count": 95,
      "outputs": []
    },
    {
      "cell_type": "code",
      "source": [
        "df['datetime'].dtype"
      ],
      "metadata": {
        "colab": {
          "base_uri": "https://localhost:8080/"
        },
        "id": "Scnw2WSuhKIQ",
        "outputId": "30293d97-c663-4726-a1c0-817410336789"
      },
      "execution_count": 100,
      "outputs": [
        {
          "output_type": "execute_result",
          "data": {
            "text/plain": [
              "dtype('<M8[ns]')"
            ]
          },
          "metadata": {},
          "execution_count": 100
        }
      ]
    },
    {
      "cell_type": "markdown",
      "source": [
        "Now we can use the same .groupby() method we've been using to group the df by `date_of_event` column and `count`."
      ],
      "metadata": {
        "id": "Y_byexefhtc9"
      }
    },
    {
      "cell_type": "code",
      "source": [
        "df_date = df.groupby(['date_of_event']).size().reset_index(name='count')"
      ],
      "metadata": {
        "id": "7c2KVvf0h38Q"
      },
      "execution_count": null,
      "outputs": []
    },
    {
      "cell_type": "code",
      "source": [
        "plt.figure(figsize=(20, 6))\n",
        "plt.plot(df_date['date_of_event'], df_date['count'], color = \"#30A3DA\")\n",
        "plt.xticks(df_date['date_of_event'][::30], rotation = 90)\n",
        "plt.xlabel('Date')\n",
        "plt.ylabel('Count')\n",
        "plt.title('Count of Fatalities by Date')\n",
        "plt.show()"
      ],
      "metadata": {
        "colab": {
          "base_uri": "https://localhost:8080/",
          "height": 631
        },
        "id": "uJgBW1Oxh99P",
        "outputId": "fc4038a7-65cf-43aa-e3da-23191d08a0ca"
      },
      "execution_count": 118,
      "outputs": [
        {
          "output_type": "display_data",
          "data": {
            "text/plain": [
              "<Figure size 2000x600 with 1 Axes>"
            ],
            "image/png": "[encoded data removed]"
          },
          "metadata": {}
        }
      ]
    },
    {
      "cell_type": "markdown",
      "source": [
        "**Insight**:\n",
        "- The graph identifies two distinct spikes in conflict occurrences: one between 26th of December 2008 and 14th of February 2009, and another between 17th of July 2014 and 21st of August 2014. These, along with the many smaller spikes indicate the long on-going conflict over the period of 23 years in Palestine."
      ],
      "metadata": {
        "id": "q4UIeUJcmmeA"
      }
    },
    {
      "cell_type": "markdown",
      "source": [
        "## 5. Conclusion\n",
        "- `Fatalities by Demographic Patterns`:\n",
        "\n",
        "The affected population has a predominantly young demographic, with a mean age of 26 and a mode at 22 years old. The positive skewness suggests a concentration of younger individuals, potentially indicating the impact on a specific age group.\n",
        "\n",
        "- `Fatalities by Ammunition (weapon) Type`:\n",
        "\n",
        "Missiles emerge as the primary ammunition used in the conflict, with a significant increase in occurrences compared to live ammunition. This points towards the likelihood of a long-distance artillery clash.\n",
        "\n",
        "- `Fatalities by District`:\n",
        "\n",
        "Most conflict occurrences are concentrated in Palestinian territory, with Gaza, North Gaza, and Khan Yunis experiencing the highest frequencies.\n",
        "\n",
        "- `Fatalities by Citizenship`:\n",
        "\n",
        "The Israeli Security Forces are responsible for a substantial portion (~89%) of the fatalities, emphasizing their significant role in the conflict.\n",
        "\n",
        "- `Fatalities by Date`:\n",
        "\n",
        "Two notable spikes in conflict occurrences are identified, one between 2008-12-26 and 2009-02-14 and another between 2014-07-17 and 2014-08-21. These spikes suggest periods of intensified conflict activity, demanding a closer examination of events and triggers during these timeframes."
      ],
      "metadata": {
        "id": "L8zGjk2TqhCT"
      }
    },
    {
      "cell_type": "code",
      "source": [
        "df.to_csv('palestine1.csv')"
      ],
      "metadata": {
        "id": "R8JfVQlzwDsV"
      },
      "execution_count": 123,
      "outputs": []
    }
  ]
}